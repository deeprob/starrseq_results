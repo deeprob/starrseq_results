{
 "cells": [
  {
   "cell_type": "code",
   "execution_count": 1,
   "metadata": {},
   "outputs": [],
   "source": [
    "import os\n",
    "import numpy as np\n",
    "from scipy.stats import ttest_ind\n",
    "import pandas as pd\n",
    "\n",
    "\n",
    "# plotting modules\n",
    "import seaborn as sns\n",
    "from matplotlib.ticker import MultipleLocator\n",
    "import matplotlib\n",
    "import matplotlib.pyplot as plt\n",
    "matplotlib.rcParams['pdf.fonttype'] = 42\n",
    "matplotlib.rcParams['ps.fonttype'] = 42\n",
    "matplotlib.rcParams['font.sans-serif'] = \"Arial\" # missing fonts:: https://alexanderlabwhoi.github.io/post/2021-03-missingfont/\n",
    "# Then, \"ALWAYS use sans-serif fonts\"\n",
    "matplotlib.rcParams['font.family'] = \"sans-serif\"\n",
    "matplotlib.rcParams.update({'font.size': 7, 'axes.linewidth': 1, 'xtick.major.width': 1, 'xtick.major.size': 3, 'ytick.major.width': 1, 'ytick.major.size': 3})\n",
    "from matplotlib.backends.backend_pdf import PdfPages"
   ]
  },
  {
   "cell_type": "code",
   "execution_count": 2,
   "metadata": {},
   "outputs": [],
   "source": [
    "def save_pdf(save_file, fig):\n",
    "    pdf = PdfPages(save_file)\n",
    "    pdf.savefig(fig, bbox_inches='tight')\n",
    "    pdf.close()\n",
    "    return"
   ]
  },
  {
   "cell_type": "code",
   "execution_count": 3,
   "metadata": {},
   "outputs": [],
   "source": [
    "peak_cov_dir = \"/data5/deepro/starrseq/papers/reproducibility/5_peak_qc/data/peak_cov\"\n",
    "control_cov_dir = \"/data5/deepro/starrseq/papers/reproducibility/5_peak_qc/data/neg_control_cov\"\n",
    "libnames = [\"CC\", \"ATF2\", \"CTCF\", \"FOXA1\", \"LEF1\", \"SCRT1\", \"TCF7L2\", \"16P12_1\"]"
   ]
  },
  {
   "cell_type": "code",
   "execution_count": 4,
   "metadata": {},
   "outputs": [],
   "source": [
    "def read_cov_files(cov_dir, lib_short):\n",
    "    in_file = os.path.join(cov_dir, lib_short, \"input.csv\")\n",
    "    out_file = os.path.join(cov_dir, lib_short, \"output.csv\")\n",
    "    in_df = pd.read_csv(in_file, index_col=[0,1,2])\n",
    "    out_df = pd.read_csv(out_file, index_col=[0,1,2])\n",
    "    return in_df, out_df\n",
    "\n",
    "\n",
    "def get_rpkm_norm_df(df):\n",
    "    reg_kilo_lens = (df.index.get_level_values(2) - df.index.get_level_values(1))*1000\n",
    "    return df.div(reg_kilo_lens, axis=0)\n",
    "\n",
    "\n",
    "def get_lib_fc_df(peak_cov_dir, control_cov_dir, lib_name):\n",
    "    # read rpm normalized cov files\n",
    "    in_peak_cov_df, lib_peak_cov_df = read_cov_files(peak_cov_dir, lib_name)\n",
    "    in_neg_control_cov_df, lib_neg_control_cov_df = read_cov_files(control_cov_dir, lib_name)\n",
    "    # create fold change dfs\n",
    "    peak_fc_df = lib_peak_cov_df.div(in_peak_cov_df).mean(axis=1).to_frame(name=\"fold_change\")\n",
    "    peak_fc_df = np.log2(peak_fc_df)\n",
    "    peak_fc_df[\"type\"] = \"peaks\"\n",
    "    neg_control_fc_df = lib_neg_control_cov_df.div(in_neg_control_cov_df).replace([np.inf, -np.inf], np.nan).dropna().mean(axis=1).to_frame(name=\"fold_change\")\n",
    "    neg_control_fc_df = np.log2(neg_control_fc_df)\n",
    "    neg_control_fc_df[\"type\"] = \"negative controls\"\n",
    "    # assign same column names for consistency\n",
    "    neg_control_fc_df.columns = peak_fc_df.columns\n",
    "    fc_df = pd.concat((peak_fc_df, neg_control_fc_df))\n",
    "    fc_df[\"library\"] = lib_name\n",
    "    # fc_df = fc_df.melt(id_vars=[\"type\", \"library\"], value_vars=[\"Replicate 1\", \"Replicate 2\", \"Replicate 3\"], var_name=\"Replicates\", value_name=\"Fold Change\")\n",
    "    return fc_df.reset_index(drop=True).loc[:, [\"library\", \"type\", \"fold_change\"]]\n"
   ]
  },
  {
   "cell_type": "code",
   "execution_count": 5,
   "metadata": {},
   "outputs": [],
   "source": [
    "fc_dfs = [get_lib_fc_df(peak_cov_dir, control_cov_dir, lib_name) for lib_name in libnames]"
   ]
  },
  {
   "cell_type": "code",
   "execution_count": 6,
   "metadata": {},
   "outputs": [],
   "source": [
    "plot_df = pd.concat(fc_dfs)"
   ]
  },
  {
   "cell_type": "code",
   "execution_count": 10,
   "metadata": {},
   "outputs": [],
   "source": [
    "def create_boxplot(\n",
    "    box_df, xcol, ycol, hue_col, hue_order, xticklabels, ylimits, \n",
    "    figsize=(8, 5), palette=[\"#08509b\", \"#a30f15\"]):\n",
    "\n",
    "    # Define Canvas\n",
    "    fig,ax = plt.subplots(1, 1, figsize=figsize)\n",
    "\n",
    "    # Box Plot\n",
    "\n",
    "    sns_ax = sns.boxplot(\n",
    "        data=box_df,\n",
    "        x=xcol,\n",
    "        y=ycol,\n",
    "        hue=hue_col,\n",
    "        hue_order=hue_order,\n",
    "        palette=palette,  # '#D1245D', '#00ADEE', '#D1245D', '#00ADEE' \"#0000a7\" \"#c1272d\"\n",
    "        orient=\"v\",\n",
    "        width=0.45,\n",
    "        linewidth=1,\n",
    "        fliersize=0., capprops={'color':'none'}, boxprops={'edgecolor':'k'}, whiskerprops={'color':'k'}, medianprops={'color':'k'},\n",
    "        ax=ax\n",
    "        )\n",
    "    \n",
    "    line_start=ylimits[-1]-0.5\n",
    "    for i,lib in enumerate(xticklabels):\n",
    "        peaks = box_df.loc[(box_df[xcol]==lib)&(box_df[hue_col]==hue_order[0]), ycol]\n",
    "        ncont = box_df.loc[(box_df[xcol]==lib)&(box_df[hue_col]==hue_order[1]), ycol]\n",
    "        res = ttest_ind(peaks, ncont, alternative=\"two-sided\")\n",
    "        stats,pvalue = res.statistic, res.pvalue\n",
    "\n",
    "        ax.hlines(line_start, i-0.1, i+0.1, color=\"k\", linewidth=1)\n",
    "        ax.text(i, line_start, f\"P={pvalue:.2E}\", ha=\"center\", va=\"bottom\", fontsize=6)\n",
    "\n",
    "\n",
    "    # Adjust Axis\n",
    "    ax.set_xlabel(\"\")\n",
    "    ax.set_ylim(ylimits)\n",
    "    ax.set_xticklabels(xticklabels, rotation=90) # sns_ax.get_xticklabels(\n",
    "\n",
    "    # Remove Spines\n",
    "    ax.spines['right'].set_visible(False)\n",
    "    ax.spines['top'].set_visible(False)\n",
    "\n",
    "    # legend below as multiple columns\n",
    "    h,l = ax.get_legend_handles_labels()\n",
    "    ax.legend_.remove()\n",
    "    ax.legend(h,l, loc=\"upper center\", ncol=len(hue_order), bbox_to_anchor=(0.5, -0.25))\n",
    "    return fig, ax"
   ]
  },
  {
   "cell_type": "code",
   "execution_count": 11,
   "metadata": {},
   "outputs": [
    {
     "data": {
      "image/png": "[encoded data removed]",
      "text/plain": [
       "<Figure size 432x108 with 1 Axes>"
      ]
     },
     "metadata": {
      "needs_background": "light"
     },
     "output_type": "display_data"
    }
   ],
   "source": [
    "fig,ax = create_boxplot(\n",
    "    plot_df, \"library\", \"fold_change\", \"type\", [\"negative controls\", \"peaks\"], libnames, (-2, 6), \n",
    "    figsize=(6,1.5), palette=[\"#1e61a5\", \"#dc2924\"])"
   ]
  },
  {
   "cell_type": "code",
   "execution_count": 12,
   "metadata": {},
   "outputs": [],
   "source": [
    "save_file = \"../data/figures/peaks_vs_controls.pdf\"\n",
    "save_pdf(save_file, fig)"
   ]
  },
  {
   "cell_type": "code",
   "execution_count": null,
   "metadata": {},
   "outputs": [],
   "source": []
  }
 ],
 "metadata": {
  "kernelspec": {
   "display_name": "starrseq",
   "language": "python",
   "name": "python3"
  },
  "language_info": {
   "codemirror_mode": {
    "name": "ipython",
    "version": 3
   },
   "file_extension": ".py",
   "mimetype": "text/x-python",
   "name": "python",
   "nbconvert_exporter": "python",
   "pygments_lexer": "ipython3",
   "version": "3.9.16"
  },
  "orig_nbformat": 4
 },
 "nbformat": 4,
 "nbformat_minor": 2
}
