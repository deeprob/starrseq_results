{
 "cells": [
  {
   "cell_type": "code",
   "execution_count": 1,
   "metadata": {},
   "outputs": [],
   "source": [
    "import numpy as np\n",
    "from scipy.stats import pearsonr\n",
    "import pandas as pd\n",
    "\n",
    "\n",
    "# plotting modules\n",
    "import seaborn as sns\n",
    "from matplotlib.ticker import MultipleLocator\n",
    "import matplotlib\n",
    "import matplotlib.pyplot as plt\n",
    "matplotlib.rcParams['pdf.fonttype'] = 42\n",
    "matplotlib.rcParams['ps.fonttype'] = 42\n",
    "matplotlib.rcParams['font.sans-serif'] = \"Arial\" # missing fonts:: https://alexanderlabwhoi.github.io/post/2021-03-missingfont/\n",
    "# Then, \"ALWAYS use sans-serif fonts\"\n",
    "matplotlib.rcParams['font.family'] = \"sans-serif\"\n",
    "matplotlib.rcParams.update({'font.size': 14, 'axes.linewidth': 2, 'xtick.major.width': 1.5, 'xtick.major.size': 5, 'ytick.major.width': 1.5, 'ytick.major.size': 4})\n",
    "from matplotlib.backends.backend_pdf import PdfPages\n",
    "\n",
    "# for custom legend\n",
    "from matplotlib.patches import Patch\n",
    "from matplotlib.lines import Line2D"
   ]
  },
  {
   "cell_type": "code",
   "execution_count": 2,
   "metadata": {},
   "outputs": [],
   "source": [
    "def save_pdf(save_file, fig):\n",
    "    pdf = PdfPages(save_file)\n",
    "    pdf.savefig(fig, bbox_inches='tight')\n",
    "    pdf.close()\n",
    "    return"
   ]
  },
  {
   "cell_type": "code",
   "execution_count": 3,
   "metadata": {},
   "outputs": [],
   "source": [
    "all_lib_names = [\"IN\", \"CC\", \"ATF2\", \"CTCF\", \"FOXA1\", \"LEF1\", \"SCRT1\", \"TCF7L2\", \"16P12_1\"]\n",
    "meta_frag_cov_file = \"/data5/deepro/starrseq/papers/reproducibility/3_read_lib_qc/data/in_house/cov/meta_cov.csv\"\n",
    "meta_peak_cov_file = \"/data5/deepro/starrseq/papers/reproducibility/5_peak_qc/data/peak_cov/meta_cov.csv\"\n"
   ]
  },
  {
   "cell_type": "code",
   "execution_count": 4,
   "metadata": {},
   "outputs": [],
   "source": [
    "def create_frag_lib_dfs(meta_frag_cov_df, all_lib_names):\n",
    "    frag_cov_dfs = []\n",
    "    for lib_name in all_lib_names:\n",
    "        lib_cov_df = meta_frag_cov_df.loc[:, [c for c in meta_frag_cov_df.columns if f\"{lib_name}_\" in c]]\n",
    "        frag_cov_dfs.append(lib_cov_df)\n",
    "    return frag_cov_dfs\n",
    "\n",
    "def create_peak_fc_lib_dfs(meta_peak_cov_df, all_lib_names, in_lib_name):\n",
    "    peak_fc_dfs = []\n",
    "\n",
    "    for lib_name in all_lib_names:\n",
    "        in_peak_cov_df = meta_peak_cov_df.loc[:, [c for c in meta_peak_cov_df.columns if f\"{in_lib_name}_\" in c]]\n",
    "        out_peak_cov_df = meta_peak_cov_df.loc[:, [c for c in meta_peak_cov_df.columns if f\"{lib_name}_\" in c]]\n",
    "        lib_peak_fc_df = out_peak_cov_df.div(in_peak_cov_df.values, axis=\"index\")\n",
    "        lib_peak_fc_df.index = meta_peak_cov_df.index\n",
    "        peak_fc_dfs.append(lib_peak_fc_df)\n",
    "    return peak_fc_dfs\n",
    "\n",
    "def get_within_replicate_correlation(df):\n",
    "    pcorrs = dict()\n",
    "    scorrs = dict()\n",
    "    for i in range(df.shape[1]):\n",
    "        for j in range(i+1, df.shape[1]):\n",
    "            replicates = f\"Replicate {i+1} vs {j+1}\"\n",
    "            prep_corr = df.iloc[:, i].corr(df.iloc[:, j], method=\"pearson\")\n",
    "            srep_corr = df.iloc[:, i].corr(df.iloc[:, j], method=\"spearman\")\n",
    "            pcorrs[replicates] = round(prep_corr, 4)\n",
    "            scorrs[replicates] = round(srep_corr, 4)\n",
    "    return pcorrs, scorrs\n",
    "\n",
    "def make_lib_corr_df(all_lib_names, lib_dfs):\n",
    "    data_dict = {\n",
    "        \"library\": [],\n",
    "        \"replicates\": [],\n",
    "        \"pearson correlation\": [],\n",
    "        \"spearman correlation\": []\n",
    "    }\n",
    "\n",
    "\n",
    "    for lib_name, lib_df in zip(all_lib_names, lib_dfs):\n",
    "        pcorrs, scorrs = get_within_replicate_correlation(lib_df)\n",
    "        for r,c in pcorrs.items():\n",
    "            data_dict[\"library\"].append(lib_name)\n",
    "            data_dict[\"replicates\"].append(r)\n",
    "            data_dict[\"pearson correlation\"].append(c)\n",
    "            data_dict[\"spearman correlation\"].append(scorrs[r])\n",
    "        \n",
    "    df_lib_corr = pd.DataFrame(data_dict)\n",
    "    return df_lib_corr"
   ]
  },
  {
   "cell_type": "code",
   "execution_count": 5,
   "metadata": {},
   "outputs": [],
   "source": [
    "meta_frag_cov_df = pd.read_csv(meta_frag_cov_file)\n",
    "meta_peak_cov_df = pd.read_csv(meta_peak_cov_file, index_col=[0,1,2]).drop_duplicates()"
   ]
  },
  {
   "cell_type": "code",
   "execution_count": 6,
   "metadata": {},
   "outputs": [],
   "source": [
    "frag_read_dfs = create_frag_lib_dfs(meta_frag_cov_df, all_lib_names)\n",
    "peak_fc_dfs = create_peak_fc_lib_dfs(meta_peak_cov_df, all_lib_names, \"IN\")"
   ]
  },
  {
   "cell_type": "code",
   "execution_count": 7,
   "metadata": {},
   "outputs": [
    {
     "name": "stderr",
     "output_type": "stream",
     "text": [
      "/data5/deepro/miniconda3/envs/starrseq/lib/python3.9/site-packages/scipy/stats/stats.py:4484: SpearmanRConstantInputWarning: An input array is constant; the correlation coefficient is not defined.\n",
      "  warnings.warn(SpearmanRConstantInputWarning())\n"
     ]
    }
   ],
   "source": [
    "lib_frag_corr_df = make_lib_corr_df(all_lib_names, frag_read_dfs)\n",
    "lib_peak_corr_df = make_lib_corr_df(all_lib_names, peak_fc_dfs)"
   ]
  },
  {
   "cell_type": "code",
   "execution_count": 8,
   "metadata": {},
   "outputs": [
    {
     "data": {
      "text/plain": [
       "array(['Replicate 1 vs 2', 'Replicate 1 vs 3', 'Replicate 2 vs 3'],\n",
       "      dtype=object)"
      ]
     },
     "execution_count": 8,
     "metadata": {},
     "output_type": "execute_result"
    }
   ],
   "source": [
    "lib_frag_corr_df.replicates.unique()"
   ]
  },
  {
   "cell_type": "code",
   "execution_count": 9,
   "metadata": {},
   "outputs": [],
   "source": [
    "colors_to_use = [\"#08509b\", \"#ff7f0e\", \"#dc2924\"]"
   ]
  },
  {
   "cell_type": "code",
   "execution_count": null,
   "metadata": {},
   "outputs": [],
   "source": []
  },
  {
   "cell_type": "code",
   "execution_count": 10,
   "metadata": {},
   "outputs": [
    {
     "data": {
      "text/plain": [
       "<matplotlib.legend.Legend at 0x7f356066d160>"
      ]
     },
     "execution_count": 10,
     "metadata": {},
     "output_type": "execute_result"
    },
    {
     "data": {
      "image/png": "[encoded data removed]",
      "text/plain": [
       "<Figure size 576x324 with 1 Axes>"
      ]
     },
     "metadata": {
      "needs_background": "light"
     },
     "output_type": "display_data"
    }
   ],
   "source": [
    "fig, ax = plt.subplots(1,1, figsize=(8, 4.5))\n",
    "\n",
    "read_ax = sns.stripplot(\n",
    "    data=lib_frag_corr_df, x=\"library\", y=\"spearman correlation\", hue=\"replicates\", palette=colors_to_use, s=10, linewidth=1.5, marker=\"o\", edgecolor=\"k\", \n",
    "    ax=ax, order=all_lib_names, hue_order=lib_frag_corr_df.replicates.unique(),\n",
    ")\n",
    "\n",
    "peak_ax = sns.stripplot(\n",
    "    data=lib_peak_corr_df, x=\"library\", y=\"spearman correlation\", hue=\"replicates\", palette=colors_to_use, s=10, linewidth=1.5, marker=\"X\",edgecolor=\"k\", \n",
    "    ax=ax, order=all_lib_names, hue_order=lib_frag_corr_df.replicates.unique(),\n",
    ")\n",
    "# \n",
    "read_ax.legend_.remove()\n",
    "\n",
    "ax.set_xlabel(\"\")\n",
    "ax.set_ylabel(\"\")\n",
    "ax.set_xticklabels(ax.get_xticklabels(), rotation=90)\n",
    "fig.subplots_adjust(top=1.5, bottom=0.5)\n",
    "ax.set_ylim([0.5, 1.0])\n",
    "ax.set_yticks([0.5, 0.6, 0.7, 0.8, 0.9, 1])\n",
    "ax.set_yticklabels(list(map(str, [0.5, 0.6, 0.7, 0.8, 0.9, 1])))\n",
    "ax.spines[['right', 'top']].set_visible(False)\n",
    "\n",
    "# add your own legends\n",
    "legend1_elements = [Line2D([0], [0], marker='o', markerfacecolor=\"#08509b\", label='Replicate 1 vs 2', color='w', markersize=15),\n",
    "                   Line2D([0], [0], marker='o', markerfacecolor=\"#ff7f0e\", label='Replicate 1 vs 3', color='w', markersize=15),\n",
    "                   Line2D([0], [0], marker='o', markerfacecolor=\"#dc2924\", label='Replicate 2 vs 3', color='w', markersize=15),\n",
    "                   ]\n",
    "legend2_elements = [Line2D([0], [0], marker='o', markerfacecolor=\"w\", label='Read correlation', color='w', markersize=12, markeredgecolor=\"k\", markeredgewidth=1.),\n",
    "                   Line2D([0], [0], marker='X', markerfacecolor=\"w\", label='Peak FC correlation', color='w', markersize=12, markeredgecolor=\"k\", markeredgewidth=1.),\n",
    "                   ]\n",
    "legend1 = ax.legend(handles=legend1_elements, loc=(0.01,0.1), ncol=3, frameon=False, columnspacing=0.8)\n",
    "legend2 = ax.legend(handles=legend2_elements, loc=(0.15,0.01), ncol=3, frameon=False, columnspacing=0.8)\n",
    "ax.add_artist(legend1)\n",
    "ax.add_artist(legend2)\n",
    "# peak_ax.legend(loc=(0.01,0.07), prop={\"size\": 16}, ncol=3)"
   ]
  },
  {
   "cell_type": "code",
   "execution_count": null,
   "metadata": {},
   "outputs": [],
   "source": []
  },
  {
   "cell_type": "code",
   "execution_count": 11,
   "metadata": {},
   "outputs": [],
   "source": [
    "save_file = \"../data/figures/read_peak_corr.pdf\"\n",
    "save_pdf(save_file, fig)"
   ]
  },
  {
   "cell_type": "code",
   "execution_count": null,
   "metadata": {},
   "outputs": [],
   "source": []
  }
 ],
 "metadata": {
  "kernelspec": {
   "display_name": "starrseq",
   "language": "python",
   "name": "python3"
  },
  "language_info": {
   "codemirror_mode": {
    "name": "ipython",
    "version": 3
   },
   "file_extension": ".py",
   "mimetype": "text/x-python",
   "name": "python",
   "nbconvert_exporter": "python",
   "pygments_lexer": "ipython3",
   "version": "3.9.16"
  },
  "orig_nbformat": 4
 },
 "nbformat": 4,
 "nbformat_minor": 2
}
