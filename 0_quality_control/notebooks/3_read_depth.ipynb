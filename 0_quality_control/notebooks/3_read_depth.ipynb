{
 "cells": [
  {
   "cell_type": "code",
   "execution_count": 1,
   "metadata": {},
   "outputs": [
    {
     "name": "stderr",
     "output_type": "stream",
     "text": [
      "/data5/deepro/miniconda3/envs/starrseq/lib/python3.9/site-packages/scipy/__init__.py:146: UserWarning: A NumPy version >=1.16.5 and <1.23.0 is required for this version of SciPy (detected version 1.25.0\n",
      "  warnings.warn(f\"A NumPy version >={np_minversion} and <{np_maxversion}\"\n"
     ]
    }
   ],
   "source": [
    "import re\n",
    "import os\n",
    "import numpy as np\n",
    "import pandas as pd\n",
    "\n",
    "# plotting modules\n",
    "import seaborn as sns\n",
    "from matplotlib.ticker import MultipleLocator\n",
    "import matplotlib\n",
    "import matplotlib.pyplot as plt\n",
    "matplotlib.rcParams['pdf.fonttype'] = 42\n",
    "matplotlib.rcParams['ps.fonttype'] = 42\n",
    "matplotlib.rcParams['font.sans-serif'] = \"Arial\" # missing fonts:: https://alexanderlabwhoi.github.io/post/2021-03-missingfont/\n",
    "# Then, \"ALWAYS use sans-serif fonts\"\n",
    "matplotlib.rcParams['font.family'] = \"sans-serif\"\n",
    "matplotlib.rcParams.update({'font.size': 14, 'axes.linewidth': 2, 'xtick.major.width': 1.5, 'xtick.major.size': 5, 'ytick.major.width': 1.5, 'ytick.major.size': 4})\n",
    "from matplotlib.backends.backend_pdf import PdfPages"
   ]
  },
  {
   "cell_type": "code",
   "execution_count": 2,
   "metadata": {},
   "outputs": [],
   "source": [
    "def save_pdf(save_file, fig):\n",
    "    pdf = PdfPages(save_file)\n",
    "    pdf.savefig(fig, bbox_inches='tight', dpi=300)\n",
    "    pdf.close()\n",
    "    return"
   ]
  },
  {
   "cell_type": "code",
   "execution_count": 3,
   "metadata": {},
   "outputs": [],
   "source": [
    "master_file = \"/data5/deepro/starrseq/papers/reproducibility/0_in-house_dataset/data/master/master.bed\"\n",
    "depth_file = \"/data5/deepro/starrseq/papers/reproducibility/3_read_lib_qc/data/in_house/cov/meta_cov.csv\"\n",
    "lib_names = [\"IN\", \"CC\", \"ATF2\", \"CTCF\", \"FOXA1\", \"LEF1\", \"SCRT1\", \"TCF7L2\", \"16P12_1\"]"
   ]
  },
  {
   "cell_type": "code",
   "execution_count": 4,
   "metadata": {},
   "outputs": [],
   "source": [
    "def tpm_normalize(df):\n",
    "    # get length of regions in kilobases\n",
    "    length = (df.index.get_level_values(\"end\") - df.index.get_level_values(\"start\"))/1e3\n",
    "    # get per million scaling factor\n",
    "    pmscale = df.sum()/1e6\n",
    "    df = df.div(length, axis=0).div(pmscale)\n",
    "    return df\n",
    "    \n",
    "\n",
    "\n",
    "def create_depth_df(master_file, depth_file):\n",
    "    master_df = pd.read_csv(master_file, sep=\"\\t\", header=None, usecols=[0,1,2], names=[\"chr\", \"start\", \"end\"])\n",
    "    depth_df = pd.read_csv(depth_file)\n",
    "    df = pd.concat((master_df, depth_df), axis=1)\n",
    "    df = df.set_index([\"chr\", \"start\", \"end\"])\n",
    "    df = tpm_normalize(df)\n",
    "    # get mean tpm per regions\n",
    "    category_dict = dict(zip(df.columns, [re.sub(r'_R\\d', '', c) for c in df.columns]))\n",
    "    df = df.groupby(df.columns.map(category_dict.get), axis=1).mean()\n",
    "    return df"
   ]
  },
  {
   "cell_type": "code",
   "execution_count": 5,
   "metadata": {},
   "outputs": [],
   "source": [
    "df = create_depth_df(master_file, depth_file)"
   ]
  },
  {
   "cell_type": "code",
   "execution_count": 6,
   "metadata": {},
   "outputs": [],
   "source": [
    "plot_df = df.melt(var_name=\"library\", value_name=\"TPM normalized reads distribution\")"
   ]
  },
  {
   "cell_type": "code",
   "execution_count": 7,
   "metadata": {},
   "outputs": [
    {
     "data": {
      "text/html": [
       "<div>\n",
       "<style scoped>\n",
       "    .dataframe tbody tr th:only-of-type {\n",
       "        vertical-align: middle;\n",
       "    }\n",
       "\n",
       "    .dataframe tbody tr th {\n",
       "        vertical-align: top;\n",
       "    }\n",
       "\n",
       "    .dataframe thead th {\n",
       "        text-align: right;\n",
       "    }\n",
       "</style>\n",
       "<table border=\"1\" class=\"dataframe\">\n",
       "  <thead>\n",
       "    <tr style=\"text-align: right;\">\n",
       "      <th></th>\n",
       "      <th>16P12_1</th>\n",
       "      <th>ATF2</th>\n",
       "      <th>CC</th>\n",
       "      <th>CTCF</th>\n",
       "      <th>FOXA1</th>\n",
       "      <th>IN</th>\n",
       "      <th>LEF1</th>\n",
       "      <th>SCRT1</th>\n",
       "      <th>TCF7L2</th>\n",
       "    </tr>\n",
       "  </thead>\n",
       "  <tbody>\n",
       "    <tr>\n",
       "      <th>count</th>\n",
       "      <td>46142.000000</td>\n",
       "      <td>46142.000000</td>\n",
       "      <td>46142.000000</td>\n",
       "      <td>46142.000000</td>\n",
       "      <td>46142.000000</td>\n",
       "      <td>46142.000000</td>\n",
       "      <td>46142.000000</td>\n",
       "      <td>46142.000000</td>\n",
       "      <td>46142.000000</td>\n",
       "    </tr>\n",
       "    <tr>\n",
       "      <th>mean</th>\n",
       "      <td>28.748559</td>\n",
       "      <td>28.970338</td>\n",
       "      <td>28.666493</td>\n",
       "      <td>28.695188</td>\n",
       "      <td>28.414909</td>\n",
       "      <td>29.400135</td>\n",
       "      <td>28.752046</td>\n",
       "      <td>28.620475</td>\n",
       "      <td>28.539842</td>\n",
       "    </tr>\n",
       "    <tr>\n",
       "      <th>std</th>\n",
       "      <td>30.155695</td>\n",
       "      <td>28.473524</td>\n",
       "      <td>30.264636</td>\n",
       "      <td>27.031523</td>\n",
       "      <td>42.792454</td>\n",
       "      <td>14.619222</td>\n",
       "      <td>32.171040</td>\n",
       "      <td>33.278167</td>\n",
       "      <td>38.375079</td>\n",
       "    </tr>\n",
       "    <tr>\n",
       "      <th>min</th>\n",
       "      <td>0.000000</td>\n",
       "      <td>0.000000</td>\n",
       "      <td>0.000000</td>\n",
       "      <td>0.000000</td>\n",
       "      <td>0.000000</td>\n",
       "      <td>0.000000</td>\n",
       "      <td>0.000000</td>\n",
       "      <td>0.000000</td>\n",
       "      <td>0.000000</td>\n",
       "    </tr>\n",
       "    <tr>\n",
       "      <th>25%</th>\n",
       "      <td>14.405915</td>\n",
       "      <td>16.063811</td>\n",
       "      <td>13.743358</td>\n",
       "      <td>14.247130</td>\n",
       "      <td>12.145651</td>\n",
       "      <td>20.133234</td>\n",
       "      <td>13.937130</td>\n",
       "      <td>13.838966</td>\n",
       "      <td>12.704923</td>\n",
       "    </tr>\n",
       "    <tr>\n",
       "      <th>50%</th>\n",
       "      <td>22.460741</td>\n",
       "      <td>24.446816</td>\n",
       "      <td>22.000336</td>\n",
       "      <td>22.560734</td>\n",
       "      <td>19.601794</td>\n",
       "      <td>27.715988</td>\n",
       "      <td>22.177119</td>\n",
       "      <td>21.843481</td>\n",
       "      <td>20.507798</td>\n",
       "    </tr>\n",
       "    <tr>\n",
       "      <th>75%</th>\n",
       "      <td>34.271431</td>\n",
       "      <td>36.042922</td>\n",
       "      <td>34.461026</td>\n",
       "      <td>35.193396</td>\n",
       "      <td>31.787160</td>\n",
       "      <td>36.468821</td>\n",
       "      <td>34.488068</td>\n",
       "      <td>33.838673</td>\n",
       "      <td>32.836919</td>\n",
       "    </tr>\n",
       "    <tr>\n",
       "      <th>max</th>\n",
       "      <td>1121.624654</td>\n",
       "      <td>2828.655409</td>\n",
       "      <td>1229.132647</td>\n",
       "      <td>1077.384872</td>\n",
       "      <td>1742.328441</td>\n",
       "      <td>393.243305</td>\n",
       "      <td>1504.988931</td>\n",
       "      <td>1356.505867</td>\n",
       "      <td>1653.640332</td>\n",
       "    </tr>\n",
       "  </tbody>\n",
       "</table>\n",
       "</div>"
      ],
      "text/plain": [
       "            16P12_1          ATF2            CC          CTCF         FOXA1  \\\n",
       "count  46142.000000  46142.000000  46142.000000  46142.000000  46142.000000   \n",
       "mean      28.748559     28.970338     28.666493     28.695188     28.414909   \n",
       "std       30.155695     28.473524     30.264636     27.031523     42.792454   \n",
       "min        0.000000      0.000000      0.000000      0.000000      0.000000   \n",
       "25%       14.405915     16.063811     13.743358     14.247130     12.145651   \n",
       "50%       22.460741     24.446816     22.000336     22.560734     19.601794   \n",
       "75%       34.271431     36.042922     34.461026     35.193396     31.787160   \n",
       "max     1121.624654   2828.655409   1229.132647   1077.384872   1742.328441   \n",
       "\n",
       "                 IN          LEF1         SCRT1        TCF7L2  \n",
       "count  46142.000000  46142.000000  46142.000000  46142.000000  \n",
       "mean      29.400135     28.752046     28.620475     28.539842  \n",
       "std       14.619222     32.171040     33.278167     38.375079  \n",
       "min        0.000000      0.000000      0.000000      0.000000  \n",
       "25%       20.133234     13.937130     13.838966     12.704923  \n",
       "50%       27.715988     22.177119     21.843481     20.507798  \n",
       "75%       36.468821     34.488068     33.838673     32.836919  \n",
       "max      393.243305   1504.988931   1356.505867   1653.640332  "
      ]
     },
     "execution_count": 7,
     "metadata": {},
     "output_type": "execute_result"
    }
   ],
   "source": [
    "df.describe()"
   ]
  },
  {
   "cell_type": "code",
   "execution_count": 8,
   "metadata": {},
   "outputs": [
    {
     "data": {
      "image/png": "[encoded data removed]",
      "text/plain": [
       "<Figure size 576x288 with 1 Axes>"
      ]
     },
     "metadata": {
      "needs_background": "light"
     },
     "output_type": "display_data"
    }
   ],
   "source": [
    "ax = sns.catplot(\n",
    "    data=plot_df, \n",
    "    y=\"TPM normalized reads distribution\", \n",
    "    x=\"library\", \n",
    "    palette=\"Set2\", \n",
    "    height=4, \n",
    "    aspect=2, \n",
    "    kind=\"box\", \n",
    "    showfliers=False,\n",
    "    order=lib_names,\n",
    "    )\n",
    "ax.set_xticklabels(rotation=45);"
   ]
  },
  {
   "cell_type": "code",
   "execution_count": 14,
   "metadata": {},
   "outputs": [],
   "source": [
    "save_file = \"../data/figures/read_depth.pdf\"\n",
    "save_pdf(save_file, ax.fig)"
   ]
  },
  {
   "cell_type": "code",
   "execution_count": null,
   "metadata": {},
   "outputs": [],
   "source": []
  }
 ],
 "metadata": {
  "kernelspec": {
   "display_name": "starrseq",
   "language": "python",
   "name": "python3"
  },
  "language_info": {
   "codemirror_mode": {
    "name": "ipython",
    "version": 3
   },
   "file_extension": ".py",
   "mimetype": "text/x-python",
   "name": "python",
   "nbconvert_exporter": "python",
   "pygments_lexer": "ipython3",
   "version": "3.9.16"
  },
  "orig_nbformat": 4
 },
 "nbformat": 4,
 "nbformat_minor": 2
}
