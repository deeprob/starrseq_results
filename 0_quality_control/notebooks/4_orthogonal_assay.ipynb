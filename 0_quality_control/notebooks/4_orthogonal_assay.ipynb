{
 "cells": [
  {
   "cell_type": "code",
   "execution_count": 1,
   "metadata": {},
   "outputs": [],
   "source": [
    "import coolbox\n",
    "from coolbox.api import *\n",
    "\n",
    "# plotting modules\n",
    "import seaborn as sns\n",
    "from matplotlib.ticker import MultipleLocator\n",
    "import matplotlib\n",
    "import matplotlib.pyplot as plt\n",
    "matplotlib.rcParams['pdf.fonttype'] = 42\n",
    "matplotlib.rcParams['ps.fonttype'] = 42\n",
    "matplotlib.rcParams['font.sans-serif'] = \"Arial\" # missing fonts:: https://alexanderlabwhoi.github.io/post/2021-03-missingfont/\n",
    "# Then, \"ALWAYS use sans-serif fonts\"\n",
    "matplotlib.rcParams['font.family'] = \"sans-serif\"\n",
    "matplotlib.rcParams.update({'font.size': 14, 'axes.linewidth': 2, 'xtick.major.width': 1.5, 'xtick.major.size': 5, 'ytick.major.width': 1.5, 'ytick.major.size': 4})\n",
    "from matplotlib.backends.backend_pdf import PdfPages"
   ]
  },
  {
   "cell_type": "code",
   "execution_count": 2,
   "metadata": {},
   "outputs": [],
   "source": [
    "def save_pdf(save_file, fig):\n",
    "    pdf = PdfPages(save_file)\n",
    "    pdf.savefig(fig, bbox_inches='tight', dpi=300)\n",
    "    pdf.close()\n",
    "    return"
   ]
  },
  {
   "cell_type": "code",
   "execution_count": 3,
   "metadata": {},
   "outputs": [],
   "source": [
    "starr_in = \"/data5/deepro/starrseq/papers/reproducibility/2_dedup_align_filter/data/in_house/filtered/IN/Input_SeqReady_A1_R1_S1.bw\"\n",
    "starr_out = \"/data5/deepro/starrseq/papers/reproducibility/2_dedup_align_filter/data/in_house/filtered/CC/CC_R1_STARR_Seq_S4.bw\"\n",
    "dnase = \"/data5/deepro/starrseq/papers/results/6_link_da_enhancers_to_de_genes/data/open_chrom/dnaseseq/dnase.bw\""
   ]
  },
  {
   "cell_type": "code",
   "execution_count": 6,
   "metadata": {},
   "outputs": [],
   "source": [
    "frame = \\\n",
    "    BigWig(dnase, alpha=0.6) + Color(\"#ff9c9c\") + \\\n",
    "    BigWigCoverage(dnase, alpha=0.6, color=\"#66ccff\") + \\\n",
    "    Title(\"Open Chromatin\") + \\\n",
    "    MinValue(0) + MaxValue(200) + \\\n",
    "    BigWig(starr_out, alpha=0.6) + Color(\"#ff9c9c\") + \\\n",
    "    BigWigCoverage(starr_out, alpha=0.6, color=\"#07fcbe\") + \\\n",
    "    Title(\"STARRSeq / Output\") + \\\n",
    "    MinValue(0) + MaxValue(600) + \\\n",
    "    BigWig(starr_in, alpha=0.6) + Color(\"#ff9c9c\") + \\\n",
    "    BigWigCoverage(starr_in, alpha=0.6, color=\"#fcbe07\") + \\\n",
    "    Title(\"STARRSeq / Input\") + \\\n",
    "    MinValue(0) + MaxValue(600)\n",
    "\n",
    "\n",
    "\n",
    "\n",
    "# frame *= MaxValue(1032)\n",
    "# frame *= MinValue(0)\n",
    "frame * TrackHeight(2.5)\n",
    "\n",
    "frame = XAxis() + frame\n",
    "# frame.plot(\"chr1:1-5000000\")\n",
    "fig = frame.plot(\"chr1:234696011-234703111\") # chr1:234699011-234701911 #\n"
   ]
  },
  {
   "cell_type": "code",
   "execution_count": 7,
   "metadata": {},
   "outputs": [],
   "source": [
    "save_file = \"../data/figures/open_chrom.pdf\"\n",
    "save_pdf(save_file, fig)"
   ]
  },
  {
   "cell_type": "code",
   "execution_count": null,
   "metadata": {},
   "outputs": [],
   "source": []
  }
 ],
 "metadata": {
  "kernelspec": {
   "display_name": "Python 3",
   "language": "python",
   "name": "python3"
  },
  "language_info": {
   "codemirror_mode": {
    "name": "ipython",
    "version": 3
   },
   "file_extension": ".py",
   "mimetype": "text/x-python",
   "name": "python",
   "nbconvert_exporter": "python",
   "pygments_lexer": "ipython3",
   "version": "3.9.16"
  },
  "orig_nbformat": 4
 },
 "nbformat": 4,
 "nbformat_minor": 2
}
