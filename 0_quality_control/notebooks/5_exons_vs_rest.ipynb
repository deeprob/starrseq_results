{
 "cells": [
  {
   "cell_type": "code",
   "execution_count": 1,
   "metadata": {},
   "outputs": [
    {
     "name": "stderr",
     "output_type": "stream",
     "text": [
      "/data5/deepro/miniconda3/envs/starrseq/lib/python3.9/site-packages/scipy/__init__.py:146: UserWarning: A NumPy version >=1.16.5 and <1.23.0 is required for this version of SciPy (detected version 1.25.0\n",
      "  warnings.warn(f\"A NumPy version >={np_minversion} and <{np_maxversion}\"\n"
     ]
    }
   ],
   "source": [
    "import os\n",
    "import numpy as np\n",
    "from scipy.stats import fisher_exact\n",
    "import pandas as pd\n",
    "import pybedtools\n",
    "\n",
    "CURRENT_DIR_PATH = os.path.dirname(os.path.abspath(\"__file__\"))\n",
    "pybedtools.helpers.set_tempdir(CURRENT_DIR_PATH)\n"
   ]
  },
  {
   "cell_type": "code",
   "execution_count": 2,
   "metadata": {},
   "outputs": [],
   "source": [
    "negative_controls_file = \"/data5/deepro/starrseq/papers/reproducibility/5_peak_qc/data/negative_controls.bed\"\n",
    "master_fragments_file = \"/data5/deepro/starrseq/papers/results/1_compare_activity_ko_vs_wt/data/window/IN/master_filtered_windows.bed\"\n",
    "refseq_file = \"/data5/deepro/starrseq/papers/reproducibility/0_in-house_dataset/data/tss/Refseq_hg38_gene_coordinates.txt\""
   ]
  },
  {
   "cell_type": "code",
   "execution_count": 3,
   "metadata": {},
   "outputs": [],
   "source": [
    "def parse_gtf_to_get_gene_coords(gtf_file):\n",
    "    gtf_df = pd.read_csv(gtf_file, sep=\"\\t\", low_memory=False, usecols=[\"chrom\", \"txStart\", \"txEnd\", \"name2\"])\n",
    "    gtf_df = gtf_df.groupby(\"name2\").agg({\"chrom\": lambda x: list(x)[0], \"txStart\": min, \"txEnd\": max})\n",
    "    return gtf_df.reset_index().rename(columns={\"name2\": \"gene\"}).loc[:, [\"chrom\", \"txStart\", \"txEnd\", \"gene\"]]"
   ]
  },
  {
   "cell_type": "code",
   "execution_count": 4,
   "metadata": {},
   "outputs": [],
   "source": [
    "exon_bed = pybedtools.BedTool(negative_controls_file)\n",
    "master_bed = pybedtools.BedTool(master_fragments_file)\n",
    "gene_df = parse_gtf_to_get_gene_coords(refseq_file)\n",
    "gene_bed = pybedtools.BedTool.from_dataframe(gene_df)\n",
    "intron_bed = gene_bed - exon_bed"
   ]
  },
  {
   "cell_type": "code",
   "execution_count": 5,
   "metadata": {},
   "outputs": [],
   "source": [
    "# exonic fragments within the master\n",
    "exon_fragments = master_bed.intersect(exon_bed, f=0.95, F=0.95, e=True, u=True)"
   ]
  },
  {
   "cell_type": "code",
   "execution_count": 6,
   "metadata": {},
   "outputs": [],
   "source": [
    "# intronic fragments within master\n",
    "intron_fragments = master_bed.intersect(intron_bed, f=0.95, F=0.95, e=True, u=True)"
   ]
  },
  {
   "cell_type": "code",
   "execution_count": 7,
   "metadata": {},
   "outputs": [],
   "source": [
    "# intronic and intergenic fragments within master\n",
    "other_fragments = master_bed.intersect(exon_bed, f=0.95, F=0.95, e=True, v=True)"
   ]
  },
  {
   "cell_type": "code",
   "execution_count": 8,
   "metadata": {},
   "outputs": [],
   "source": [
    "nexons_fragments, nintron_fragments, nother_fragments = len(exon_fragments), len(intron_fragments), len(other_fragments)"
   ]
  },
  {
   "cell_type": "code",
   "execution_count": 9,
   "metadata": {},
   "outputs": [
    {
     "name": "stdout",
     "output_type": "stream",
     "text": [
      "CC\n",
      "[[    59   1091]\n",
      " [  6482 117667]]\n",
      "(0.9816867184342681, 0.4794330602242858)\n",
      "ATF2\n",
      "[[    22    395]\n",
      " [  6519 118363]]\n",
      "(1.0112547354276982, 0.5765590906601616)\n",
      "FOXA1\n",
      "[[    62   1334]\n",
      " [  6479 117424]]\n",
      "(0.8423348134545168, 0.10259678436706286)\n",
      "LEF1\n",
      "[[    76    934]\n",
      " [  6465 117824]]\n",
      "(1.4829685789566949, 0.999300660095073)\n",
      "SCRT1\n",
      "[[    45   1074]\n",
      " [  6496 117684]]\n",
      "(0.759066172221152, 0.03677733456328781)\n",
      "TCF7L2\n",
      "[[    78   1296]\n",
      " [  6463 117462]]\n",
      "(1.0938375711313975, 0.7972446665779745)\n",
      "16P12_1\n",
      "[[    56   1204]\n",
      " [  6485 117554]]\n",
      "(0.8431191838052035, 0.11717863426451983)\n"
     ]
    }
   ],
   "source": [
    "# \n",
    "libs= [\"CC\", \"ATF2\", \"FOXA1\", \"LEF1\", \"SCRT1\", \"TCF7L2\", \"16P12_1\"]\n",
    "peak_dir = \"/data5/deepro/starrseq/papers/results/2_categorize_fragments_on_activity/data\"\n",
    "peak_dict = dict()\n",
    "\n",
    "for lib in libs:\n",
    "    peak_file = os.path.join(peak_dir, lib, \"peaks.bed\")\n",
    "    peak_bed = pybedtools.BedTool(peak_file)\n",
    "    peaks_in_exons = peak_bed.intersect(exon_fragments, f=1, u=True)\n",
    "    peaks_in_others = peak_bed.intersect(intron_fragments, f=1, u=True)\n",
    "    peak_dict[lib] = (len(peaks_in_exons), len(peaks_in_others))\n",
    "    cont_table = np.array([[peak_dict[lib][0], peak_dict[lib][1]], [nexons_fragments - peak_dict[lib][0], nintron_fragments-peak_dict[lib][1]]])\n",
    "    res = fisher_exact(cont_table, alternative='less')\n",
    "    print(lib)\n",
    "    print(cont_table)\n",
    "    print(res)"
   ]
  },
  {
   "cell_type": "code",
   "execution_count": 10,
   "metadata": {},
   "outputs": [
    {
     "name": "stdout",
     "output_type": "stream",
     "text": [
      "CC\n",
      "[[    59   2317]\n",
      " [  6482 245303]]\n",
      "(0.9636510761117038, 0.4226513088678629)\n",
      "ATF2\n",
      "[[    22    856]\n",
      " [  6519 246764]]\n",
      "(0.9728586317779947, 0.5052792943231644)\n",
      "FOXA1\n",
      "[[    62   2916]\n",
      " [  6479 244704]]\n",
      "(0.8030401480693878, 0.04644108315935814)\n",
      "LEF1\n",
      "[[    76   2154]\n",
      " [  6465 245466]]\n",
      "(1.339648029781101, 0.9931589834765502)\n",
      "SCRT1\n",
      "[[    45   2221]\n",
      " [  6496 245399]]\n",
      "(0.7654040002173609, 0.03979213599539022)\n",
      "TCF7L2\n",
      "[[    78   2853]\n",
      " [  6463 244767]]\n",
      "(1.035408056830168, 0.6464546280212538)\n",
      "16P12_1\n",
      "[[    56   2562]\n",
      " [  6485 245058]]\n",
      "(0.8259767180252032, 0.08579971537218026)\n"
     ]
    }
   ],
   "source": [
    "# \n",
    "libs= [\"CC\", \"ATF2\", \"FOXA1\", \"LEF1\", \"SCRT1\", \"TCF7L2\", \"16P12_1\"]\n",
    "peak_dir = \"/data5/deepro/starrseq/papers/results/2_categorize_fragments_on_activity/data\"\n",
    "peak_dict = dict()\n",
    "\n",
    "for lib in libs:\n",
    "    peak_file = os.path.join(peak_dir, lib, \"peaks.bed\")\n",
    "    peak_bed = pybedtools.BedTool(peak_file)\n",
    "    peaks_in_exons = peak_bed.intersect(exon_fragments, f=1, u=True)\n",
    "    peaks_in_others = peak_bed.intersect(other_fragments, f=1, u=True)\n",
    "    peak_dict[lib] = (len(peaks_in_exons), len(peaks_in_others))\n",
    "    cont_table = np.array([[peak_dict[lib][0], peak_dict[lib][1]], [nexons_fragments - peak_dict[lib][0], nother_fragments-peak_dict[lib][1]]])\n",
    "    res = fisher_exact(cont_table, alternative='less')\n",
    "    print(lib)\n",
    "    print(cont_table)\n",
    "    print(res)"
   ]
  },
  {
   "cell_type": "code",
   "execution_count": 11,
   "metadata": {},
   "outputs": [],
   "source": [
    "pybedtools.helpers.cleanup(remove_all=True)"
   ]
  },
  {
   "cell_type": "code",
   "execution_count": null,
   "metadata": {},
   "outputs": [],
   "source": []
  }
 ],
 "metadata": {
  "kernelspec": {
   "display_name": "Python 3",
   "language": "python",
   "name": "python3"
  },
  "language_info": {
   "codemirror_mode": {
    "name": "ipython",
    "version": 3
   },
   "file_extension": ".py",
   "mimetype": "text/x-python",
   "name": "python",
   "nbconvert_exporter": "python",
   "pygments_lexer": "ipython3",
   "version": "3.9.16"
  },
  "orig_nbformat": 4
 },
 "nbformat": 4,
 "nbformat_minor": 2
}
