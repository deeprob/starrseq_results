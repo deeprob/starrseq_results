{
 "cells": [
  {
   "cell_type": "code",
   "execution_count": 1,
   "metadata": {},
   "outputs": [],
   "source": [
    "import os\n",
    "import subprocess\n",
    "import pandas as pd"
   ]
  },
  {
   "cell_type": "code",
   "execution_count": 2,
   "metadata": {},
   "outputs": [],
   "source": [
    "class HomerEnricher:\n",
    "    \"\"\"\n",
    "    Vectorizes chromosomal locations by scanning them using Homer and its motif database\n",
    "    \"\"\"\n",
    "    def __init__(self, roi_df, background_df, genome_filepath, homer_pwm_motifs, homer_outdir, threads=32):\n",
    "        self.genome = genome_filepath\n",
    "        self.homer_pwms = homer_pwm_motifs\n",
    "        self.roi = roi_df\n",
    "        self.background = background_df\n",
    "        self.homer_outdir = homer_outdir\n",
    "        self.threads = threads\n",
    "\n",
    "        self.homer_outfile = self._get_homer_outfile()\n",
    "        self.homer_roi = self._get_roi_homer()\n",
    "        self.homer_background = self._get_background_homer()\n",
    "        self.logfile = self._get_logfile()\n",
    "        pass\n",
    "\n",
    "    def _get_homer_outfile(self):\n",
    "        return os.path.join(self.homer_outdir, \"motif_odds.tsv\")\n",
    "\n",
    "    def _get_roi_homer(self):\n",
    "        return os.path.join(self.homer_outdir, \"tmp_roi_homer.bed\")\n",
    "\n",
    "    def _get_background_homer(self):\n",
    "        return os.path.join(self.homer_outdir, \"tmp_background_homer.bed\")\n",
    "\n",
    "    def _get_logfile(self):\n",
    "        return os.path.join(self.homer_outdir, \"homer_scan.log\")\n",
    "\n",
    "    def _process_homer(self, df_row):\n",
    "        chrname = df_row.chrm\n",
    "        start = df_row.start\n",
    "        end = df_row.end\n",
    "        peak_name = f\"{chrname}_{start}_{end}\"\n",
    "        irrelevant_col = 0\n",
    "        strand = \".\"\n",
    "        return pd.Series({\"3\":peak_name, \"4\":irrelevant_col, \"5\": strand}) \n",
    "\n",
    "    def _create_homer_compatible_bed(self, df, save_file):\n",
    "        \"\"\"\n",
    "        Converts an roi file with chromosomal coordinates to a homer compatible one\n",
    "        \"\"\"\n",
    "        df.loc[:, [\"chrm\", \"start\", \"end\"]].merge(df.apply(self._process_homer, axis=1), left_index=True, right_index=True).to_csv(save_file, index=False, header=None, sep=\"\\t\")\n",
    "        return\n",
    "\n",
    "    def _homer_enrich(self):\n",
    "        cmd = [\n",
    "            \"findMotifsGenome.pl\", self.homer_roi, self.genome, self.homer_outdir, \n",
    "            \"-bg\", self.homer_background, \"-mknown\", self.homer_pwms, \"-p\", str(self.threads), \n",
    "            \"-size\", \"given\", \n",
    "            ]\n",
    "        with open(self.logfile, \"w\") as lf:\n",
    "            with open(self.homer_outfile, \"w\") as of:\n",
    "                results = subprocess.run(cmd, stdout=of, stderr=lf)\n",
    "        return results\n",
    "\n",
    "    def run_enrichment(self):\n",
    "        # making sure there is a directory on path\n",
    "        os.makedirs(self.homer_outdir, exist_ok=True)\n",
    "        # creating homer compatible tmp roi file\n",
    "        self._create_homer_compatible_bed(self.roi, self.homer_roi)\n",
    "        # creating homer compatible tmp bg file\n",
    "        self._create_homer_compatible_bed(self.background, self.homer_background)\n",
    "        # running homer\n",
    "        self._homer_enrich()\n",
    "        return\n",
    "\n"
   ]
  },
  {
   "cell_type": "code",
   "execution_count": 3,
   "metadata": {},
   "outputs": [
    {
     "name": "stdout",
     "output_type": "stream",
     "text": [
      "ATF2\n",
      "CTCF\n",
      "FOXA1\n",
      "LEF1\n",
      "SCRT1\n",
      "TCF7L2\n",
      "16P12_1\n"
     ]
    }
   ],
   "source": [
    "libs = [\"CC\", \"ATF2\", \"CTCF\", \"FOXA1\", \"LEF1\", \"SCRT1\", \"TCF7L2\", \"16P12_1\"]\n",
    "data_dir = \"/data7/deepro/starrseq/4_ml_classification_fragment_category/data\"\n",
    "genome_fasta = \"/data5/deepro/genomes/hg38/GRCh38_no_alt_analysis_set_GCA_000001405.15.fasta\"\n",
    "homer_motifs = \"/data7/deepro/starrseq/4_ml_classification_fragment_category/data/HOCOMOCOv11_core_HUMAN_mono_homer_format_0.001.motif\"\n",
    "\n",
    "for lib in libs:\n",
    "    print(lib)\n",
    "    compare_file = os.path.join(data_dir, lib, \"cov_conf_compare.csv.gz\")\n",
    "    compare_df = pd.read_csv(compare_file)\n",
    "    hcov_hconf_df = compare_df.loc[(\n",
    "        (compare_df.ytarget==1)&(compare_df.cov_decile==9)&\n",
    "        (compare_df.ypred_resnet>0.9)&(compare_df.ypred_linear<0.9)\n",
    "        )]\n",
    "    other_df = compare_df.loc[~(\n",
    "        (compare_df.ytarget==1)&(compare_df.cov_decile==9)&\n",
    "        (compare_df.ypred_resnet>0.9)&(compare_df.ypred_linear<0.9)\n",
    "        )]\n",
    "    homer_outdir = os.path.join(data_dir, lib, \"compare_homer\")\n",
    "    he = HomerEnricher(hcov_hconf_df, other_df, genome_fasta, homer_motifs, homer_outdir)\n",
    "    he.run_enrichment()\n",
    "\n"
   ]
  },
  {
   "cell_type": "code",
   "execution_count": null,
   "metadata": {},
   "outputs": [],
   "source": []
  },
  {
   "cell_type": "code",
   "execution_count": null,
   "metadata": {},
   "outputs": [],
   "source": []
  }
 ],
 "metadata": {
  "kernelspec": {
   "display_name": "Python 3",
   "language": "python",
   "name": "python3"
  },
  "language_info": {
   "codemirror_mode": {
    "name": "ipython",
    "version": 3
   },
   "file_extension": ".py",
   "mimetype": "text/x-python",
   "name": "python",
   "nbconvert_exporter": "python",
   "pygments_lexer": "ipython3",
   "version": "3.13.2"
  }
 },
 "nbformat": 4,
 "nbformat_minor": 2
}
