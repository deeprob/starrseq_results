{
 "cells": [
  {
   "cell_type": "code",
   "execution_count": 1,
   "id": "4708c7f0",
   "metadata": {},
   "outputs": [
    {
     "name": "stderr",
     "output_type": "stream",
     "text": [
      "/data5/deepro/miniconda3/envs/starrseq/lib/python3.9/site-packages/scipy/__init__.py:146: UserWarning: A NumPy version >=1.16.5 and <1.23.0 is required for this version of SciPy (detected version 1.25.0\n",
      "  warnings.warn(f\"A NumPy version >={np_minversion} and <{np_maxversion}\"\n"
     ]
    }
   ],
   "source": [
    "import pandas as pd\n",
    "import numpy as np\n",
    "import os\n",
    "\n",
    "import seaborn as sns\n",
    "import matplotlib\n",
    "import matplotlib.pyplot as plt\n",
    "from matplotlib.ticker import MultipleLocator\n",
    "import matplotlib.patches as mpatches\n",
    "matplotlib.rcParams['pdf.fonttype'] = 42\n",
    "matplotlib.rcParams['ps.fonttype'] = 42\n",
    "matplotlib.rcParams['font.sans-serif'] = \"Arial\" # missing fonts:: https://alexanderlabwhoi.github.io/post/2021-03-missingfont/\n",
    "# Then, \"ALWAYS use sans-serif fonts\"\n",
    "matplotlib.rcParams['font.family'] = \"sans-serif\"\n",
    "matplotlib.rcParams.update({'font.size': 7, 'axes.linewidth': 1, 'xtick.major.width': 1, 'xtick.major.size': 4, 'ytick.major.width': 1, 'ytick.major.size': 4})\n",
    "from matplotlib.backends.backend_pdf import PdfPages\n",
    "\n",
    "from functools import reduce\n",
    "import matplotlib.patches as patches\n",
    "import matplotlib.lines as lines"
   ]
  },
  {
   "cell_type": "code",
   "execution_count": 2,
   "id": "552613cb",
   "metadata": {},
   "outputs": [],
   "source": [
    "libs = [\"CC\", \"ATF2\", \"CTCF\", \"FOXA1\", \"LEF1\", \"SCRT1\", \"TCF7L2\", \"16P12_1\"]\n",
    "\n",
    "data_dir = \"/data7/deepro/starrseq/4_ml_classification_fragment_category/data\"\n",
    "\n",
    "df = pd.DataFrame()\n",
    "\n",
    "for lib in libs[:-1]:\n",
    "    dfx = pd.read_csv(f\"{data_dir}/{lib}/resnet_mlp.csv.gz\", header=None, names=[\"ypred\", \"ytarget\", \"chrm\", \"start\", \"end\"])\n",
    "    dfx[\"lib\"] = lib\n",
    "    dfx[\"model\"] = \"resnet\"\n",
    "    df = pd.concat((df, dfx))\n",
    "\n",
    "    dfy = pd.read_csv(f\"{data_dir}/{lib}/linear/homer_linear.csv.gz\", header=None, names=[\"ypred\", \"ytarget\", \"chrm\", \"start\", \"end\"])\n",
    "    dfy[\"lib\"] = lib\n",
    "    dfy[\"model\"] = \"linear\"\n",
    "    df = pd.concat((df, dfy))\n"
   ]
  },
  {
   "cell_type": "code",
   "execution_count": 39,
   "id": "dd8ed7a8",
   "metadata": {},
   "outputs": [],
   "source": [
    "def compare_predictions_peaks_plot(df):\n",
    "    peak_plot_df = df.loc[df.ytarget==1]\n",
    "    nonpeak_plot_df = df.loc[df.ytarget==0]\n",
    "    fig, ax = plt.subplots(1,2,figsize=(6,3))\n",
    "    sns.histplot(\n",
    "        data=peak_plot_df, x=\"ypred\", bins=10, hue=\"model\", ax=ax[0], stat=\"probability\", \n",
    "        multiple=\"dodge\", hue_order=[\"linear\", \"resnet\"], shrink=0.8, palette=[\"skyblue\", \"indianred\"],\n",
    "        )\n",
    "    sns.histplot(\n",
    "        data=nonpeak_plot_df, x=\"ypred\", bins=10, hue=\"model\", ax=ax[1], stat=\"probability\", \n",
    "        multiple=\"dodge\", hue_order=[\"linear\", \"resnet\"], shrink=0.8, palette=[\"skyblue\", \"indianred\"],\n",
    "        )\n",
    "\n",
    "    for iax in ax:\n",
    "        # iax.set_xlim((0, 1))\n",
    "        iax.set_ylim((0, 0.5))\n",
    "        # Remove Spines\n",
    "        iax.spines['right'].set_visible(False)\n",
    "        iax.spines['top'].set_visible(False)\n",
    "    fig.tight_layout()\n",
    "    return fig\n"
   ]
  },
  {
   "cell_type": "code",
   "execution_count": 40,
   "id": "eb79ac23",
   "metadata": {},
   "outputs": [
    {
     "data": {
      "image/png": "[encoded data removed]",
      "text/plain": [
       "<Figure size 432x216 with 2 Axes>"
      ]
     },
     "metadata": {
      "needs_background": "light"
     },
     "output_type": "display_data"
    }
   ],
   "source": [
    "fig = compare_predictions_peaks_plot(df)"
   ]
  },
  {
   "cell_type": "code",
   "execution_count": null,
   "id": "16690bca",
   "metadata": {},
   "outputs": [],
   "source": []
  },
  {
   "cell_type": "code",
   "execution_count": 41,
   "id": "bf954398",
   "metadata": {},
   "outputs": [],
   "source": [
    "def save_pdf(save_file, fig):\n",
    "    os.makedirs(os.path.dirname(save_file), exist_ok=True)\n",
    "    pdf = PdfPages(save_file)\n",
    "    pdf.savefig(fig, bbox_inches='tight', dpi=300)\n",
    "    pdf.close()\n",
    "    return"
   ]
  },
  {
   "cell_type": "code",
   "execution_count": 42,
   "id": "bce9d291",
   "metadata": {},
   "outputs": [],
   "source": [
    "save_file = \"/data7/deepro/starrseq/4_ml_classification_fragment_category/data/figures/prediction_comparison.pdf\"\n",
    "save_pdf(save_file, fig)"
   ]
  },
  {
   "cell_type": "code",
   "execution_count": null,
   "id": "70019427",
   "metadata": {},
   "outputs": [],
   "source": []
  },
  {
   "cell_type": "code",
   "execution_count": 7,
   "id": "14925ac2",
   "metadata": {},
   "outputs": [
    {
     "data": {
      "text/html": [
       "<div>\n",
       "<style scoped>\n",
       "    .dataframe tbody tr th:only-of-type {\n",
       "        vertical-align: middle;\n",
       "    }\n",
       "\n",
       "    .dataframe tbody tr th {\n",
       "        vertical-align: top;\n",
       "    }\n",
       "\n",
       "    .dataframe thead tr th {\n",
       "        text-align: left;\n",
       "    }\n",
       "\n",
       "    .dataframe thead tr:last-of-type th {\n",
       "        text-align: right;\n",
       "    }\n",
       "</style>\n",
       "<table border=\"1\" class=\"dataframe\">\n",
       "  <thead>\n",
       "    <tr>\n",
       "      <th></th>\n",
       "      <th colspan=\"2\" halign=\"left\">ypred</th>\n",
       "    </tr>\n",
       "    <tr>\n",
       "      <th></th>\n",
       "      <th>mean</th>\n",
       "      <th>median</th>\n",
       "    </tr>\n",
       "    <tr>\n",
       "      <th>ytarget</th>\n",
       "      <th></th>\n",
       "      <th></th>\n",
       "    </tr>\n",
       "  </thead>\n",
       "  <tbody>\n",
       "    <tr>\n",
       "      <th>0</th>\n",
       "      <td>0.493172</td>\n",
       "      <td>0.482566</td>\n",
       "    </tr>\n",
       "    <tr>\n",
       "      <th>1</th>\n",
       "      <td>0.772011</td>\n",
       "      <td>0.844960</td>\n",
       "    </tr>\n",
       "  </tbody>\n",
       "</table>\n",
       "</div>"
      ],
      "text/plain": [
       "            ypred          \n",
       "             mean    median\n",
       "ytarget                    \n",
       "0        0.493172  0.482566\n",
       "1        0.772011  0.844960"
      ]
     },
     "execution_count": 7,
     "metadata": {},
     "output_type": "execute_result"
    }
   ],
   "source": [
    "df.loc[df.model==\"linear\"].groupby(\"ytarget\").agg({\"ypred\": [\"mean\", \"median\"]})"
   ]
  },
  {
   "cell_type": "code",
   "execution_count": 8,
   "id": "08122a35",
   "metadata": {},
   "outputs": [
    {
     "data": {
      "text/html": [
       "<div>\n",
       "<style scoped>\n",
       "    .dataframe tbody tr th:only-of-type {\n",
       "        vertical-align: middle;\n",
       "    }\n",
       "\n",
       "    .dataframe tbody tr th {\n",
       "        vertical-align: top;\n",
       "    }\n",
       "\n",
       "    .dataframe thead tr th {\n",
       "        text-align: left;\n",
       "    }\n",
       "\n",
       "    .dataframe thead tr:last-of-type th {\n",
       "        text-align: right;\n",
       "    }\n",
       "</style>\n",
       "<table border=\"1\" class=\"dataframe\">\n",
       "  <thead>\n",
       "    <tr>\n",
       "      <th></th>\n",
       "      <th colspan=\"2\" halign=\"left\">ypred</th>\n",
       "    </tr>\n",
       "    <tr>\n",
       "      <th></th>\n",
       "      <th>mean</th>\n",
       "      <th>median</th>\n",
       "    </tr>\n",
       "    <tr>\n",
       "      <th>ytarget</th>\n",
       "      <th></th>\n",
       "      <th></th>\n",
       "    </tr>\n",
       "  </thead>\n",
       "  <tbody>\n",
       "    <tr>\n",
       "      <th>0</th>\n",
       "      <td>0.055393</td>\n",
       "      <td>0.000245</td>\n",
       "    </tr>\n",
       "    <tr>\n",
       "      <th>1</th>\n",
       "      <td>0.820084</td>\n",
       "      <td>0.998270</td>\n",
       "    </tr>\n",
       "  </tbody>\n",
       "</table>\n",
       "</div>"
      ],
      "text/plain": [
       "            ypred          \n",
       "             mean    median\n",
       "ytarget                    \n",
       "0        0.055393  0.000245\n",
       "1        0.820084  0.998270"
      ]
     },
     "execution_count": 8,
     "metadata": {},
     "output_type": "execute_result"
    }
   ],
   "source": [
    "df.loc[df.model==\"resnet\"].groupby(\"ytarget\").agg({\"ypred\": [\"mean\", \"median\"]})"
   ]
  }
 ],
 "metadata": {
  "kernelspec": {
   "display_name": "starrseq",
   "language": "python",
   "name": "python3"
  },
  "language_info": {
   "codemirror_mode": {
    "name": "ipython",
    "version": 3
   },
   "file_extension": ".py",
   "mimetype": "text/x-python",
   "name": "python",
   "nbconvert_exporter": "python",
   "pygments_lexer": "ipython3",
   "version": "3.9.16"
  }
 },
 "nbformat": 4,
 "nbformat_minor": 5
}
