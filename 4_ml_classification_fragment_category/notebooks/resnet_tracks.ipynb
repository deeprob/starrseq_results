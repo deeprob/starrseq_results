{
 "cells": [
  {
   "cell_type": "code",
   "execution_count": 1,
   "metadata": {},
   "outputs": [],
   "source": [
    "import numpy as np\n",
    "import pandas as pd\n",
    "import matplotlib.pyplot as plt\n",
    "from pyfaidx import Fasta\n",
    "import logomaker"
   ]
  },
  {
   "cell_type": "code",
   "execution_count": 2,
   "metadata": {},
   "outputs": [],
   "source": [
    "nlinear_loc_arr_file = \"/data7/deepro/starrseq/4_ml_classification_fragment_category/data/CC/locations.npy\"\n",
    "nlinear_seq_arr_file = \"/data7/deepro/starrseq/4_ml_classification_fragment_category/data/CC/seq_attr.npy\"\n",
    "nlinear_seq_feat_file = \"/data7/deepro/starrseq/4_ml_classification_fragment_category/data/CC/seq_feat.npy\"\n",
    "nlinear_pred_file = \"/data7/deepro/starrseq/4_ml_classification_fragment_category/data/CC/resnet_mlp.csv.gz\"\n",
    "\n",
    "genome_fasta = \"/data5/deepro/genomes/hg38/GRCh38_no_alt_analysis_set_GCA_000001405.15.fasta\""
   ]
  },
  {
   "cell_type": "code",
   "execution_count": 36,
   "metadata": {},
   "outputs": [],
   "source": [
    "def read_pred_files(pred_file, seq_arr_file, seq_feat_file, loc_arr_file):\n",
    "    pred_df = pd.read_csv(pred_file, header=None, names=[\"ypred\", \"ytarget\", \"chrm\", \"start\", \"end\"])\n",
    "    seq_arr = np.load(seq_arr_file)\n",
    "    feat_arr = np.load(seq_feat_file)\n",
    "    loc_arr = np.load(loc_arr_file)\n",
    "    return pred_df, seq_arr, feat_arr, loc_arr\n",
    "\n",
    "def create_seq_attr_df(seq, seq_attr):\n",
    "    data_arr = np.zeros((len(seq), 4))\n",
    "    nts = [\"A\", \"T\", \"G\", \"C\"]\n",
    "    seq_idx = dict(zip(nts, range(len(nts))))\n",
    "    for i, (s, sq) in enumerate(zip(seq, seq_attr)):\n",
    "        data_arr[i, seq_idx[s]] = sq\n",
    "    data_df = pd.DataFrame(data_arr, columns=nts)\n",
    "    return data_df\n",
    "\n",
    "def get_complement(seq):\n",
    "    complement_dict = {\n",
    "        \"A\": \"T\",\n",
    "        \"G\": \"C\",\n",
    "        \"T\": \"A\",\n",
    "        \"C\": \"G\",\n",
    "        \"N\": \"N\"\n",
    "        }    \n",
    "    rev_comp_seq = \"\".join([complement_dict[s] for s in seq])\n",
    "    return rev_comp_seq\n",
    "\n",
    "def create_seqattr_figure(seq, seq_attr, nrows=5, figsize=(15,10)):\n",
    "    seq_df = create_seq_attr_df(seq, seq_attr)\n",
    "    bp_per_row=len(seq)//nrows\n",
    "    fig, ax = plt.subplots(nrows, 1, figsize=figsize, sharey=True)\n",
    "    start = 0\n",
    "    for row in range(nrows):\n",
    "        # create Logo object\n",
    "        nn_logo = logomaker.Logo(seq_df.iloc[start:start+bp_per_row], ax=ax[row],)\n",
    "        nn_logo.ax.set_xticks([])\n",
    "        start += bp_per_row\n",
    "        ax[row].spines[['right', 'top', \"bottom\"]].set_visible(False)\n",
    "        ax[row].xaxis.set_visible(False)\n",
    "        # ax[row].set_yticks([])\n",
    "        ax[row].set_ylim(seq_attr.min(), seq_attr.max())\n",
    "    return fig, ax"
   ]
  },
  {
   "cell_type": "code",
   "execution_count": 4,
   "metadata": {},
   "outputs": [],
   "source": [
    "genome = Fasta(genome_fasta, as_raw=True)"
   ]
  },
  {
   "cell_type": "code",
   "execution_count": null,
   "metadata": {},
   "outputs": [],
   "source": []
  },
  {
   "cell_type": "code",
   "execution_count": 5,
   "metadata": {},
   "outputs": [],
   "source": [
    "nlinear_pred_df, nlinear_seq_arr, nlinear_feat_arr, nlinear_loc_arr = read_pred_files(nlinear_pred_file, nlinear_seq_arr_file, nlinear_seq_feat_file, nlinear_loc_arr_file)"
   ]
  },
  {
   "cell_type": "code",
   "execution_count": 6,
   "metadata": {},
   "outputs": [],
   "source": [
    "top_pred_idxs = nlinear_pred_df.loc[(nlinear_pred_df.ytarget==1)&(nlinear_pred_df.ypred>0.99)].sort_values(\"ypred\", ascending=False).index"
   ]
  },
  {
   "cell_type": "code",
   "execution_count": 10,
   "metadata": {},
   "outputs": [
    {
     "data": {
      "text/html": [
       "<div>\n",
       "<style scoped>\n",
       "    .dataframe tbody tr th:only-of-type {\n",
       "        vertical-align: middle;\n",
       "    }\n",
       "\n",
       "    .dataframe tbody tr th {\n",
       "        vertical-align: top;\n",
       "    }\n",
       "\n",
       "    .dataframe thead th {\n",
       "        text-align: right;\n",
       "    }\n",
       "</style>\n",
       "<table border=\"1\" class=\"dataframe\">\n",
       "  <thead>\n",
       "    <tr style=\"text-align: right;\">\n",
       "      <th></th>\n",
       "      <th>ypred</th>\n",
       "      <th>ytarget</th>\n",
       "      <th>chrm</th>\n",
       "      <th>start</th>\n",
       "      <th>end</th>\n",
       "    </tr>\n",
       "  </thead>\n",
       "  <tbody>\n",
       "    <tr>\n",
       "      <th>0</th>\n",
       "      <td>0.997714</td>\n",
       "      <td>1</td>\n",
       "      <td>chr1</td>\n",
       "      <td>1906866</td>\n",
       "      <td>1907866</td>\n",
       "    </tr>\n",
       "    <tr>\n",
       "      <th>1</th>\n",
       "      <td>0.642246</td>\n",
       "      <td>1</td>\n",
       "      <td>chr1</td>\n",
       "      <td>2290466</td>\n",
       "      <td>2291466</td>\n",
       "    </tr>\n",
       "    <tr>\n",
       "      <th>2</th>\n",
       "      <td>0.000005</td>\n",
       "      <td>1</td>\n",
       "      <td>chr1</td>\n",
       "      <td>3170287</td>\n",
       "      <td>3171287</td>\n",
       "    </tr>\n",
       "    <tr>\n",
       "      <th>3</th>\n",
       "      <td>0.999997</td>\n",
       "      <td>1</td>\n",
       "      <td>chr1</td>\n",
       "      <td>8448524</td>\n",
       "      <td>8449524</td>\n",
       "    </tr>\n",
       "    <tr>\n",
       "      <th>4</th>\n",
       "      <td>0.998497</td>\n",
       "      <td>1</td>\n",
       "      <td>chr1</td>\n",
       "      <td>9891032</td>\n",
       "      <td>9892032</td>\n",
       "    </tr>\n",
       "  </tbody>\n",
       "</table>\n",
       "</div>"
      ],
      "text/plain": [
       "      ypred  ytarget  chrm    start      end\n",
       "0  0.997714        1  chr1  1906866  1907866\n",
       "1  0.642246        1  chr1  2290466  2291466\n",
       "2  0.000005        1  chr1  3170287  3171287\n",
       "3  0.999997        1  chr1  8448524  8449524\n",
       "4  0.998497        1  chr1  9891032  9892032"
      ]
     },
     "execution_count": 10,
     "metadata": {},
     "output_type": "execute_result"
    }
   ],
   "source": [
    "nlinear_pred_df.head()"
   ]
  },
  {
   "cell_type": "code",
   "execution_count": 7,
   "metadata": {},
   "outputs": [
    {
     "data": {
      "text/html": [
       "<div>\n",
       "<style scoped>\n",
       "    .dataframe tbody tr th:only-of-type {\n",
       "        vertical-align: middle;\n",
       "    }\n",
       "\n",
       "    .dataframe tbody tr th {\n",
       "        vertical-align: top;\n",
       "    }\n",
       "\n",
       "    .dataframe thead th {\n",
       "        text-align: right;\n",
       "    }\n",
       "</style>\n",
       "<table border=\"1\" class=\"dataframe\">\n",
       "  <thead>\n",
       "    <tr style=\"text-align: right;\">\n",
       "      <th></th>\n",
       "      <th>ypred</th>\n",
       "      <th>ytarget</th>\n",
       "      <th>chrm</th>\n",
       "      <th>start</th>\n",
       "      <th>end</th>\n",
       "    </tr>\n",
       "  </thead>\n",
       "  <tbody>\n",
       "    <tr>\n",
       "      <th>0</th>\n",
       "      <td>0.926269</td>\n",
       "      <td>1</td>\n",
       "      <td>chr1</td>\n",
       "      <td>1906616</td>\n",
       "      <td>1907616</td>\n",
       "    </tr>\n",
       "    <tr>\n",
       "      <th>1</th>\n",
       "      <td>0.999940</td>\n",
       "      <td>1</td>\n",
       "      <td>chr1</td>\n",
       "      <td>8448524</td>\n",
       "      <td>8449524</td>\n",
       "    </tr>\n",
       "    <tr>\n",
       "      <th>2</th>\n",
       "      <td>0.022071</td>\n",
       "      <td>1</td>\n",
       "      <td>chr1</td>\n",
       "      <td>8570994</td>\n",
       "      <td>8571994</td>\n",
       "    </tr>\n",
       "    <tr>\n",
       "      <th>3</th>\n",
       "      <td>0.998208</td>\n",
       "      <td>1</td>\n",
       "      <td>chr1</td>\n",
       "      <td>9532586</td>\n",
       "      <td>9533586</td>\n",
       "    </tr>\n",
       "    <tr>\n",
       "      <th>4</th>\n",
       "      <td>0.999310</td>\n",
       "      <td>1</td>\n",
       "      <td>chr1</td>\n",
       "      <td>9890532</td>\n",
       "      <td>9891532</td>\n",
       "    </tr>\n",
       "    <tr>\n",
       "      <th>...</th>\n",
       "      <td>...</td>\n",
       "      <td>...</td>\n",
       "      <td>...</td>\n",
       "      <td>...</td>\n",
       "      <td>...</td>\n",
       "    </tr>\n",
       "    <tr>\n",
       "      <th>616</th>\n",
       "      <td>0.999931</td>\n",
       "      <td>1</td>\n",
       "      <td>chrX</td>\n",
       "      <td>41192640</td>\n",
       "      <td>41193640</td>\n",
       "    </tr>\n",
       "    <tr>\n",
       "      <th>617</th>\n",
       "      <td>0.066933</td>\n",
       "      <td>1</td>\n",
       "      <td>chrX</td>\n",
       "      <td>72268627</td>\n",
       "      <td>72269627</td>\n",
       "    </tr>\n",
       "    <tr>\n",
       "      <th>618</th>\n",
       "      <td>0.999968</td>\n",
       "      <td>1</td>\n",
       "      <td>chrX</td>\n",
       "      <td>131728573</td>\n",
       "      <td>131729573</td>\n",
       "    </tr>\n",
       "    <tr>\n",
       "      <th>619</th>\n",
       "      <td>0.949238</td>\n",
       "      <td>1</td>\n",
       "      <td>chrX</td>\n",
       "      <td>154324913</td>\n",
       "      <td>154325913</td>\n",
       "    </tr>\n",
       "    <tr>\n",
       "      <th>620</th>\n",
       "      <td>0.000548</td>\n",
       "      <td>1</td>\n",
       "      <td>chrX</td>\n",
       "      <td>154526952</td>\n",
       "      <td>154527952</td>\n",
       "    </tr>\n",
       "  </tbody>\n",
       "</table>\n",
       "<p>621 rows × 5 columns</p>\n",
       "</div>"
      ],
      "text/plain": [
       "        ypred  ytarget  chrm      start        end\n",
       "0    0.926269        1  chr1    1906616    1907616\n",
       "1    0.999940        1  chr1    8448524    8449524\n",
       "2    0.022071        1  chr1    8570994    8571994\n",
       "3    0.998208        1  chr1    9532586    9533586\n",
       "4    0.999310        1  chr1    9890532    9891532\n",
       "..        ...      ...   ...        ...        ...\n",
       "616  0.999931        1  chrX   41192640   41193640\n",
       "617  0.066933        1  chrX   72268627   72269627\n",
       "618  0.999968        1  chrX  131728573  131729573\n",
       "619  0.949238        1  chrX  154324913  154325913\n",
       "620  0.000548        1  chrX  154526952  154527952\n",
       "\n",
       "[621 rows x 5 columns]"
      ]
     },
     "execution_count": 7,
     "metadata": {},
     "output_type": "execute_result"
    }
   ],
   "source": [
    "nlinear_pred_df.loc[nlinear_pred_df.ytarget==1]"
   ]
  },
  {
   "cell_type": "code",
   "execution_count": 8,
   "metadata": {},
   "outputs": [
    {
     "data": {
      "text/plain": [
       "Int64Index([602, 508, 579, 578, 398, 243,  55, 577, 533, 526,\n",
       "            ...\n",
       "            549,  77,  49, 548, 322, 264, 301, 351, 347, 325],\n",
       "           dtype='int64', length=373)"
      ]
     },
     "execution_count": 8,
     "metadata": {},
     "output_type": "execute_result"
    }
   ],
   "source": [
    "top_pred_idxs"
   ]
  },
  {
   "cell_type": "code",
   "execution_count": 86,
   "metadata": {},
   "outputs": [
    {
     "data": {
      "text/plain": [
       "ypred       0.999967\n",
       "ytarget            1\n",
       "chrm            chr3\n",
       "start      152378986\n",
       "end        152379986\n",
       "Name: 417, dtype: object"
      ]
     },
     "execution_count": 86,
     "metadata": {},
     "output_type": "execute_result"
    }
   ],
   "source": [
    "nlinear_pred_df.iloc[top_pred_idxs[56]]"
   ]
  },
  {
   "cell_type": "code",
   "execution_count": 19,
   "metadata": {},
   "outputs": [],
   "source": [
    "def get_seq_info(idx, reverse=False):\n",
    "    chrm, start, end = nlinear_pred_df.iloc[idx].loc[[\"chrm\", \"start\", \"end\"]].values\n",
    "    seq = list(genome.get_seq(chrm, start, end))\n",
    "    if reverse:\n",
    "        seq = get_complement(seq)\n",
    "    seq_attr = np.sum(nlinear_seq_arr[idx], axis=0)\n",
    "    return seq, seq_attr, (chrm, start, end)"
   ]
  },
  {
   "cell_type": "code",
   "execution_count": 91,
   "metadata": {},
   "outputs": [],
   "source": [
    "wrong_pred_idxs = nlinear_pred_df.loc[(nlinear_pred_df.ytarget==0)&(nlinear_pred_df.ypred>0.99)].sort_values(\"ypred\", ascending=False).index"
   ]
  },
  {
   "cell_type": "code",
   "execution_count": 100,
   "metadata": {},
   "outputs": [
    {
     "data": {
      "text/plain": [
       "373"
      ]
     },
     "execution_count": 100,
     "metadata": {},
     "output_type": "execute_result"
    }
   ],
   "source": [
    "len(top_pred_idxs)"
   ]
  },
  {
   "cell_type": "code",
   "execution_count": 99,
   "metadata": {},
   "outputs": [
    {
     "data": {
      "text/plain": [
       "77"
      ]
     },
     "execution_count": 99,
     "metadata": {},
     "output_type": "execute_result"
    }
   ],
   "source": [
    "len(wrong_pred_idxs)"
   ]
  },
  {
   "cell_type": "code",
   "execution_count": 98,
   "metadata": {},
   "outputs": [
    {
     "data": {
      "text/plain": [
       "(<Figure size 1000x300 with 5 Axes>,\n",
       " array([<AxesSubplot:>, <AxesSubplot:>, <AxesSubplot:>, <AxesSubplot:>,\n",
       "        <AxesSubplot:>], dtype=object))"
      ]
     },
     "execution_count": 98,
     "metadata": {},
     "output_type": "execute_result"
    },
    {
     "data": {
      "image/png": "[encoded data removed]",
      "text/plain": [
       "<Figure size 1000x300 with 5 Axes>"
      ]
     },
     "metadata": {},
     "output_type": "display_data"
    }
   ],
   "source": [
    "s, sa, (chrm, start, end) = get_seq_info(wrong_pred_idxs[5], reverse=False) # interesting 15 # example 14, 50, 45, 46 flanking sequence/motif combo, single example 36, 38, 41, 43, 44, 53, 55, 58\n",
    "create_seqattr_figure(s, sa, nrows=5, figsize=(10,3))"
   ]
  },
  {
   "cell_type": "code",
   "execution_count": null,
   "metadata": {},
   "outputs": [],
   "source": []
  },
  {
   "cell_type": "code",
   "execution_count": null,
   "metadata": {},
   "outputs": [],
   "source": []
  }
 ],
 "metadata": {
  "kernelspec": {
   "display_name": "Python 3",
   "language": "python",
   "name": "python3"
  },
  "language_info": {
   "codemirror_mode": {
    "name": "ipython",
    "version": 3
   },
   "file_extension": ".py",
   "mimetype": "text/x-python",
   "name": "python",
   "nbconvert_exporter": "python",
   "pygments_lexer": "ipython3",
   "version": "3.7.12"
  },
  "orig_nbformat": 4
 },
 "nbformat": 4,
 "nbformat_minor": 2
}
