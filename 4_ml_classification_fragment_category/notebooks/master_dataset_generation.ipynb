{
 "cells": [
  {
   "cell_type": "markdown",
   "id": "47c404de",
   "metadata": {},
   "source": [
    "# Window master file"
   ]
  },
  {
   "cell_type": "code",
   "execution_count": 1,
   "id": "b6d11062",
   "metadata": {},
   "outputs": [],
   "source": [
    "import os\n",
    "import numpy as np\n",
    "import pandas as pd\n",
    "import pybedtools\n",
    "from pybedtools.featurefuncs import greater_than"
   ]
  },
  {
   "cell_type": "code",
   "execution_count": 2,
   "id": "a35d167e",
   "metadata": {},
   "outputs": [],
   "source": [
    "TMP_DIR = \"/data7/deepro/starrseq/4_ml_classification_fragment_category/data/tmp\"\n",
    "pybedtools.helpers.set_tempdir(TMP_DIR)"
   ]
  },
  {
   "cell_type": "code",
   "execution_count": 3,
   "id": "21daa0d9",
   "metadata": {},
   "outputs": [],
   "source": [
    "def make_windows_faster(in_bed, out_bed, window_size=500, window_stride=50):\n",
    "    \"\"\"\n",
    "    Break the ROIs into fragments of an user defined window size and stride\n",
    "    \"\"\"\n",
    "    window = pybedtools.BedTool().window_maker(b=in_bed, w=window_size, s=window_stride)\n",
    "    # only keep windows of length greater than w-s-1\n",
    "    window_new_filtered = window.filter(greater_than, window_size - window_stride + 1).saveas(out_bed)\n",
    "    return window_new_filtered"
   ]
  },
  {
   "cell_type": "code",
   "execution_count": 4,
   "id": "636a9874",
   "metadata": {},
   "outputs": [],
   "source": [
    "master_bed = \"/data7/deepro/starrseq/4_ml_classification_fragment_category/data/master_filtered.bed\"\n",
    "master_window_bed = \"/data7/deepro/starrseq/4_ml_classification_fragment_category/data/master_filtered_w1000.bed\"\n",
    "\n",
    "master_bed = make_windows_faster(master_bed, master_window_bed, window_size=1000, window_stride=100)"
   ]
  },
  {
   "cell_type": "markdown",
   "id": "3ed6cbd6",
   "metadata": {},
   "source": [
    "# For each peak file, find >50% overlap with window and annotate them as peak"
   ]
  },
  {
   "cell_type": "code",
   "execution_count": 5,
   "id": "c822147a",
   "metadata": {},
   "outputs": [],
   "source": [
    "libs = [\"CC\", \"ATF2\", \"CTCF\", \"FOXA1\", \"LEF1\", \"SCRT1\", \"TCF7L2\", \"16P12_1\"]"
   ]
  },
  {
   "cell_type": "code",
   "execution_count": 6,
   "id": "6ee16ec2",
   "metadata": {},
   "outputs": [],
   "source": [
    "LIB_DIR  = \"/data7/deepro/starrseq/4_ml_classification_fragment_category/data\"\n",
    "lib_peak_files = [os.path.join(LIB_DIR, l, \"peaks.bed.gz\") for l in libs]"
   ]
  },
  {
   "cell_type": "code",
   "execution_count": 7,
   "id": "514dde2e",
   "metadata": {},
   "outputs": [],
   "source": [
    "lib_peak_beds = [pybedtools.BedTool(lpf) for lpf in lib_peak_files]"
   ]
  },
  {
   "cell_type": "code",
   "execution_count": 8,
   "id": "02b244dc",
   "metadata": {},
   "outputs": [
    {
     "data": {
      "text/plain": [
       "[<BedTool(/data7/deepro/starrseq/4_ml_classification_fragment_category/data/CC/peaks.bed.gz)>,\n",
       " <BedTool(/data7/deepro/starrseq/4_ml_classification_fragment_category/data/ATF2/peaks.bed.gz)>,\n",
       " <BedTool(/data7/deepro/starrseq/4_ml_classification_fragment_category/data/CTCF/peaks.bed.gz)>,\n",
       " <BedTool(/data7/deepro/starrseq/4_ml_classification_fragment_category/data/FOXA1/peaks.bed.gz)>,\n",
       " <BedTool(/data7/deepro/starrseq/4_ml_classification_fragment_category/data/LEF1/peaks.bed.gz)>,\n",
       " <BedTool(/data7/deepro/starrseq/4_ml_classification_fragment_category/data/SCRT1/peaks.bed.gz)>,\n",
       " <BedTool(/data7/deepro/starrseq/4_ml_classification_fragment_category/data/TCF7L2/peaks.bed.gz)>,\n",
       " <BedTool(/data7/deepro/starrseq/4_ml_classification_fragment_category/data/16P12_1/peaks.bed.gz)>]"
      ]
     },
     "execution_count": 8,
     "metadata": {},
     "output_type": "execute_result"
    }
   ],
   "source": [
    "lib_peak_beds"
   ]
  },
  {
   "cell_type": "code",
   "execution_count": 9,
   "id": "8a9b95d3",
   "metadata": {},
   "outputs": [],
   "source": [
    "label_df = pd.DataFrame()\n",
    "for lib, lpb in zip(libs, lib_peak_beds):\n",
    "    intersect_df = master_bed.intersect(b=lpb, c=True, F=0.25).to_dataframe()\n",
    "    intersect_df = intersect_df.rename(columns={\"chrom\": \"chrm\", \"name\": lib}).set_index([\"chrm\", \"start\", \"end\"])\n",
    "    label_df = pd.concat((label_df, intersect_df), axis=1)"
   ]
  },
  {
   "cell_type": "code",
   "execution_count": 10,
   "id": "fcfd76c3",
   "metadata": {},
   "outputs": [],
   "source": [
    "label_df = label_df.clip(upper=1).reset_index()"
   ]
  },
  {
   "cell_type": "code",
   "execution_count": 11,
   "id": "a23377c3",
   "metadata": {},
   "outputs": [
    {
     "data": {
      "text/html": [
       "<div>\n",
       "<style scoped>\n",
       "    .dataframe tbody tr th:only-of-type {\n",
       "        vertical-align: middle;\n",
       "    }\n",
       "\n",
       "    .dataframe tbody tr th {\n",
       "        vertical-align: top;\n",
       "    }\n",
       "\n",
       "    .dataframe thead th {\n",
       "        text-align: right;\n",
       "    }\n",
       "</style>\n",
       "<table border=\"1\" class=\"dataframe\">\n",
       "  <thead>\n",
       "    <tr style=\"text-align: right;\">\n",
       "      <th></th>\n",
       "      <th>chrm</th>\n",
       "      <th>start</th>\n",
       "      <th>end</th>\n",
       "      <th>CC</th>\n",
       "      <th>ATF2</th>\n",
       "      <th>CTCF</th>\n",
       "      <th>FOXA1</th>\n",
       "      <th>LEF1</th>\n",
       "      <th>SCRT1</th>\n",
       "      <th>TCF7L2</th>\n",
       "      <th>16P12_1</th>\n",
       "    </tr>\n",
       "  </thead>\n",
       "  <tbody>\n",
       "    <tr>\n",
       "      <th>0</th>\n",
       "      <td>chr1</td>\n",
       "      <td>910305</td>\n",
       "      <td>911305</td>\n",
       "      <td>0</td>\n",
       "      <td>0</td>\n",
       "      <td>0</td>\n",
       "      <td>0</td>\n",
       "      <td>0</td>\n",
       "      <td>0</td>\n",
       "      <td>0</td>\n",
       "      <td>0</td>\n",
       "    </tr>\n",
       "    <tr>\n",
       "      <th>1</th>\n",
       "      <td>chr1</td>\n",
       "      <td>910405</td>\n",
       "      <td>911405</td>\n",
       "      <td>0</td>\n",
       "      <td>0</td>\n",
       "      <td>0</td>\n",
       "      <td>0</td>\n",
       "      <td>0</td>\n",
       "      <td>0</td>\n",
       "      <td>0</td>\n",
       "      <td>0</td>\n",
       "    </tr>\n",
       "    <tr>\n",
       "      <th>2</th>\n",
       "      <td>chr1</td>\n",
       "      <td>910505</td>\n",
       "      <td>911505</td>\n",
       "      <td>0</td>\n",
       "      <td>0</td>\n",
       "      <td>0</td>\n",
       "      <td>0</td>\n",
       "      <td>0</td>\n",
       "      <td>0</td>\n",
       "      <td>0</td>\n",
       "      <td>0</td>\n",
       "    </tr>\n",
       "    <tr>\n",
       "      <th>3</th>\n",
       "      <td>chr1</td>\n",
       "      <td>910605</td>\n",
       "      <td>911605</td>\n",
       "      <td>0</td>\n",
       "      <td>0</td>\n",
       "      <td>0</td>\n",
       "      <td>0</td>\n",
       "      <td>0</td>\n",
       "      <td>0</td>\n",
       "      <td>0</td>\n",
       "      <td>0</td>\n",
       "    </tr>\n",
       "    <tr>\n",
       "      <th>4</th>\n",
       "      <td>chr1</td>\n",
       "      <td>910705</td>\n",
       "      <td>911705</td>\n",
       "      <td>0</td>\n",
       "      <td>0</td>\n",
       "      <td>0</td>\n",
       "      <td>0</td>\n",
       "      <td>0</td>\n",
       "      <td>0</td>\n",
       "      <td>0</td>\n",
       "      <td>0</td>\n",
       "    </tr>\n",
       "    <tr>\n",
       "      <th>...</th>\n",
       "      <td>...</td>\n",
       "      <td>...</td>\n",
       "      <td>...</td>\n",
       "      <td>...</td>\n",
       "      <td>...</td>\n",
       "      <td>...</td>\n",
       "      <td>...</td>\n",
       "      <td>...</td>\n",
       "      <td>...</td>\n",
       "      <td>...</td>\n",
       "      <td>...</td>\n",
       "    </tr>\n",
       "    <tr>\n",
       "      <th>49843</th>\n",
       "      <td>chrX</td>\n",
       "      <td>154370359</td>\n",
       "      <td>154371291</td>\n",
       "      <td>0</td>\n",
       "      <td>0</td>\n",
       "      <td>0</td>\n",
       "      <td>0</td>\n",
       "      <td>0</td>\n",
       "      <td>0</td>\n",
       "      <td>0</td>\n",
       "      <td>0</td>\n",
       "    </tr>\n",
       "    <tr>\n",
       "      <th>49844</th>\n",
       "      <td>chrX</td>\n",
       "      <td>154799022</td>\n",
       "      <td>154799934</td>\n",
       "      <td>0</td>\n",
       "      <td>0</td>\n",
       "      <td>0</td>\n",
       "      <td>0</td>\n",
       "      <td>0</td>\n",
       "      <td>0</td>\n",
       "      <td>0</td>\n",
       "      <td>0</td>\n",
       "    </tr>\n",
       "    <tr>\n",
       "      <th>49845</th>\n",
       "      <td>chrX</td>\n",
       "      <td>154800044</td>\n",
       "      <td>154801044</td>\n",
       "      <td>0</td>\n",
       "      <td>0</td>\n",
       "      <td>0</td>\n",
       "      <td>0</td>\n",
       "      <td>0</td>\n",
       "      <td>0</td>\n",
       "      <td>0</td>\n",
       "      <td>0</td>\n",
       "    </tr>\n",
       "    <tr>\n",
       "      <th>49846</th>\n",
       "      <td>chrX</td>\n",
       "      <td>154800144</td>\n",
       "      <td>154801144</td>\n",
       "      <td>0</td>\n",
       "      <td>0</td>\n",
       "      <td>0</td>\n",
       "      <td>0</td>\n",
       "      <td>0</td>\n",
       "      <td>0</td>\n",
       "      <td>0</td>\n",
       "      <td>0</td>\n",
       "    </tr>\n",
       "    <tr>\n",
       "      <th>49847</th>\n",
       "      <td>chrX</td>\n",
       "      <td>154800244</td>\n",
       "      <td>154801169</td>\n",
       "      <td>0</td>\n",
       "      <td>0</td>\n",
       "      <td>0</td>\n",
       "      <td>0</td>\n",
       "      <td>0</td>\n",
       "      <td>0</td>\n",
       "      <td>0</td>\n",
       "      <td>0</td>\n",
       "    </tr>\n",
       "  </tbody>\n",
       "</table>\n",
       "<p>49848 rows × 11 columns</p>\n",
       "</div>"
      ],
      "text/plain": [
       "       chrm      start        end  CC  ATF2  CTCF  FOXA1  LEF1  SCRT1  TCF7L2  \\\n",
       "0      chr1     910305     911305   0     0     0      0     0      0       0   \n",
       "1      chr1     910405     911405   0     0     0      0     0      0       0   \n",
       "2      chr1     910505     911505   0     0     0      0     0      0       0   \n",
       "3      chr1     910605     911605   0     0     0      0     0      0       0   \n",
       "4      chr1     910705     911705   0     0     0      0     0      0       0   \n",
       "...     ...        ...        ...  ..   ...   ...    ...   ...    ...     ...   \n",
       "49843  chrX  154370359  154371291   0     0     0      0     0      0       0   \n",
       "49844  chrX  154799022  154799934   0     0     0      0     0      0       0   \n",
       "49845  chrX  154800044  154801044   0     0     0      0     0      0       0   \n",
       "49846  chrX  154800144  154801144   0     0     0      0     0      0       0   \n",
       "49847  chrX  154800244  154801169   0     0     0      0     0      0       0   \n",
       "\n",
       "       16P12_1  \n",
       "0            0  \n",
       "1            0  \n",
       "2            0  \n",
       "3            0  \n",
       "4            0  \n",
       "...        ...  \n",
       "49843        0  \n",
       "49844        0  \n",
       "49845        0  \n",
       "49846        0  \n",
       "49847        0  \n",
       "\n",
       "[49848 rows x 11 columns]"
      ]
     },
     "execution_count": 11,
     "metadata": {},
     "output_type": "execute_result"
    }
   ],
   "source": [
    "label_df"
   ]
  },
  {
   "cell_type": "code",
   "execution_count": 12,
   "id": "af31f4de",
   "metadata": {},
   "outputs": [],
   "source": [
    "label_df[\"split\"] = \"train\"\n",
    "split_ratio=(70,15,15)\n",
    "a = np.arange(len(label_df))\n",
    "np.random.shuffle(a)\n",
    "for arr_idx, split_val in zip(np.split(a, [int(split_ratio[0]/100 * len(a)), int((split_ratio[0]/100 + split_ratio[1]/100) * len(a))]), [\"train\", \"valid\", \"test\"]):\n",
    "    label_df.loc[arr_idx, \"split\"] = split_val"
   ]
  },
  {
   "cell_type": "code",
   "execution_count": 13,
   "id": "f7a91412",
   "metadata": {},
   "outputs": [],
   "source": [
    "label_df = label_df.loc[(label_df.end-label_df.start)==1000]"
   ]
  },
  {
   "cell_type": "code",
   "execution_count": 14,
   "id": "b3dff575",
   "metadata": {},
   "outputs": [],
   "source": [
    "save_file = \"/data7/deepro/starrseq/4_ml_classification_fragment_category/data/MTL/resnet_1000.h5\"\n",
    "label_df.to_hdf(save_file, index=False, key=\"samples\")"
   ]
  },
  {
   "cell_type": "code",
   "execution_count": null,
   "id": "ce0d9e40",
   "metadata": {},
   "outputs": [],
   "source": []
  },
  {
   "cell_type": "code",
   "execution_count": 15,
   "id": "290c0f44",
   "metadata": {},
   "outputs": [],
   "source": [
    "pybedtools.helpers.cleanup(verbose=False, remove_all=True)"
   ]
  },
  {
   "cell_type": "code",
   "execution_count": null,
   "id": "44310ad1",
   "metadata": {},
   "outputs": [],
   "source": []
  },
  {
   "cell_type": "markdown",
   "id": "a0bbe96c",
   "metadata": {},
   "source": []
  }
 ],
 "metadata": {
  "kernelspec": {
   "display_name": "Python 3",
   "language": "python",
   "name": "python3"
  },
  "language_info": {
   "codemirror_mode": {
    "name": "ipython",
    "version": 3
   },
   "file_extension": ".py",
   "mimetype": "text/x-python",
   "name": "python",
   "nbconvert_exporter": "python",
   "pygments_lexer": "ipython3",
   "version": "3.13.2"
  }
 },
 "nbformat": 4,
 "nbformat_minor": 5
}
