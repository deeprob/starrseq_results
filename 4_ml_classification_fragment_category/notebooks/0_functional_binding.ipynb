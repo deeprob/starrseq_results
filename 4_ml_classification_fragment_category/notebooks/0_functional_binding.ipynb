{
 "cells": [
  {
   "attachments": {},
   "cell_type": "markdown",
   "metadata": {},
   "source": [
    "# Top model predicted factors that could discriminate between functional and non-functional binding sites"
   ]
  },
  {
   "cell_type": "code",
   "execution_count": 1,
   "metadata": {},
   "outputs": [],
   "source": [
    "import pandas as pd"
   ]
  },
  {
   "cell_type": "code",
   "execution_count": 2,
   "metadata": {},
   "outputs": [],
   "source": [
    "top_features_file = \"//data5/deepro/starrseq/papers/results/3_ml_classification_fragment_category/data/CC/peaks_vs_notpeaks/features.csv\"\n",
    "\n",
    "top_features_df = pd.read_csv(top_features_file, header=None)"
   ]
  },
  {
   "cell_type": "code",
   "execution_count": 3,
   "metadata": {},
   "outputs": [
    {
     "data": {
      "text/html": [
       "<div>\n",
       "<style scoped>\n",
       "    .dataframe tbody tr th:only-of-type {\n",
       "        vertical-align: middle;\n",
       "    }\n",
       "\n",
       "    .dataframe tbody tr th {\n",
       "        vertical-align: top;\n",
       "    }\n",
       "\n",
       "    .dataframe thead th {\n",
       "        text-align: right;\n",
       "    }\n",
       "</style>\n",
       "<table border=\"1\" class=\"dataframe\">\n",
       "  <thead>\n",
       "    <tr style=\"text-align: right;\">\n",
       "      <th></th>\n",
       "      <th>0</th>\n",
       "      <th>1</th>\n",
       "    </tr>\n",
       "  </thead>\n",
       "  <tbody>\n",
       "    <tr>\n",
       "      <th>0</th>\n",
       "      <td>P53_HUMAN.H11MO.0.A|+</td>\n",
       "      <td>0.119608</td>\n",
       "    </tr>\n",
       "    <tr>\n",
       "      <th>1</th>\n",
       "      <td>P53_HUMAN.H11MO.0.A|-</td>\n",
       "      <td>0.112019</td>\n",
       "    </tr>\n",
       "    <tr>\n",
       "      <th>2</th>\n",
       "      <td>ATF4_HUMAN.H11MO.0.A|+</td>\n",
       "      <td>0.087470</td>\n",
       "    </tr>\n",
       "    <tr>\n",
       "      <th>3</th>\n",
       "      <td>P63_HUMAN.H11MO.0.A|+</td>\n",
       "      <td>0.080319</td>\n",
       "    </tr>\n",
       "    <tr>\n",
       "      <th>4</th>\n",
       "      <td>P63_HUMAN.H11MO.0.A|-</td>\n",
       "      <td>0.078317</td>\n",
       "    </tr>\n",
       "    <tr>\n",
       "      <th>5</th>\n",
       "      <td>ATF4_HUMAN.H11MO.0.A|-</td>\n",
       "      <td>0.075245</td>\n",
       "    </tr>\n",
       "    <tr>\n",
       "      <th>6</th>\n",
       "      <td>CEBPG_HUMAN.H11MO.0.B|-</td>\n",
       "      <td>0.063286</td>\n",
       "    </tr>\n",
       "    <tr>\n",
       "      <th>7</th>\n",
       "      <td>TYY1_HUMAN.H11MO.0.A|+</td>\n",
       "      <td>0.058639</td>\n",
       "    </tr>\n",
       "    <tr>\n",
       "      <th>8</th>\n",
       "      <td>P73_HUMAN.H11MO.0.A|-</td>\n",
       "      <td>0.058372</td>\n",
       "    </tr>\n",
       "    <tr>\n",
       "      <th>9</th>\n",
       "      <td>CEBPG_HUMAN.H11MO.0.B|+</td>\n",
       "      <td>0.057500</td>\n",
       "    </tr>\n",
       "  </tbody>\n",
       "</table>\n",
       "</div>"
      ],
      "text/plain": [
       "                         0         1\n",
       "0    P53_HUMAN.H11MO.0.A|+  0.119608\n",
       "1    P53_HUMAN.H11MO.0.A|-  0.112019\n",
       "2   ATF4_HUMAN.H11MO.0.A|+  0.087470\n",
       "3    P63_HUMAN.H11MO.0.A|+  0.080319\n",
       "4    P63_HUMAN.H11MO.0.A|-  0.078317\n",
       "5   ATF4_HUMAN.H11MO.0.A|-  0.075245\n",
       "6  CEBPG_HUMAN.H11MO.0.B|-  0.063286\n",
       "7   TYY1_HUMAN.H11MO.0.A|+  0.058639\n",
       "8    P73_HUMAN.H11MO.0.A|-  0.058372\n",
       "9  CEBPG_HUMAN.H11MO.0.B|+  0.057500"
      ]
     },
     "execution_count": 3,
     "metadata": {},
     "output_type": "execute_result"
    }
   ],
   "source": [
    "top_features_df.head(10)"
   ]
  },
  {
   "cell_type": "code",
   "execution_count": null,
   "metadata": {},
   "outputs": [],
   "source": []
  }
 ],
 "metadata": {
  "kernelspec": {
   "display_name": "starrseq",
   "language": "python",
   "name": "python3"
  },
  "language_info": {
   "codemirror_mode": {
    "name": "ipython",
    "version": 3
   },
   "file_extension": ".py",
   "mimetype": "text/x-python",
   "name": "python",
   "nbconvert_exporter": "python",
   "pygments_lexer": "ipython3",
   "version": "3.9.7"
  },
  "orig_nbformat": 4,
  "vscode": {
   "interpreter": {
    "hash": "06856c2527dea3cf472b3c4994ec564df76496982852535c5a9520cd26601212"
   }
  }
 },
 "nbformat": 4,
 "nbformat_minor": 2
}
