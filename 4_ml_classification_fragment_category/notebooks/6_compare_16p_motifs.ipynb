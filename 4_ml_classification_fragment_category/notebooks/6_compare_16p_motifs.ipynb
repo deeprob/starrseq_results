{
 "cells": [
  {
   "cell_type": "code",
   "execution_count": 1,
   "metadata": {},
   "outputs": [
    {
     "name": "stderr",
     "output_type": "stream",
     "text": [
      "/data5/deepro/miniconda3/envs/starrseq/lib/python3.9/site-packages/scipy/__init__.py:146: UserWarning: A NumPy version >=1.16.5 and <1.23.0 is required for this version of SciPy (detected version 1.25.0\n",
      "  warnings.warn(f\"A NumPy version >={np_minversion} and <{np_maxversion}\"\n"
     ]
    }
   ],
   "source": [
    "import pandas as pd\n",
    "from bs4 import BeautifulSoup\n",
    "import seaborn as sns\n",
    "import numpy as np\n",
    "import os\n",
    "\n",
    "\n",
    "import seaborn as sns\n",
    "import matplotlib\n",
    "import matplotlib.pyplot as plt\n",
    "from matplotlib.ticker import MultipleLocator\n",
    "import matplotlib.patches as mpatches\n",
    "matplotlib.rcParams['pdf.fonttype'] = 42\n",
    "matplotlib.rcParams['ps.fonttype'] = 42\n",
    "matplotlib.rcParams['font.sans-serif'] = \"Arial\" # missing fonts:: https://alexanderlabwhoi.github.io/post/2021-03-missingfont/\n",
    "# Then, \"ALWAYS use sans-serif fonts\"\n",
    "matplotlib.rcParams['font.family'] = \"sans-serif\"\n",
    "matplotlib.rcParams.update({'font.size': 7, 'axes.linewidth': 1, 'xtick.major.width': 1, 'xtick.major.size': 4, 'ytick.major.width': 1, 'ytick.major.size': 4})\n",
    "from matplotlib.backends.backend_pdf import PdfPages\n"
   ]
  },
  {
   "cell_type": "code",
   "execution_count": 2,
   "metadata": {},
   "outputs": [],
   "source": [
    "def read_homer_motif_html(path, drop_logo_columns=True, coerce_numeric=True):\n",
    "    \"\"\"\n",
    "    Parse a motif HTML results page into a pandas DataFrame.\n",
    "    \"\"\"\n",
    "    with open(path, \"r\", encoding=\"utf-8\") as f:\n",
    "        soup = BeautifulSoup(f, \"lxml\")\n",
    "    # Find the most likely results table (the one whose header contains 'Rank')\n",
    "    tables = soup.find_all(\"table\")\n",
    "    if not tables:\n",
    "        raise ValueError(\"No <table> found in the HTML file.\")\n",
    "    def header_cells(table):\n",
    "        first = table.find(\"tr\")\n",
    "        return [] if first is None else [c.get_text(strip=True) for c in first.find_all([\"th\", \"td\"])]\n",
    "    candidate = None\n",
    "    headers = None\n",
    "    for t in tables:\n",
    "        hdr = header_cells(t)\n",
    "        if hdr and any(h.lower().startswith(\"rank\") for h in hdr):\n",
    "            candidate, headers = t, hdr\n",
    "            break\n",
    "    if candidate is None:\n",
    "        candidate, headers = tables[0], header_cells(tables[0])\n",
    "    # Decide which columns to keep (drop logo/SVG if requested)\n",
    "    drop_names = {\"motif\", \"svg\"} if drop_logo_columns else set()\n",
    "    keep_idx = [i for i, h in enumerate(headers) if h.strip().lower() not in drop_names]\n",
    "    keep_headers = [headers[i] for i in keep_idx]\n",
    "    # Extract rows\n",
    "    rows = []\n",
    "    for tr in candidate.find_all(\"tr\")[1:]:\n",
    "        tds = tr.find_all(\"td\")\n",
    "        if not tds or len(tds) < len(headers):\n",
    "            continue\n",
    "        row = []\n",
    "        for i in keep_idx:\n",
    "            td = tds[i]\n",
    "            head_lower = headers[i].strip().lower()\n",
    "            # Prefer href for link-like columns\n",
    "            a = td.find(\"a\")\n",
    "            if a and head_lower in {\"motif file\", \"best match\", \"url\", \"link\"}:\n",
    "                row.append((a.get(\"href\") or \"\").strip())\n",
    "                continue\n",
    "            # If there’s an inline SVG, blank it out (shouldn’t happen if dropped)\n",
    "            if td.find(\"svg\"):\n",
    "                row.append(\"\")\n",
    "                continue\n",
    "            # Otherwise collapse text cleanly\n",
    "            text = \" \".join(td.get_text(separator=\" \", strip=True).split())\n",
    "            row.append(text)\n",
    "        rows.append(row)\n",
    "    df = pd.DataFrame(rows, columns=keep_headers)\n",
    "    # Optional numeric coercion (handles %, commas, scientific notation)\n",
    "    if coerce_numeric:\n",
    "        for col in df.columns:\n",
    "            if df[col].dtype == object:\n",
    "                s = df[col].str.replace(\"%\", \"\", regex=False).str.replace(\",\", \"\", regex=False)\n",
    "                # Try numeric; if it fails, keep as text\n",
    "                converted = pd.to_numeric(s, errors=\"ignore\")\n",
    "                df[col] = converted\n",
    "    # drop all na cols\n",
    "    df = df.dropna(axis=1, how=\"all\")\n",
    "    return df\n",
    "\n",
    "def save_pdf(save_file, fig):\n",
    "    os.makedirs(os.path.dirname(save_file), exist_ok=True)\n",
    "    pdf = PdfPages(save_file)\n",
    "    pdf.savefig(fig, bbox_inches='tight', dpi=300)\n",
    "    pdf.close()\n",
    "    return\n"
   ]
  },
  {
   "cell_type": "code",
   "execution_count": 3,
   "metadata": {},
   "outputs": [
    {
     "name": "stderr",
     "output_type": "stream",
     "text": [
      "/data5/deepro/miniconda3/envs/starrseq/lib/python3.9/site-packages/pandas/util/_decorators.py:311: ParserWarning: Falling back to the 'python' engine because the 'c' engine does not support skipfooter; you can avoid this warning by specifying engine='python'.\n",
      "  return func(*args, **kwargs)\n"
     ]
    }
   ],
   "source": [
    "ame_file = \"/data5/deepro/starrseq/papers/results/3_motif_enrichment_fragment_category/data/16P12_1/meme/peaks_vs_notpeaks/ame.tsv\"\n",
    "ame_df = pd.read_csv(ame_file, sep=\"\\t\", skipfooter=4)"
   ]
  },
  {
   "cell_type": "code",
   "execution_count": 4,
   "metadata": {},
   "outputs": [],
   "source": [
    "html_file = \"/data7/deepro/starrseq/4_ml_classification_fragment_category/data/16P12_1/modisco_results/motifs.html\"\n",
    "df = read_homer_motif_html(html_file)"
   ]
  },
  {
   "cell_type": "code",
   "execution_count": 5,
   "metadata": {},
   "outputs": [],
   "source": [
    "unique_df = df.loc[df.groupby(\"match0\")[\"qval0\"].idxmin(), [\"match0\", \"qval0\"]]\n",
    "ame_df = ame_df.loc[:, [\"motif_ID\", \"adj_p-value\"]]\n"
   ]
  },
  {
   "cell_type": "code",
   "execution_count": 6,
   "metadata": {},
   "outputs": [],
   "source": [
    "plot_df = ame_df.merge(\n",
    "    unique_df, left_on=\"motif_ID\", right_on=\"match0\"\n",
    "    ).drop(columns=\"match0\").set_index(\"motif_ID\").replace(0, 1e-300).apply(\n",
    "        lambda x: -np.log10(x)\n",
    "        ).rename(columns={\"adj_p-value\": \"MEA\", \"qval0\": \"ResNet\"})\n",
    "plot_df.index = [x.split(\"_\")[0] for x in plot_df.index]\n"
   ]
  },
  {
   "cell_type": "code",
   "execution_count": 7,
   "metadata": {},
   "outputs": [
    {
     "data": {
      "text/plain": [
       "<AxesSubplot:>"
      ]
     },
     "execution_count": 7,
     "metadata": {},
     "output_type": "execute_result"
    },
    {
     "data": {
      "image/png": "[encoded data removed]",
      "text/plain": [
       "<Figure size 144x288 with 2 Axes>"
      ]
     },
     "metadata": {
      "needs_background": "light"
     },
     "output_type": "display_data"
    }
   ],
   "source": [
    "fig, ax = plt.subplots(1,1,figsize=(2,4))\n",
    "cbar_ax = fig.add_axes([0.65, 0.65, 0.05, 0.15])\n",
    "sns.heatmap(\n",
    "    plot_df, vmin=1, center=2, vmax=10, \n",
    "    cmap=\"Reds\", square=True, linewidth=0.5,\n",
    "    cbar_ax=cbar_ax,\n",
    "    ax=ax\n",
    "    )\n"
   ]
  },
  {
   "cell_type": "code",
   "execution_count": 8,
   "metadata": {},
   "outputs": [],
   "source": [
    "save_file = \"/data7/deepro/starrseq/4_ml_classification_fragment_category/data/figures/16p_mea_resnet_motifs.pdf\"\n",
    "save_pdf(save_file, fig)"
   ]
  },
  {
   "cell_type": "code",
   "execution_count": null,
   "metadata": {},
   "outputs": [],
   "source": []
  },
  {
   "cell_type": "code",
   "execution_count": null,
   "metadata": {},
   "outputs": [],
   "source": []
  }
 ],
 "metadata": {
  "kernelspec": {
   "display_name": "starrseq",
   "language": "python",
   "name": "python3"
  },
  "language_info": {
   "codemirror_mode": {
    "name": "ipython",
    "version": 3
   },
   "file_extension": ".py",
   "mimetype": "text/x-python",
   "name": "python",
   "nbconvert_exporter": "python",
   "pygments_lexer": "ipython3",
   "version": "3.9.16"
  }
 },
 "nbformat": 4,
 "nbformat_minor": 2
}
