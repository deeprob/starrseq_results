{
 "cells": [
  {
   "cell_type": "code",
   "execution_count": 1,
   "metadata": {},
   "outputs": [],
   "source": [
    "import pandas as pd"
   ]
  },
  {
   "cell_type": "code",
   "execution_count": 2,
   "metadata": {},
   "outputs": [],
   "source": [
    "meta_file = \"/data5/deepro/starrseq/papers/results/1_categorize_fragments_on_activity/data/meta_activity_map.csv\""
   ]
  },
  {
   "cell_type": "code",
   "execution_count": 3,
   "metadata": {},
   "outputs": [],
   "source": [
    "meta_df = pd.read_csv(meta_file)"
   ]
  },
  {
   "cell_type": "code",
   "execution_count": 4,
   "metadata": {},
   "outputs": [],
   "source": [
    "ko_lines = [\"ATF2\", \"CTCF\", \"FOXA1\", \"LEF1\", \"SCRT1\", \"TCF7L2\", \"16P12_1\"]"
   ]
  },
  {
   "cell_type": "code",
   "execution_count": 5,
   "metadata": {},
   "outputs": [],
   "source": [
    "def get_gained_fragments(meta_df, ko):\n",
    "    meta_df[f\"{ko}_induced\"] = ((meta_df[f\"{ko}_log2FoldChange\"]>0)&(meta_df[f\"{ko}_padj\"]<0.01)&(meta_df[f\"{ko}_peak\"]==1)).astype(int)\n",
    "    meta_df_gained = meta_df.loc[(meta_df[f\"{ko}_induced\"]==1)&(meta_df[f\"CC_peak\"]==0)]\n",
    "    return meta_df_gained\n",
    "\n",
    "def get_lost_fragments(meta_df, ko):\n",
    "    meta_df[f\"{ko}_repressed\"] = ((meta_df[f\"{ko}_log2FoldChange\"]<0)&(meta_df[f\"{ko}_padj\"]<0.01)&(meta_df[f\"{ko}_peak\"]==0)).astype(int)\n",
    "    meta_df_lost = meta_df.loc[(meta_df[f\"{ko}_repressed\"]==1)&(meta_df[f\"CC_peak\"]==1)]\n",
    "    return meta_df_lost"
   ]
  },
  {
   "cell_type": "code",
   "execution_count": 6,
   "metadata": {},
   "outputs": [],
   "source": [
    "def create_ko_df(meta_df, ko_lines):\n",
    "    data_dict = {f\"{ko}\":[] for ko in ko_lines}\n",
    "    for ko in ko_lines:\n",
    "        gained_fragments = get_gained_fragments(meta_df, ko)\n",
    "        lost_fragment = get_lost_fragments(meta_df, ko)\n",
    "        data_dict[ko].append(len(gained_fragments))\n",
    "        data_dict[ko].append(len(lost_fragment))\n",
    "    df = pd.DataFrame(data=data_dict, columns=ko_lines, index=[\"gained\", \"lost\"])\n",
    "    return df\n"
   ]
  },
  {
   "cell_type": "code",
   "execution_count": 7,
   "metadata": {},
   "outputs": [
    {
     "data": {
      "text/html": [
       "<div>\n",
       "<style scoped>\n",
       "    .dataframe tbody tr th:only-of-type {\n",
       "        vertical-align: middle;\n",
       "    }\n",
       "\n",
       "    .dataframe tbody tr th {\n",
       "        vertical-align: top;\n",
       "    }\n",
       "\n",
       "    .dataframe thead th {\n",
       "        text-align: right;\n",
       "    }\n",
       "</style>\n",
       "<table border=\"1\" class=\"dataframe\">\n",
       "  <thead>\n",
       "    <tr style=\"text-align: right;\">\n",
       "      <th></th>\n",
       "      <th>ATF2</th>\n",
       "      <th>CTCF</th>\n",
       "      <th>FOXA1</th>\n",
       "      <th>LEF1</th>\n",
       "      <th>SCRT1</th>\n",
       "      <th>TCF7L2</th>\n",
       "      <th>16P12_1</th>\n",
       "    </tr>\n",
       "  </thead>\n",
       "  <tbody>\n",
       "    <tr>\n",
       "      <th>gained</th>\n",
       "      <td>54</td>\n",
       "      <td>59</td>\n",
       "      <td>764</td>\n",
       "      <td>245</td>\n",
       "      <td>303</td>\n",
       "      <td>432</td>\n",
       "      <td>167</td>\n",
       "    </tr>\n",
       "    <tr>\n",
       "      <th>lost</th>\n",
       "      <td>1338</td>\n",
       "      <td>281</td>\n",
       "      <td>15</td>\n",
       "      <td>848</td>\n",
       "      <td>12</td>\n",
       "      <td>0</td>\n",
       "      <td>57</td>\n",
       "    </tr>\n",
       "  </tbody>\n",
       "</table>\n",
       "</div>"
      ],
      "text/plain": [
       "        ATF2  CTCF  FOXA1  LEF1  SCRT1  TCF7L2  16P12_1\n",
       "gained    54    59    764   245    303     432      167\n",
       "lost    1338   281     15   848     12       0       57"
      ]
     },
     "execution_count": 7,
     "metadata": {},
     "output_type": "execute_result"
    }
   ],
   "source": [
    "create_ko_df(meta_df, ko_lines)"
   ]
  },
  {
   "cell_type": "code",
   "execution_count": null,
   "metadata": {},
   "outputs": [],
   "source": []
  }
 ],
 "metadata": {
  "kernelspec": {
   "display_name": "starrseq",
   "language": "python",
   "name": "python3"
  },
  "language_info": {
   "codemirror_mode": {
    "name": "ipython",
    "version": 3
   },
   "file_extension": ".py",
   "mimetype": "text/x-python",
   "name": "python",
   "nbconvert_exporter": "python",
   "pygments_lexer": "ipython3",
   "version": "3.9.7"
  },
  "orig_nbformat": 4,
  "vscode": {
   "interpreter": {
    "hash": "06856c2527dea3cf472b3c4994ec564df76496982852535c5a9520cd26601212"
   }
  }
 },
 "nbformat": 4,
 "nbformat_minor": 2
}
