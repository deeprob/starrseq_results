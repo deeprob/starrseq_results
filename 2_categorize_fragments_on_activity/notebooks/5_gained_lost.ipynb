{
 "cells": [
  {
   "cell_type": "code",
   "execution_count": 1,
   "metadata": {},
   "outputs": [],
   "source": [
    "import pandas as pd\n",
    "\n",
    "# plotting modules\n",
    "import matplotlib.colors as colors\n",
    "import seaborn as sns\n",
    "from matplotlib.ticker import MultipleLocator\n",
    "import matplotlib\n",
    "import matplotlib.pyplot as plt\n",
    "matplotlib.rcParams['pdf.fonttype'] = 42\n",
    "matplotlib.rcParams['ps.fonttype'] = 42\n",
    "matplotlib.rcParams['font.sans-serif'] = \"Arial\" # missing fonts:: https://alexanderlabwhoi.github.io/post/2021-03-missingfont/\n",
    "# Then, \"ALWAYS use sans-serif fonts\"\n",
    "matplotlib.rcParams['font.family'] = \"sans-serif\"\n",
    "matplotlib.rcParams.update({'font.size': 14, 'axes.linewidth': 2, 'xtick.major.width': 1.5, 'xtick.major.size': 5, 'ytick.major.width': 1.5, 'ytick.major.size': 4})\n",
    "from matplotlib.backends.backend_pdf import PdfPages"
   ]
  },
  {
   "cell_type": "code",
   "execution_count": 2,
   "metadata": {},
   "outputs": [],
   "source": [
    "def save_pdf(save_file, fig):\n",
    "    pdf = PdfPages(save_file)\n",
    "    pdf.savefig(fig, bbox_inches='tight')\n",
    "    pdf.close()\n",
    "    return"
   ]
  },
  {
   "cell_type": "code",
   "execution_count": 3,
   "metadata": {},
   "outputs": [],
   "source": [
    "meta_file = \"../data/meta_activity_map.csv\""
   ]
  },
  {
   "cell_type": "code",
   "execution_count": 4,
   "metadata": {},
   "outputs": [],
   "source": [
    "meta_df = pd.read_csv(meta_file)"
   ]
  },
  {
   "cell_type": "code",
   "execution_count": 5,
   "metadata": {},
   "outputs": [],
   "source": [
    "ko_lines = [\"ATF2\", \"CTCF\", \"FOXA1\", \"LEF1\", \"SCRT1\", \"TCF7L2\", \"16P12_1\"]"
   ]
  },
  {
   "cell_type": "code",
   "execution_count": 6,
   "metadata": {},
   "outputs": [],
   "source": [
    "def get_gained_fragments(meta_df, ko):\n",
    "    meta_df[f\"{ko}_induced\"] = ((meta_df[f\"{ko}_log2FoldChange\"]>0)&(meta_df[f\"{ko}_padj\"]<0.01)&(meta_df[f\"{ko}_peak\"]==1)).astype(int)\n",
    "    meta_df_gained = meta_df.loc[(meta_df[f\"{ko}_induced\"]==1)&(meta_df[f\"CC_peak\"]==0)]\n",
    "    return meta_df_gained\n",
    "\n",
    "def get_lost_fragments(meta_df, ko):\n",
    "    meta_df[f\"{ko}_repressed\"] = ((meta_df[f\"{ko}_log2FoldChange\"]<0)&(meta_df[f\"{ko}_padj\"]<0.01)&(meta_df[f\"{ko}_peak\"]==0)).astype(int)\n",
    "    meta_df_lost = meta_df.loc[(meta_df[f\"{ko}_repressed\"]==1)&(meta_df[f\"CC_peak\"]==1)]\n",
    "    return meta_df_lost"
   ]
  },
  {
   "cell_type": "code",
   "execution_count": 7,
   "metadata": {},
   "outputs": [],
   "source": [
    "def create_ko_df(meta_df, ko_lines):\n",
    "    data_dict = {f\"{ko}\":[] for ko in ko_lines}\n",
    "    for ko in ko_lines:\n",
    "        gained_fragments = get_gained_fragments(meta_df, ko)\n",
    "        lost_fragment = get_lost_fragments(meta_df, ko)\n",
    "        data_dict[ko].append(len(gained_fragments))\n",
    "        data_dict[ko].append(len(lost_fragment))\n",
    "    df = pd.DataFrame(data=data_dict, columns=ko_lines, index=[\"gained\", \"lost\"])\n",
    "    return df\n"
   ]
  },
  {
   "cell_type": "code",
   "execution_count": 8,
   "metadata": {},
   "outputs": [],
   "source": [
    "gain_loss_df = create_ko_df(meta_df, ko_lines).T.reset_index().rename(columns={'index': 'TF'})"
   ]
  },
  {
   "cell_type": "code",
   "execution_count": 9,
   "metadata": {},
   "outputs": [],
   "source": [
    "plot_df = gain_loss_df.loc[gain_loss_df.TF!=\"16P12_1\"].melt(id_vars=[\"TF\"], value_vars=[\"gained\", \"lost\"], var_name=\"Activity\", value_name=\"Fragment count\")"
   ]
  },
  {
   "cell_type": "code",
   "execution_count": 10,
   "metadata": {},
   "outputs": [
    {
     "data": {
      "text/plain": [
       "<matplotlib.legend.Legend at 0x7fdaf7889580>"
      ]
     },
     "execution_count": 10,
     "metadata": {},
     "output_type": "execute_result"
    },
    {
     "data": {
      "image/png": "[encoded data removed]",
      "text/plain": [
       "<Figure size 576x432 with 1 Axes>"
      ]
     },
     "metadata": {
      "needs_background": "light"
     },
     "output_type": "display_data"
    }
   ],
   "source": [
    "fig, axes = plt.subplots(figsize=(8,6))\n",
    "\n",
    "g = sns.barplot(\n",
    "    data=plot_df, x=\"TF\", y=\"Fragment count\", \n",
    "    hue=\"Activity\", palette=[\"#bb2a34\", \"#15508d\"], hue_order=[\"gained\", \"lost\"],  #\n",
    "    log=False, ax=axes, edgecolor=\"k\", linewidth=1.5)\n",
    "\n",
    "g.axes.set_xticklabels(g.axes.get_xticklabels(), rotation=90)\n",
    "\n",
    "for i in g.containers:\n",
    "    g.bar_label(i,);\n",
    "\n",
    "axes.spines[[\"right\", \"top\"]].set_visible(False)\n",
    "axes.legend(frameon=False)"
   ]
  },
  {
   "cell_type": "code",
   "execution_count": 11,
   "metadata": {},
   "outputs": [],
   "source": [
    "save_file = \"../data/figures/gain_loss.pdf\"\n",
    "save_pdf(save_file, fig)"
   ]
  },
  {
   "cell_type": "code",
   "execution_count": null,
   "metadata": {},
   "outputs": [],
   "source": []
  }
 ],
 "metadata": {
  "kernelspec": {
   "display_name": "starrseq",
   "language": "python",
   "name": "python3"
  },
  "language_info": {
   "codemirror_mode": {
    "name": "ipython",
    "version": 3
   },
   "file_extension": ".py",
   "mimetype": "text/x-python",
   "name": "python",
   "nbconvert_exporter": "python",
   "pygments_lexer": "ipython3",
   "version": "3.9.16"
  },
  "orig_nbformat": 4,
  "vscode": {
   "interpreter": {
    "hash": "06856c2527dea3cf472b3c4994ec564df76496982852535c5a9520cd26601212"
   }
  }
 },
 "nbformat": 4,
 "nbformat_minor": 2
}
