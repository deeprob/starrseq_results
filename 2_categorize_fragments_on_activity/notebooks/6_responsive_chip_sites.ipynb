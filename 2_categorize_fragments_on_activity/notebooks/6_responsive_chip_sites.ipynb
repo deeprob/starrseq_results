{
 "cells": [
  {
   "cell_type": "code",
   "execution_count": 1,
   "metadata": {},
   "outputs": [],
   "source": [
    "import os\n",
    "import pandas as pd\n",
    "import pybedtools\n",
    "\n",
    "#### GLOBALS ####\n",
    "CURRENT_DIR_PATH = os.path.dirname(os.path.abspath(\"__file__\"))\n",
    "pybedtools.helpers.set_tempdir(CURRENT_DIR_PATH)"
   ]
  },
  {
   "cell_type": "code",
   "execution_count": 2,
   "metadata": {},
   "outputs": [],
   "source": [
    "atf2_chip_file = \"/data5/deepro/starrseq/papers/reproducibility/0_in-house_dataset/data/encode/hek293/chip/tf/ATF2/ENCSR217HTK/ENCFF225VCG.bed.gz\"\n",
    "foxa1_chip_file = \"/data5/deepro/starrseq/papers/reproducibility/0_in-house_dataset/data/encode/hek293/chip/tf/FOXA1/ENCSR094WHO/ENCFF514ZNN.bed.gz\"\n",
    "lef1_chip_file = \"/data5/deepro/starrseq/papers/reproducibility/0_in-house_dataset/data/encode/hek293/chip/tf/LEF1/ENCSR240XWM/ENCFF939UTN.bed.gz\"\n",
    "scrt1_chip_file = \"/data5/deepro/starrseq/papers/reproducibility/0_in-house_dataset/data/encode/hek293/chip/tf/SCRT1/ENCSR605MGM/ENCFF799CAL.bed.gz\"\n",
    "\n",
    "atf2_responsive_file = \"/data5/deepro/starrseq/papers/results/2_categorize_fragments_on_activity/data/ATF2/responsive.bed\"\n",
    "foxa1_responsive_file = \"/data5/deepro/starrseq/papers/results/2_categorize_fragments_on_activity/data/FOXA1/responsive.bed\"\n",
    "lef1_responsive_file = \"/data5/deepro/starrseq/papers/results/2_categorize_fragments_on_activity/data/LEF1/responsive.bed\"\n",
    "scrt1_responsive_file = \"/data5/deepro/starrseq/papers/results/2_categorize_fragments_on_activity/data/SCRT1/responsive.bed\""
   ]
  },
  {
   "cell_type": "code",
   "execution_count": 3,
   "metadata": {},
   "outputs": [],
   "source": [
    "master_file = \"/data5/deepro/starrseq/papers/reproducibility/0_in-house_dataset/data/master/master.bed\""
   ]
  },
  {
   "cell_type": "code",
   "execution_count": 4,
   "metadata": {},
   "outputs": [],
   "source": [
    "def get_intersecting_fragments(responsive_file, chip_file, master_file, save_file):\n",
    "    responsive_bed = pybedtools.BedTool(responsive_file)\n",
    "    chip_bed = pybedtools.BedTool(chip_file)\n",
    "    master_bed = pybedtools.BedTool(master_file)\n",
    "    # regions in the master file that intersect with the foxa1 chip\n",
    "    master_chip_bed = master_bed.intersect(chip_bed, u=True)\n",
    "    master_chip_bed_len = len(master_chip_bed)\n",
    "    master_bed_len = len(master_bed)\n",
    "    intersect_bed = responsive_bed.intersect(master_chip_bed, u=True)\n",
    "    # responsive fragments which had even a 1 bp overlap with foxa1 chip sites in our library\n",
    "    responsive_chip_bed_len = len(intersect_bed)\n",
    "    responsive_bed_len = len(responsive_bed)\n",
    "    intersect_bed.moveto(save_file)\n",
    "    pybedtools.helpers.cleanup(remove_all=True)\n",
    "    return master_chip_bed_len, master_bed_len, responsive_chip_bed_len, responsive_bed_len"
   ]
  },
  {
   "cell_type": "code",
   "execution_count": 5,
   "metadata": {},
   "outputs": [],
   "source": [
    "chip_files = [atf2_chip_file, foxa1_chip_file, lef1_chip_file, scrt1_chip_file]\n",
    "responsive_file = [atf2_responsive_file, foxa1_responsive_file, lef1_responsive_file, scrt1_responsive_file]\n",
    "\n",
    "percentage_master = []\n",
    "percentage_response = []\n",
    "\n",
    "save_file = \"./example.bed\"\n",
    "for cf, rf in zip(chip_files, responsive_file):\n",
    "    mcl, ml, rcl, rl = get_intersecting_fragments(rf, cf, master_file, save_file)\n",
    "    percentage_master.append(mcl*100/ml)\n",
    "    percentage_response.append(rcl*100/rl)\n"
   ]
  },
  {
   "cell_type": "code",
   "execution_count": 7,
   "metadata": {},
   "outputs": [
    {
     "data": {
      "text/html": [
       "<div>\n",
       "<style scoped>\n",
       "    .dataframe tbody tr th:only-of-type {\n",
       "        vertical-align: middle;\n",
       "    }\n",
       "\n",
       "    .dataframe tbody tr th {\n",
       "        vertical-align: top;\n",
       "    }\n",
       "\n",
       "    .dataframe thead th {\n",
       "        text-align: right;\n",
       "    }\n",
       "</style>\n",
       "<table border=\"1\" class=\"dataframe\">\n",
       "  <thead>\n",
       "    <tr style=\"text-align: right;\">\n",
       "      <th></th>\n",
       "      <th>chip_in_master</th>\n",
       "      <th>chip_in_response</th>\n",
       "    </tr>\n",
       "  </thead>\n",
       "  <tbody>\n",
       "    <tr>\n",
       "      <th>ATF2</th>\n",
       "      <td>12.455030</td>\n",
       "      <td>31.233621</td>\n",
       "    </tr>\n",
       "    <tr>\n",
       "      <th>FOXA1</th>\n",
       "      <td>1.380521</td>\n",
       "      <td>3.251525</td>\n",
       "    </tr>\n",
       "    <tr>\n",
       "      <th>LEF1</th>\n",
       "      <td>1.306835</td>\n",
       "      <td>5.046821</td>\n",
       "    </tr>\n",
       "    <tr>\n",
       "      <th>SCRT1</th>\n",
       "      <td>11.094014</td>\n",
       "      <td>23.903918</td>\n",
       "    </tr>\n",
       "  </tbody>\n",
       "</table>\n",
       "</div>"
      ],
      "text/plain": [
       "       chip_in_master  chip_in_response\n",
       "ATF2        12.455030         31.233621\n",
       "FOXA1        1.380521          3.251525\n",
       "LEF1         1.306835          5.046821\n",
       "SCRT1       11.094014         23.903918"
      ]
     },
     "execution_count": 7,
     "metadata": {},
     "output_type": "execute_result"
    }
   ],
   "source": [
    "pd.DataFrame({\"chip_in_master\": percentage_master, \"chip_in_response\": percentage_response}, index=[\"ATF2\", \"FOXA1\", \"LEF1\", \"SCRT1\"])"
   ]
  },
  {
   "cell_type": "code",
   "execution_count": null,
   "metadata": {},
   "outputs": [],
   "source": []
  }
 ],
 "metadata": {
  "kernelspec": {
   "display_name": "Python 3",
   "language": "python",
   "name": "python3"
  },
  "language_info": {
   "codemirror_mode": {
    "name": "ipython",
    "version": 3
   },
   "file_extension": ".py",
   "mimetype": "text/x-python",
   "name": "python",
   "nbconvert_exporter": "python",
   "pygments_lexer": "ipython3",
   "version": "3.9.7"
  },
  "orig_nbformat": 4
 },
 "nbformat": 4,
 "nbformat_minor": 2
}
