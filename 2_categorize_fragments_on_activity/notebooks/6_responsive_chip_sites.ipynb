{
 "cells": [
  {
   "cell_type": "code",
   "execution_count": 1,
   "metadata": {},
   "outputs": [],
   "source": [
    "import os\n",
    "import pandas as pd"
   ]
  },
  {
   "cell_type": "code",
   "execution_count": 2,
   "metadata": {},
   "outputs": [],
   "source": [
    "libs = [\"ATF2\", \"CTCF\", \"FOXA1\", \"LEF1\", \"SCRT1\", \"TCF7L2\"]\n",
    "response_dir = \"/data5/deepro/starrseq/papers/results/2_categorize_fragments_on_activity/data\""
   ]
  },
  {
   "cell_type": "code",
   "execution_count": 3,
   "metadata": {},
   "outputs": [],
   "source": [
    "def get_file_length(filename):\n",
    "    with open(filename) as f:\n",
    "        nlines = len(f.readlines())\n",
    "    return nlines"
   ]
  },
  {
   "cell_type": "code",
   "execution_count": 4,
   "metadata": {},
   "outputs": [],
   "source": [
    "response_dict = dict()\n",
    "\n",
    "for lib in libs:\n",
    "    r_file = os.path.join(response_dir, lib, \"responsive.bed\")\n",
    "    dbr_file = os.path.join(response_dir, lib, \"direct_binding_responsive.bed\")\n",
    "    idbr_file = os.path.join(response_dir, lib, \"indirect_binding_responsive.bed\")\n",
    "    response_dict[lib] = list(map(get_file_length, [r_file, dbr_file, idbr_file]))"
   ]
  },
  {
   "cell_type": "code",
   "execution_count": 5,
   "metadata": {},
   "outputs": [
    {
     "data": {
      "text/plain": [
       "{'ATF2': [20987, 4569, 16418],\n",
       " 'CTCF': [10897, 2435, 8462],\n",
       " 'FOXA1': [35245, 737, 34508],\n",
       " 'LEF1': [10145, 274, 9871],\n",
       " 'SCRT1': [4288, 744, 3544],\n",
       " 'TCF7L2': [9365, 2181, 7184]}"
      ]
     },
     "execution_count": 5,
     "metadata": {},
     "output_type": "execute_result"
    }
   ],
   "source": [
    "response_dict"
   ]
  },
  {
   "cell_type": "code",
   "execution_count": 11,
   "metadata": {},
   "outputs": [],
   "source": [
    "df = pd.DataFrame(response_dict).T.rename(columns={0:\"responsive\", 1:\"binding_responsive\", 2:\"not_binding_responsive\"})"
   ]
  },
  {
   "cell_type": "code",
   "execution_count": 21,
   "metadata": {},
   "outputs": [
    {
     "data": {
      "text/plain": [
       "<AxesSubplot:>"
      ]
     },
     "execution_count": 21,
     "metadata": {},
     "output_type": "execute_result"
    },
    {
     "data": {
      "image/png": "[encoded data removed]",
      "text/plain": [
       "<Figure size 432x288 with 1 Axes>"
      ]
     },
     "metadata": {
      "needs_background": "light"
     },
     "output_type": "display_data"
    }
   ],
   "source": [
    "df.loc[:, [\"binding_responsive\", \"not_binding_responsive\"]].plot.bar(stacked=True, color=[\"crimson\", \"royalblue\"])"
   ]
  },
  {
   "cell_type": "code",
   "execution_count": 16,
   "metadata": {},
   "outputs": [
    {
     "data": {
      "text/plain": [
       "{'ATF2': (31991, 254161, 4575, 20987),\n",
       " 'FOXA1': (3652, 254161, 737, 35245),\n",
       " 'LEF1': (3967, 254161, 274, 10145),\n",
       " 'SCRT1': (30602, 254161, 746, 4288)}"
      ]
     },
     "execution_count": 16,
     "metadata": {},
     "output_type": "execute_result"
    }
   ],
   "source": [
    "info_dict"
   ]
  },
  {
   "cell_type": "code",
   "execution_count": 17,
   "metadata": {},
   "outputs": [
    {
     "data": {
      "text/html": [
       "<div>\n",
       "<style scoped>\n",
       "    .dataframe tbody tr th:only-of-type {\n",
       "        vertical-align: middle;\n",
       "    }\n",
       "\n",
       "    .dataframe tbody tr th {\n",
       "        vertical-align: top;\n",
       "    }\n",
       "\n",
       "    .dataframe thead th {\n",
       "        text-align: right;\n",
       "    }\n",
       "</style>\n",
       "<table border=\"1\" class=\"dataframe\">\n",
       "  <thead>\n",
       "    <tr style=\"text-align: right;\">\n",
       "      <th></th>\n",
       "      <th>chip_in_master</th>\n",
       "      <th>chip_in_response</th>\n",
       "    </tr>\n",
       "  </thead>\n",
       "  <tbody>\n",
       "    <tr>\n",
       "      <th>ATF2</th>\n",
       "      <td>12.586904</td>\n",
       "      <td>21.799209</td>\n",
       "    </tr>\n",
       "    <tr>\n",
       "      <th>FOXA1</th>\n",
       "      <td>1.436884</td>\n",
       "      <td>2.091077</td>\n",
       "    </tr>\n",
       "    <tr>\n",
       "      <th>LEF1</th>\n",
       "      <td>1.560822</td>\n",
       "      <td>2.700838</td>\n",
       "    </tr>\n",
       "    <tr>\n",
       "      <th>SCRT1</th>\n",
       "      <td>12.040400</td>\n",
       "      <td>17.397388</td>\n",
       "    </tr>\n",
       "  </tbody>\n",
       "</table>\n",
       "</div>"
      ],
      "text/plain": [
       "       chip_in_master  chip_in_response\n",
       "ATF2        12.586904         21.799209\n",
       "FOXA1        1.436884          2.091077\n",
       "LEF1         1.560822          2.700838\n",
       "SCRT1       12.040400         17.397388"
      ]
     },
     "execution_count": 17,
     "metadata": {},
     "output_type": "execute_result"
    }
   ],
   "source": [
    "pd.DataFrame({\"chip_in_master\": percentage_master, \"chip_in_response\": percentage_response}, index=[\"ATF2\", \"FOXA1\", \"LEF1\", \"SCRT1\"])"
   ]
  },
  {
   "cell_type": "code",
   "execution_count": null,
   "metadata": {},
   "outputs": [],
   "source": []
  }
 ],
 "metadata": {
  "kernelspec": {
   "display_name": "Python 3",
   "language": "python",
   "name": "python3"
  },
  "language_info": {
   "codemirror_mode": {
    "name": "ipython",
    "version": 3
   },
   "file_extension": ".py",
   "mimetype": "text/x-python",
   "name": "python",
   "nbconvert_exporter": "python",
   "pygments_lexer": "ipython3",
   "version": "3.9.16"
  },
  "orig_nbformat": 4
 },
 "nbformat": 4,
 "nbformat_minor": 2
}
