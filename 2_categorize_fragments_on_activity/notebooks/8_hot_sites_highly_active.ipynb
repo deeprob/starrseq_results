{
 "cells": [
  {
   "attachments": {},
   "cell_type": "markdown",
   "metadata": {},
   "source": [
    "We ranked these regions by the number of unique TFs bound and set a threshold of the 90th percentile of the number of TFs to define HOT sites, similar to previous methods."
   ]
  },
  {
   "cell_type": "code",
   "execution_count": 1,
   "metadata": {},
   "outputs": [
    {
     "name": "stderr",
     "output_type": "stream",
     "text": [
      "/data5/deepro/miniconda3/envs/starrseq/lib/python3.9/site-packages/scipy/__init__.py:146: UserWarning: A NumPy version >=1.16.5 and <1.23.0 is required for this version of SciPy (detected version 1.25.0\n",
      "  warnings.warn(f\"A NumPy version >={np_minversion} and <{np_maxversion}\"\n"
     ]
    }
   ],
   "source": [
    "import os\n",
    "import pandas as pd\n",
    "\n",
    "# plotting modules\n",
    "import matplotlib.colors as colors\n",
    "import seaborn as sns\n",
    "from matplotlib.ticker import MultipleLocator\n",
    "import matplotlib\n",
    "import matplotlib.pyplot as plt\n",
    "matplotlib.rcParams['pdf.fonttype'] = 42\n",
    "matplotlib.rcParams['ps.fonttype'] = 42\n",
    "matplotlib.rcParams['font.sans-serif'] = \"Arial\" # missing fonts:: https://alexanderlabwhoi.github.io/post/2021-03-missingfont/\n",
    "# Then, \"ALWAYS use sans-serif fonts\"\n",
    "matplotlib.rcParams['font.family'] = \"sans-serif\"\n",
    "matplotlib.rcParams.update({'font.size': 14, 'axes.linewidth': 2, 'xtick.major.width': 1.5, 'xtick.major.size': 5, 'ytick.major.width': 1.5, 'ytick.major.size': 4})\n",
    "from matplotlib.backends.backend_pdf import PdfPages"
   ]
  },
  {
   "cell_type": "code",
   "execution_count": 2,
   "metadata": {},
   "outputs": [],
   "source": [
    "def save_pdf(save_file, fig):\n",
    "    pdf = PdfPages(save_file)\n",
    "    pdf.savefig(fig, bbox_inches='tight', dpi=300)\n",
    "    pdf.close()\n",
    "    return"
   ]
  },
  {
   "cell_type": "code",
   "execution_count": 3,
   "metadata": {},
   "outputs": [],
   "source": [
    "meta_activity_file = \"/data5/deepro/starrseq/papers/results/2_categorize_fragments_on_activity/data/meta_activity_map.csv\"\n",
    "meta_df = pd.read_csv(meta_activity_file, low_memory=False)\n",
    "cc_decile_ranks, decile_labels = pd.qcut(meta_df.CC, q=10, labels=False, retbins=True)\n",
    "meta_df[\"cc_decile\"] = cc_decile_ranks"
   ]
  },
  {
   "cell_type": "code",
   "execution_count": 4,
   "metadata": {},
   "outputs": [],
   "source": [
    "hot_df = pd.read_csv(\"/data5/deepro/starrseq/papers/results/2_categorize_fragments_on_activity/data/hot_sites/tf_overlap_fragments.bed\", sep=\"\\t\", header=None, names=[\"chrm\", \"start\", \"end\", \"tf\", \"number\"])\n",
    "hot_df[\"chrom_coord\"] = hot_df.chrm + \"_\" + hot_df.start.astype(str) + \"_\" + hot_df.end.astype(str)\n",
    "hot_df = hot_df.drop(columns=[\"chrm\", \"start\", \"end\"])"
   ]
  },
  {
   "cell_type": "code",
   "execution_count": 5,
   "metadata": {},
   "outputs": [],
   "source": [
    "meta_df = meta_df.merge(hot_df, on=\"chrom_coord\")"
   ]
  },
  {
   "cell_type": "code",
   "execution_count": 6,
   "metadata": {},
   "outputs": [
    {
     "data": {
      "text/plain": [
       "Text(0, 0.5, 'Number of TF binding sites')"
      ]
     },
     "execution_count": 6,
     "metadata": {},
     "output_type": "execute_result"
    },
    {
     "data": {
      "image/png": "[encoded data removed]",
      "text/plain": [
       "<Figure size 576x432 with 1 Axes>"
      ]
     },
     "metadata": {
      "needs_background": "light"
     },
     "output_type": "display_data"
    }
   ],
   "source": [
    "fig, ax = plt.subplots(figsize=(8,6))\n",
    "sns_ax = sns.boxplot(\n",
    "    data=meta_df, x=\"cc_decile\", y=\"number\",\n",
    "    palette=sns.color_palette(\"Reds\", 15).as_hex()[:10],\n",
    "    orient=\"v\",\n",
    "    width=0.5,\n",
    "    linewidth=2.,\n",
    "    fliersize=0, capprops={'color':'none'}, boxprops={'edgecolor':'k'}, whiskerprops={'color':'k'}, medianprops={'color':'k'}, # , 'facecolor': 'none'\n",
    "    ax=ax\n",
    "    )\n",
    "ax.spines[[\"right\", \"top\"]].set_visible(False)\n",
    "ax.set_ylim((-2.5, 70))\n",
    "ax.set_xlim((-0.5, 9.5))\n",
    "ax.set_xticks(range(0, 10), range(1, 11))\n",
    "ax.set_xlabel(\"CC activity decile\")\n",
    "ax.set_ylabel(\"Number of TF binding sites\")\n",
    "# ax.spines.left.set_position(('outward', 10))\n",
    "# ax.spines.bottom.set_position(('outward', 10))"
   ]
  },
  {
   "cell_type": "code",
   "execution_count": 7,
   "metadata": {},
   "outputs": [],
   "source": [
    "save_file = \"../data/figures/hot_sites_per_decile.pdf\"\n",
    "save_pdf(save_file, fig)"
   ]
  },
  {
   "attachments": {},
   "cell_type": "markdown",
   "metadata": {},
   "source": [
    "For each active fragments per library, how many belong to these high occupancy sites?"
   ]
  },
  {
   "cell_type": "code",
   "execution_count": null,
   "metadata": {},
   "outputs": [],
   "source": []
  },
  {
   "cell_type": "code",
   "execution_count": null,
   "metadata": {},
   "outputs": [],
   "source": []
  }
 ],
 "metadata": {
  "kernelspec": {
   "display_name": "Python 3",
   "language": "python",
   "name": "python3"
  },
  "language_info": {
   "codemirror_mode": {
    "name": "ipython",
    "version": 3
   },
   "file_extension": ".py",
   "mimetype": "text/x-python",
   "name": "python",
   "nbconvert_exporter": "python",
   "pygments_lexer": "ipython3",
   "version": "3.9.16"
  },
  "orig_nbformat": 4
 },
 "nbformat": 4,
 "nbformat_minor": 2
}
