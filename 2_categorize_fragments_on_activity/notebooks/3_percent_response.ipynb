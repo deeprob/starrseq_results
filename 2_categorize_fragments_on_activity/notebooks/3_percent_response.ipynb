{
 "cells": [
  {
   "cell_type": "code",
   "execution_count": 1,
   "metadata": {},
   "outputs": [],
   "source": [
    "import os\n",
    "import numpy as np\n",
    "import pandas as pd\n",
    "\n",
    "\n",
    "# plotting modules\n",
    "import matplotlib.colors as colors\n",
    "import seaborn as sns\n",
    "from matplotlib.ticker import MultipleLocator\n",
    "import matplotlib\n",
    "import matplotlib.pyplot as plt\n",
    "matplotlib.rcParams['pdf.fonttype'] = 42\n",
    "matplotlib.rcParams['ps.fonttype'] = 42\n",
    "matplotlib.rcParams['font.sans-serif'] = \"Arial\" # missing fonts:: https://alexanderlabwhoi.github.io/post/2021-03-missingfont/\n",
    "# Then, \"ALWAYS use sans-serif fonts\"\n",
    "matplotlib.rcParams['font.family'] = \"sans-serif\"\n",
    "matplotlib.rcParams.update({'font.size': 14, 'axes.linewidth': 2, 'xtick.major.width': 1.5, 'xtick.major.size': 5, 'ytick.major.width': 1.5, 'ytick.major.size': 4})\n",
    "from matplotlib.backends.backend_pdf import PdfPages"
   ]
  },
  {
   "cell_type": "code",
   "execution_count": 2,
   "metadata": {},
   "outputs": [],
   "source": [
    "def save_pdf(save_file, fig):\n",
    "    pdf = PdfPages(save_file)\n",
    "    pdf.savefig(fig, bbox_inches='tight')\n",
    "    pdf.close()\n",
    "    return"
   ]
  },
  {
   "cell_type": "code",
   "execution_count": 3,
   "metadata": {},
   "outputs": [],
   "source": [
    "categories = [\"peaks\", \"notpeaks\", \"responsive\", \"nonresponsive\", \"induced\", \"repressed\"]\n",
    "ko_lines = [\"ATF2\", \"CTCF\", \"FOXA1\", \"LEF1\", \"SCRT1\", \"TCF7L2\", \"16P12_1\"]\n",
    "store_dir = \"../data/\"\n",
    "\n",
    "def get_file_length(filename):\n",
    "    with open(filename, \"r\") as f:\n",
    "        length = len(f.readlines())\n",
    "    return length"
   ]
  },
  {
   "cell_type": "code",
   "execution_count": 4,
   "metadata": {},
   "outputs": [],
   "source": [
    "def create_number_table(store_dir, ko_lines, categories):\n",
    "    data_dict = {c:[] for c in categories}\n",
    "    for ko in ko_lines:\n",
    "        for cat in categories:\n",
    "            filename = os.path.join(store_dir, ko, f\"{cat}.bed\")\n",
    "            cat_len = get_file_length(filename)\n",
    "            data_dict[cat].append(cat_len)\n",
    "    df = pd.DataFrame(data=data_dict)\n",
    "    df[\"library\"] = ko_lines\n",
    "    return df"
   ]
  },
  {
   "cell_type": "code",
   "execution_count": 5,
   "metadata": {},
   "outputs": [],
   "source": [
    "df = create_number_table(store_dir, ko_lines, categories)"
   ]
  },
  {
   "attachments": {},
   "cell_type": "markdown",
   "metadata": {},
   "source": [
    "# Percent response"
   ]
  },
  {
   "cell_type": "code",
   "execution_count": 6,
   "metadata": {},
   "outputs": [],
   "source": [
    "response_df = df.loc[:, [\"library\", \"responsive\", \"nonresponsive\"]]\n",
    "response_df[\"percent_response\"] = round(response_df.responsive*100/(response_df.responsive + response_df.nonresponsive), 3)"
   ]
  },
  {
   "cell_type": "code",
   "execution_count": 7,
   "metadata": {},
   "outputs": [
    {
     "data": {
      "image/png": "[encoded data removed]",
      "text/plain": [
       "<Figure size 360x432 with 1 Axes>"
      ]
     },
     "metadata": {
      "needs_background": "light"
     },
     "output_type": "display_data"
    }
   ],
   "source": [
    "fig, axes = plt.subplots(figsize=(5,6))\n",
    "\n",
    "g = sns.barplot(\n",
    "    data=response_df, x=\"library\", y=f\"percent_response\", palette=[\"#15508d\"],  #\n",
    "    log=False, ax=axes, edgecolor=\"k\", linewidth=1.5)\n",
    "\n",
    "g.axes.set_xticklabels(g.axes.get_xticklabels(), rotation=90)\n",
    "\n",
    "for i in g.containers:\n",
    "    g.bar_label(i,);\n",
    "\n",
    "axes.spines[[\"right\", \"top\"]].set_visible(False)\n",
    "axes.set_xlabel(\"\")\n",
    "axes.set_ylabel(f\"% Response\");"
   ]
  },
  {
   "cell_type": "code",
   "execution_count": 9,
   "metadata": {},
   "outputs": [],
   "source": [
    "save_file = \"../data/figures/percent_response.pdf\"\n",
    "save_pdf(save_file, fig)"
   ]
  },
  {
   "cell_type": "code",
   "execution_count": null,
   "metadata": {},
   "outputs": [],
   "source": []
  }
 ],
 "metadata": {
  "kernelspec": {
   "display_name": "starrseq",
   "language": "python",
   "name": "python3"
  },
  "language_info": {
   "codemirror_mode": {
    "name": "ipython",
    "version": 3
   },
   "file_extension": ".py",
   "mimetype": "text/x-python",
   "name": "python",
   "nbconvert_exporter": "python",
   "pygments_lexer": "ipython3",
   "version": "3.9.7"
  },
  "orig_nbformat": 4,
  "vscode": {
   "interpreter": {
    "hash": "06856c2527dea3cf472b3c4994ec564df76496982852535c5a9520cd26601212"
   }
  }
 },
 "nbformat": 4,
 "nbformat_minor": 2
}
