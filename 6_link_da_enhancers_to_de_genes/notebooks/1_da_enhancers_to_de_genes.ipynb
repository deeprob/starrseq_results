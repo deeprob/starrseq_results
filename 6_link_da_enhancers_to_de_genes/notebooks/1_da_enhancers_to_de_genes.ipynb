{
 "cells": [
  {
   "cell_type": "code",
   "execution_count": 1,
   "metadata": {},
   "outputs": [],
   "source": [
    "import os\n",
    "import numpy as np\n",
    "import pandas as pd"
   ]
  },
  {
   "cell_type": "code",
   "execution_count": 2,
   "metadata": {},
   "outputs": [],
   "source": [
    "meta_activity_map_file = \"/data5/deepro/starrseq/papers/results/1_categorize_fragments_on_activity/data/meta_activity_map.csv\"\n",
    "abc_enhancer_to_target_file = \"/data5/deepro/starrseq/papers/results/5_link_da_enhancers_to_de_genes/data/predictions/activity_from_starr_with_hic/EnhancerPredictionsFull.txt\"\n",
    "nearest_gene_file = \"/data5/deepro/starrseq/papers/results/5_link_da_enhancers_to_de_genes/data/predictions/nearest_genes/closest.bed\"\n",
    "gtf_file = \"/data5/deepro/starrseq/papers/results/5_link_da_enhancers_to_de_genes/data/genome_annot/parsed_gtf.tsv\"\n",
    "gene_de_dir = \"/data5/deepro/starrseq/papers/results/4_compare_expression_ko_vs_wt/data/results/de\"\n",
    "link_save_dir = \"/data5/deepro/starrseq/papers/results/5_link_da_enhancers_to_de_genes/data/da_enhancers_to_de_genes_links\"\n",
    "\n",
    "libraries = [\"CC\", \"ATF2\", \"CTCF\", \"FOXA1\", \"LEF1\", \"SCRT1\", \"TCF7L2\", \"16P12_1\"]"
   ]
  },
  {
   "cell_type": "code",
   "execution_count": 3,
   "metadata": {},
   "outputs": [],
   "source": [
    "meta_activity_map_df = pd.read_csv(meta_activity_map_file)\n",
    "abc_enhancer_to_target_df = pd.read_csv(abc_enhancer_to_target_file, sep=\"\\t\")\n",
    "nearest_gene_df = pd.read_csv(nearest_gene_file, sep=\"\\t\", header=None)\n",
    "gtf_df = pd.read_csv(gtf_file, sep=\"\\t\", header=None)"
   ]
  },
  {
   "cell_type": "code",
   "execution_count": 4,
   "metadata": {},
   "outputs": [],
   "source": [
    "abc_enhancer_to_target_df[\"chrom_coord\"] = abc_enhancer_to_target_df.chr + \"_\" + abc_enhancer_to_target_df.start.astype(str) + \"_\" + abc_enhancer_to_target_df.end.astype(str)\n",
    "target_gene_id_to_gene_dict = dict(zip(gtf_df[3], gtf_df[4]))\n",
    "abc_enhancer_to_target_df[\"TargetGene\"] = abc_enhancer_to_target_df[\"TargetGene\"].map(target_gene_id_to_gene_dict)\n",
    "abc_enhancer_to_target_grouped_df = abc_enhancer_to_target_df.groupby(\"chrom_coord\").agg({\"TargetGene\": lambda x: list(x)}).reset_index()\n",
    "abc_enhancer_to_target_dict = dict(zip(abc_enhancer_to_target_grouped_df[\"chrom_coord\"], abc_enhancer_to_target_grouped_df[\"TargetGene\"]))\n",
    "meta_activity_map_df[\"target_gene_abc\"] = meta_activity_map_df.chrom_coord.map(abc_enhancer_to_target_dict)"
   ]
  },
  {
   "cell_type": "code",
   "execution_count": 5,
   "metadata": {},
   "outputs": [],
   "source": [
    "nearest_gene_df[\"chrom_coord\"] = nearest_gene_df[0] + \"_\" + nearest_gene_df[1].astype(str) + \"_\" + nearest_gene_df[2].astype(str)\n",
    "nearest_gene_grouped_df = nearest_gene_df.groupby(\"chrom_coord\").agg({7: lambda x: list(x)}).reset_index()\n",
    "nearest_gene_dict = dict(zip(nearest_gene_grouped_df[\"chrom_coord\"], nearest_gene_grouped_df[7]))\n",
    "meta_activity_map_df[\"target_gene_nearest\"] = meta_activity_map_df.chrom_coord.map(nearest_gene_dict)"
   ]
  },
  {
   "cell_type": "code",
   "execution_count": 6,
   "metadata": {},
   "outputs": [],
   "source": [
    "def get_genes_pval_dict(de_file):\n",
    "    de_df = pd.read_csv(de_file)\n",
    "    de_df[\"gene_name\"] = de_df.index.map(target_gene_id_to_gene_dict)\n",
    "    return dict(zip(de_df.gene_name, de_df.padj))"
   ]
  },
  {
   "cell_type": "code",
   "execution_count": null,
   "metadata": {},
   "outputs": [],
   "source": []
  },
  {
   "cell_type": "code",
   "execution_count": 7,
   "metadata": {},
   "outputs": [
    {
     "name": "stdout",
     "output_type": "stream",
     "text": [
      "comparing ATF2 to CC....\n",
      "comparing CTCF to CC....\n"
     ]
    },
    {
     "name": "stderr",
     "output_type": "stream",
     "text": [
      "/tmp/ipykernel_3061247/1962358098.py:8: SettingWithCopyWarning: \n",
      "A value is trying to be set on a copy of a slice from a DataFrame.\n",
      "Try using .loc[row_indexer,col_indexer] = value instead\n",
      "\n",
      "See the caveats in the documentation: https://pandas.pydata.org/pandas-docs/stable/user_guide/indexing.html#returning-a-view-versus-a-copy\n",
      "  gained_df[\"target_gene_abc_exp\"] = gained_df[\"target_gene_abc\"].fillna(\"\").map(lambda x: [de_gene_pval_dict[i] for i in x] if x else [])\n",
      "/tmp/ipykernel_3061247/1962358098.py:9: SettingWithCopyWarning: \n",
      "A value is trying to be set on a copy of a slice from a DataFrame.\n",
      "Try using .loc[row_indexer,col_indexer] = value instead\n",
      "\n",
      "See the caveats in the documentation: https://pandas.pydata.org/pandas-docs/stable/user_guide/indexing.html#returning-a-view-versus-a-copy\n",
      "  gained_df[\"target_gene_nearest_exp\"] = gained_df[\"target_gene_nearest\"].map(lambda x: [de_gene_pval_dict[i] for i in x] if x else [])\n",
      "/tmp/ipykernel_3061247/1962358098.py:23: SettingWithCopyWarning: \n",
      "A value is trying to be set on a copy of a slice from a DataFrame.\n",
      "Try using .loc[row_indexer,col_indexer] = value instead\n",
      "\n",
      "See the caveats in the documentation: https://pandas.pydata.org/pandas-docs/stable/user_guide/indexing.html#returning-a-view-versus-a-copy\n",
      "  lost_df[\"target_gene_abc_exp\"] = lost_df[\"target_gene_abc\"].fillna(\"\").map(lambda x: [de_gene_pval_dict[i] for i in x] if x else [])\n",
      "/tmp/ipykernel_3061247/1962358098.py:24: SettingWithCopyWarning: \n",
      "A value is trying to be set on a copy of a slice from a DataFrame.\n",
      "Try using .loc[row_indexer,col_indexer] = value instead\n",
      "\n",
      "See the caveats in the documentation: https://pandas.pydata.org/pandas-docs/stable/user_guide/indexing.html#returning-a-view-versus-a-copy\n",
      "  lost_df[\"target_gene_nearest_exp\"] = lost_df[\"target_gene_nearest\"].map(lambda x: [de_gene_pval_dict[i] for i in x] if x else [])\n"
     ]
    },
    {
     "name": "stdout",
     "output_type": "stream",
     "text": [
      "comparing FOXA1 to CC....\n",
      "comparing LEF1 to CC....\n",
      "comparing SCRT1 to CC....\n",
      "comparing TCF7L2 to CC....\n",
      "comparing 16P12_1 to CC....\n"
     ]
    }
   ],
   "source": [
    "for ko in libraries[1:]:\n",
    "    print(f\"comparing {ko} to CC....\")\n",
    "    # get the genes to pval dict\n",
    "    de_gene_file = os.path.join(gene_de_dir, f\"{ko}vsCC\", \"de_results.csv\")\n",
    "    de_gene_pval_dict = get_genes_pval_dict(de_gene_file)\n",
    "    # get all the gained fragments :: enhancer in CC, not an enhancer in KO\n",
    "    gained_df = meta_activity_map_df.loc[(meta_activity_map_df[f\"CC_peak\"]==0) & (meta_activity_map_df[f\"{ko}_peak\"]==1) & (meta_activity_map_df[f\"{ko}_padj\"]<0.01)]\n",
    "    gained_df[\"target_gene_abc_exp\"] = gained_df[\"target_gene_abc\"].fillna(\"\").map(lambda x: [de_gene_pval_dict[i] for i in x] if x else [])\n",
    "    gained_df[\"target_gene_nearest_exp\"] = gained_df[\"target_gene_nearest\"].map(lambda x: [de_gene_pval_dict[i] for i in x] if x else [])\n",
    "    gained_abc_df = gained_df.loc[gained_df.target_gene_abc_exp.apply(lambda x: any([i<0.01 for i in x]))]\n",
    "    gained_nearest_df = gained_df.loc[gained_df.target_gene_nearest_exp.apply(lambda x: any([i<0.01 for i in x]))]\n",
    "    gained_abc_df = gained_abc_df.loc[:, [\"chrom_coord\", \"target_gene_abc\", \"target_gene_abc_exp\"]].explode([\"target_gene_abc\", \"target_gene_abc_exp\"])\n",
    "    gained_nearest_df = gained_nearest_df.loc[:, [\"chrom_coord\", \"target_gene_nearest\", \"target_gene_nearest_exp\"]].explode([\"target_gene_nearest\", \"target_gene_nearest_exp\"])\n",
    "    gained_abc_df = gained_abc_df.loc[gained_abc_df.target_gene_abc_exp<0.01]\n",
    "    gained_nearest_df = gained_nearest_df.loc[gained_nearest_df.target_gene_nearest_exp<0.01]\n",
    "    os.makedirs(os.path.join(link_save_dir, ko), exist_ok=True)\n",
    "    gained_abc_save_file = os.path.join(link_save_dir, ko, \"gained_frag_abc_target_sde.csv\")\n",
    "    gained_nearest_save_file = os.path.join(link_save_dir, ko, \"gained_frag_nearest_target_sde.csv\")\n",
    "    gained_abc_df.to_csv(gained_abc_save_file, index=False)\n",
    "    gained_nearest_df.to_csv(gained_nearest_save_file, index=False)\n",
    "    # get all the lost fragments :: enhancer in CC, not an enhancer in KO\n",
    "    lost_df = meta_activity_map_df.loc[(meta_activity_map_df[f\"CC_peak\"]==1) & (meta_activity_map_df[f\"{ko}_peak\"]==0) & (meta_activity_map_df[f\"{ko}_padj\"]<0.01)]\n",
    "    lost_df[\"target_gene_abc_exp\"] = lost_df[\"target_gene_abc\"].fillna(\"\").map(lambda x: [de_gene_pval_dict[i] for i in x] if x else [])\n",
    "    lost_df[\"target_gene_nearest_exp\"] = lost_df[\"target_gene_nearest\"].map(lambda x: [de_gene_pval_dict[i] for i in x] if x else [])\n",
    "    lost_abc_df = lost_df.loc[lost_df.target_gene_abc_exp.apply(lambda x: any([i<0.01 for i in x]))]\n",
    "    lost_nearest_df = lost_df.loc[lost_df.target_gene_nearest_exp.apply(lambda x: any([i<0.01 for i in x]))]\n",
    "    lost_abc_df = lost_abc_df.loc[:, [\"chrom_coord\", \"target_gene_abc\", \"target_gene_abc_exp\"]].explode([\"target_gene_abc\", \"target_gene_abc_exp\"])\n",
    "    lost_nearest_df = lost_nearest_df.loc[:, [\"chrom_coord\", \"target_gene_nearest\", \"target_gene_nearest_exp\"]].explode([\"target_gene_nearest\", \"target_gene_nearest_exp\"])\n",
    "    lost_abc_df = lost_abc_df.loc[lost_abc_df.target_gene_abc_exp<0.01]\n",
    "    lost_nearest_df = lost_nearest_df.loc[lost_nearest_df.target_gene_nearest_exp<0.01]\n",
    "    lost_abc_save_file = os.path.join(link_save_dir, ko, \"lost_frag_abc_target_sde.csv\")\n",
    "    lost_nearest_save_file = os.path.join(link_save_dir, ko, \"lost_frag_nearest_target_sde.csv\")\n",
    "    lost_abc_df.to_csv(lost_abc_save_file, index=False)\n",
    "    lost_nearest_df.to_csv(lost_nearest_save_file, index=False)"
   ]
  },
  {
   "cell_type": "code",
   "execution_count": null,
   "metadata": {},
   "outputs": [],
   "source": []
  }
 ],
 "metadata": {
  "kernelspec": {
   "display_name": "starrseq",
   "language": "python",
   "name": "python3"
  },
  "language_info": {
   "codemirror_mode": {
    "name": "ipython",
    "version": 3
   },
   "file_extension": ".py",
   "mimetype": "text/x-python",
   "name": "python",
   "nbconvert_exporter": "python",
   "pygments_lexer": "ipython3",
   "version": "3.9.7"
  },
  "orig_nbformat": 4
 },
 "nbformat": 4,
 "nbformat_minor": 2
}
