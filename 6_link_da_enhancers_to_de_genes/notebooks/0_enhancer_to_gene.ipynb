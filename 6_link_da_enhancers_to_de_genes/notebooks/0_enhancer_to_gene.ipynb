{
 "cells": [
  {
   "attachments": {},
   "cell_type": "markdown",
   "metadata": {},
   "source": [
    "# Enhancer strength and gene correlation\n",
    "\"The sum of the enhancer strengths per gene correlated well with gene expression levels on average\" - Stark paper"
   ]
  },
  {
   "cell_type": "code",
   "execution_count": 1,
   "metadata": {},
   "outputs": [],
   "source": [
    "import os\n",
    "import numpy as np\n",
    "import pandas as pd\n",
    "from scipy.stats import pearsonr\n",
    "import seaborn as sns"
   ]
  },
  {
   "cell_type": "code",
   "execution_count": 2,
   "metadata": {},
   "outputs": [],
   "source": [
    "meta_df = pd.read_csv(\"/data5/deepro/starrseq/papers/results/1_categorize_fragments_on_activity/data/meta_activity_map.csv\")"
   ]
  },
  {
   "cell_type": "code",
   "execution_count": 3,
   "metadata": {},
   "outputs": [],
   "source": [
    "ko_lines = [\"CC\", \"ATF2\", \"CTCF\", \"FOXA1\", \"LEF1\", \"SCRT1\", \"TCF7L2\", \"16P12_1\"]"
   ]
  },
  {
   "cell_type": "code",
   "execution_count": 4,
   "metadata": {},
   "outputs": [],
   "source": [
    "def get_enhancer_to_gene_maps(filename):\n",
    "    df = pd.read_csv(filename, sep=\"\\t\")\n",
    "    df[\"enhancer_id\"] = df.chr + \"_\" + df.start.astype(str) + \"_\" + df.end.astype(str)\n",
    "    return df.loc[:, [\"enhancer_id\", \"TargetGene\"]]\n",
    "\n",
    "def get_tpm_normalized_gene_expression(filename):\n",
    "    df = pd.read_csv(filename, sep=\"\\t\", index_col=[0, 1], skipfooter=5, engine=\"python\")\n",
    "    df = (df*1e6/df.sum()).mean(axis=1)\n",
    "    return df\n",
    "\n",
    "def get_meta_gene_exp_df(store_dir, ko_lines):\n",
    "    df_list = []\n",
    "    for ko in ko_lines:\n",
    "        exp_file = os.path.join(store_dir, ko, \"counts.tsv\")\n",
    "        exp_df = get_tpm_normalized_gene_expression(exp_file)\n",
    "        df_list.append(exp_df)\n",
    "    exp_df = pd.concat(df_list, axis=1)\n",
    "    exp_df.columns = ko_lines\n",
    "    return exp_df.reset_index()\n",
    "\n",
    "def add_enhancer_activity(enhancer_mapped_df, meta_df, ko_lines):\n",
    "    # select fragments that were starrpeaker peaks and induced in any one line :: these fragments have enhancer potential\n",
    "    query = \" | \".join([f\"(`{ko}_peak` == 1)\" for ko in ko_lines])\n",
    "    meta_df = meta_df.query(query)\n",
    "    df = enhancer_mapped_df.merge(meta_df, left_on=\"enhancer_id\", right_on=\"chrom_coord\")\n",
    "    return df.loc[:, ['enhancer_id', 'TargetGene', 'chrom_coord'] +  ko_lines]"
   ]
  },
  {
   "cell_type": "code",
   "execution_count": 5,
   "metadata": {},
   "outputs": [],
   "source": [
    "store_dir = \"/data5/deepro/starrseq/papers/results/4_compare_expression_ko_vs_wt/data/results/count/\""
   ]
  },
  {
   "cell_type": "code",
   "execution_count": 6,
   "metadata": {},
   "outputs": [],
   "source": [
    "exp_df = get_meta_gene_exp_df(store_dir, ko_lines)"
   ]
  },
  {
   "cell_type": "code",
   "execution_count": 7,
   "metadata": {},
   "outputs": [],
   "source": [
    "# filter df\n",
    "exp_df = exp_df.loc[exp_df.loc[:, ko_lines].sum(axis=1)>80]"
   ]
  },
  {
   "cell_type": "code",
   "execution_count": 8,
   "metadata": {},
   "outputs": [
    {
     "name": "stdout",
     "output_type": "stream",
     "text": [
      "activity_from_chip_nohic\n",
      "-0.013357625174193484\n",
      "activity_from_chip_with_hic\n",
      "-0.06592433030342705\n",
      "activity_from_starr_nohic\n",
      "-0.006494616782369021\n",
      "activity_from_starr_with_hic\n",
      "-0.012878143976056283\n"
     ]
    }
   ],
   "source": [
    "prediction_types = [\"activity_from_chip_nohic\", \"activity_from_chip_with_hic\", \"activity_from_starr_nohic\", \"activity_from_starr_with_hic\"]\n",
    "agg_func_dict = {\"enhancer_id\": lambda x: \",\".join(x), \"chrom_coord\": lambda x: \",\".join(x)}\n",
    "agg_func_dict.update({f\"{ko}_act\":np.sum for ko in ko_lines})\n",
    "groupby_list = [\"TargetGene\", \"gene_id\", \"gene_name\"] +[f\"{ko}_exp\" for ko in ko_lines]\n",
    "\n",
    "for pt in prediction_types:\n",
    "    enhancer_mapped_file = os.path.join(f\"/data5/deepro/starrseq/papers/results/5_link_da_enhancers_to_de_genes/data/predictions/{pt}/EnhancerPredictionsFull.txt\")\n",
    "    enhancer_mapped_df = get_enhancer_to_gene_maps(enhancer_mapped_file)\n",
    "    enhancer_mapped_with_activity = add_enhancer_activity(enhancer_mapped_df, meta_df, ko_lines)\n",
    "    enhancer_mapped_with_activity_with_expression = enhancer_mapped_with_activity.merge(exp_df, left_on=\"TargetGene\", right_on=\"gene_id\", suffixes=(\"_act\", \"_exp\"))    \n",
    "    gene_with_enhancer_df = enhancer_mapped_with_activity_with_expression.groupby(groupby_list).aggregate(agg_func_dict).reset_index()\n",
    "    expression_df = gene_with_enhancer_df.melt(id_vars=[\"enhancer_id\", \"gene_id\", \"gene_name\"], value_vars=[f\"{ko}_exp\" for ko in ko_lines], value_name=\"exp\", var_name=\"ko\")\n",
    "    activity_df = gene_with_enhancer_df.melt(id_vars=[\"enhancer_id\", \"gene_id\", \"gene_name\"], value_vars=[f\"{ko}_act\" for ko in ko_lines], value_name=\"act\", var_name=\"ko\")\n",
    "    print(pt)\n",
    "    print(activity_df.act.corr(expression_df.exp))"
   ]
  },
  {
   "cell_type": "code",
   "execution_count": 9,
   "metadata": {},
   "outputs": [],
   "source": [
    "def get_per_gene_corr(ser, ko_lines):\n",
    "    act_val = ser.loc[[f\"{ko}_act\" for ko in ko_lines]].values\n",
    "    exp_val = ser.loc[[f\"{ko}_exp\" for ko in ko_lines]].values\n",
    "    return pearsonr(act_val, exp_val)[0]"
   ]
  },
  {
   "cell_type": "code",
   "execution_count": 10,
   "metadata": {},
   "outputs": [],
   "source": [
    "gene_with_enhancer_df[\"per_gene_corr\"] = gene_with_enhancer_df.apply(get_per_gene_corr, args=(ko_lines,), axis=1)"
   ]
  },
  {
   "cell_type": "code",
   "execution_count": 11,
   "metadata": {},
   "outputs": [],
   "source": [
    "save_file = \"/data5/deepro/starrseq/papers/results/5_link_da_enhancers_to_de_genes/data/activity_vs_expression_corr/da_de_corr_table.csv\"\n",
    "gene_with_enhancer_df.sort_values(\"per_gene_corr\", ascending=False).to_csv(save_file)"
   ]
  },
  {
   "cell_type": "code",
   "execution_count": 12,
   "metadata": {},
   "outputs": [
    {
     "data": {
      "text/plain": [
       "<AxesSubplot:xlabel='act', ylabel='exp'>"
      ]
     },
     "execution_count": 12,
     "metadata": {},
     "output_type": "execute_result"
    },
    {
     "data": {
      "image/png": "[encoded data removed]",
      "text/plain": [
       "<Figure size 432x288 with 1 Axes>"
      ]
     },
     "metadata": {
      "needs_background": "light"
     },
     "output_type": "display_data"
    }
   ],
   "source": [
    "sns.scatterplot(x=activity_df.act, y=expression_df.exp, s=3.5)"
   ]
  },
  {
   "cell_type": "code",
   "execution_count": null,
   "metadata": {},
   "outputs": [],
   "source": []
  }
 ],
 "metadata": {
  "kernelspec": {
   "display_name": "starrseq",
   "language": "python",
   "name": "python3"
  },
  "language_info": {
   "codemirror_mode": {
    "name": "ipython",
    "version": 3
   },
   "file_extension": ".py",
   "mimetype": "text/x-python",
   "name": "python",
   "nbconvert_exporter": "python",
   "pygments_lexer": "ipython3",
   "version": "3.9.7"
  },
  "orig_nbformat": 4,
  "vscode": {
   "interpreter": {
    "hash": "06856c2527dea3cf472b3c4994ec564df76496982852535c5a9520cd26601212"
   }
  }
 },
 "nbformat": 4,
 "nbformat_minor": 2
}
