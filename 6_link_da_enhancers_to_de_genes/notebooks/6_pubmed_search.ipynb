{
 "cells": [
  {
   "cell_type": "code",
   "execution_count": 1,
   "metadata": {},
   "outputs": [],
   "source": [
    "import time\n",
    "import pandas as pd\n",
    "from pymed import PubMed"
   ]
  },
  {
   "cell_type": "code",
   "execution_count": 2,
   "metadata": {},
   "outputs": [],
   "source": [
    "tfs = [\"ATF2\", \"CTCF\", \"FOXA1\", \"LEF1\", \"SCRT1\", \"TCF7L2\"]"
   ]
  },
  {
   "cell_type": "code",
   "execution_count": 3,
   "metadata": {},
   "outputs": [],
   "source": [
    "def read_tf_df(filename, libn):\n",
    "    colnames = [\"chrom\", \"start\", \"end\", \"chrom_coord\", f\"{libn}_act\", \"strand\", f\"{libn}_log2FoldChange_act\", f\"gene_name\", f\"{libn}_log2FoldChange_exp\", f\"{libn}_padj_act\", f\"{libn}_padj_exp\", \"CC_peak\", f\"{libn}_peak\"]\n",
    "    return pd.read_csv(filename, sep=\"\\t\", header=None, names=colnames)\n",
    "\n",
    "def read_target_df(lib):\n",
    "    filename = f\"/data5/deepro/starrseq/papers/results/6_link_da_enhancers_to_de_genes/data/targets/{lib}.tsv\"\n",
    "    return pd.read_csv(filename, sep=\"\\t\")\n",
    "    \n",
    "def get_tf_df(tf):\n",
    "    direct = f\"/data5/deepro/starrseq/papers/results/6_link_da_enhancers_to_de_genes/data/da_de_peaks/{tf}/direct.bed\"\n",
    "    direct_loss =  f\"/data5/deepro/starrseq/papers/results/6_link_da_enhancers_to_de_genes/data/da_de_peaks/{tf}/direct_loss.bed\"\n",
    "    indirect = f\"/data5/deepro/starrseq/papers/results/6_link_da_enhancers_to_de_genes/data/da_de_peaks/{tf}/indirect.bed\"\n",
    "    indirect_gained =  f\"/data5/deepro/starrseq/papers/results/6_link_da_enhancers_to_de_genes/data/da_de_peaks/{tf}/indirect_gained.bed\"\n",
    "    return tuple(read_tf_df(f, tf) for f in (direct, direct_loss, indirect, indirect_gained))\n",
    "\n",
    "def get_genewise_count(gene_name):\n",
    "    query = f\"{gene_name}[Title]\"\n",
    "    results = pubmed.query(query, max_results=5000)\n",
    "    return len(list(results))\n",
    "\n",
    "def sort_by_gene_counts(df):\n",
    "    gene_names = df.gene_name.unique()\n",
    "    gene_pop_dict = {}\n",
    "    for gn in gene_names:\n",
    "        count = get_genewise_count(gn)\n",
    "        time.sleep(1)\n",
    "        gene_pop_dict[gn] = count\n",
    "    return gene_pop_dict"
   ]
  },
  {
   "cell_type": "code",
   "execution_count": 4,
   "metadata": {},
   "outputs": [],
   "source": [
    "pubmed = PubMed(tool=\"MyTool\", email=\"my@email.address\")"
   ]
  },
  {
   "cell_type": "markdown",
   "metadata": {},
   "source": [
    "# ATF2"
   ]
  },
  {
   "cell_type": "code",
   "execution_count": 7,
   "metadata": {},
   "outputs": [],
   "source": [
    "# ATF2\n",
    "tf = \"ATF2\"\n",
    "direct, direct_loss, indirect, indirect_gained = get_tf_df(tf)\n"
   ]
  },
  {
   "cell_type": "code",
   "execution_count": 8,
   "metadata": {},
   "outputs": [],
   "source": [
    "dl_tf_counts = sort_by_gene_counts(direct_loss)\n"
   ]
  },
  {
   "cell_type": "code",
   "execution_count": 9,
   "metadata": {},
   "outputs": [],
   "source": [
    "idg_tf_counts = sort_by_gene_counts(indirect_gained)\n"
   ]
  },
  {
   "cell_type": "code",
   "execution_count": 10,
   "metadata": {},
   "outputs": [],
   "source": [
    "dl_tf_counts = sorted(dl_tf_counts.items(), key=lambda x:x[1], reverse=True)\n",
    "idg_tf_counts = sorted(idg_tf_counts.items(), key=lambda x:x[1], reverse=True)\n",
    "target_df = read_target_df(tf)"
   ]
  },
  {
   "cell_type": "code",
   "execution_count": 11,
   "metadata": {},
   "outputs": [
    {
     "data": {
      "text/plain": [
       "[('FOXO1', 2110),\n",
       " ('G6PD', 1856),\n",
       " ('BRD4', 907),\n",
       " ('HK2', 765),\n",
       " ('BMP7', 638),\n",
       " ('TCF7L2', 630),\n",
       " ('NF2', 616),\n",
       " ('MYH9', 389),\n",
       " ('MDM4', 247),\n",
       " ('MEIS1', 230),\n",
       " ('MAPK1', 194),\n",
       " ('NSD1', 176),\n",
       " ('TACC3', 136),\n",
       " ('MBNL1', 114),\n",
       " ('SRSF3', 92),\n",
       " ('UNC5B', 81),\n",
       " ('CLP1', 60),\n",
       " ('LIMK2', 60),\n",
       " ('ANKRD11', 57),\n",
       " ('FAF1', 54),\n",
       " ('SSRP1', 51),\n",
       " ('TRIM33', 48),\n",
       " ('GAK', 47),\n",
       " ('ZNRF3', 47),\n",
       " ('MLLT3', 44),\n",
       " ('AIMP2', 41),\n",
       " ('ASXL2', 41),\n",
       " ('MTHFD1L', 32),\n",
       " ('FLNB', 31),\n",
       " ('SLBP', 27),\n",
       " ('CABIN1', 26),\n",
       " ('CECR2', 24),\n",
       " ('POGLUT1', 20),\n",
       " ('TMEM175', 20),\n",
       " ('UVSSA', 20),\n",
       " ('RNF40', 20),\n",
       " ('SLC38A9', 19),\n",
       " ('RPL3', 19),\n",
       " ('ZDHHC5', 17),\n",
       " ('TP53BP2', 13),\n",
       " ('TMEM39A', 12),\n",
       " ('KMT2E', 12),\n",
       " ('L3MBTL2', 11),\n",
       " ('STK17A', 10),\n",
       " ('C2CD3', 10),\n",
       " ('MAEA', 9),\n",
       " ('PIGG', 8),\n",
       " ('RNF187', 8),\n",
       " ('HM13', 8),\n",
       " ('SCFD1', 8),\n",
       " ('CLUAP1', 8),\n",
       " ('TMX2', 7),\n",
       " ('TIMMDC1', 7),\n",
       " ('GNA12', 7),\n",
       " ('TTLL5', 7),\n",
       " ('FNDC3A', 6),\n",
       " ('GSE1', 6),\n",
       " ('PPP2R5E', 6),\n",
       " ('RNF157', 6),\n",
       " ('OSBPL3', 6),\n",
       " ('TNKS1BP1', 5),\n",
       " ('PHC2', 4),\n",
       " ('GLG1', 4),\n",
       " ('USP54', 3),\n",
       " ('DCUN1D3', 3),\n",
       " ('CPLX1', 2),\n",
       " ('COG3', 2),\n",
       " ('UQCC1', 2),\n",
       " ('SLC30A6', 2),\n",
       " ('TM9SF3', 2),\n",
       " ('SLC35E3', 1),\n",
       " ('SLC25A33', 1),\n",
       " ('KIAA1671', 1),\n",
       " ('RALGAPA2', 1),\n",
       " ('SELENOH', 0),\n",
       " ('ZNF721', 0),\n",
       " ('RTN4RL2', 0),\n",
       " ('C12orf76', 0),\n",
       " ('IGDCC4', 0),\n",
       " ('ERI2', 0)]"
      ]
     },
     "execution_count": 11,
     "metadata": {},
     "output_type": "execute_result"
    }
   ],
   "source": [
    "# known and highly researched lost targets\n",
    "[(tf,c) for tf,c in dl_tf_counts if tf in target_df[\"Name.Target\"].values]"
   ]
  },
  {
   "cell_type": "code",
   "execution_count": 12,
   "metadata": {},
   "outputs": [
    {
     "data": {
      "text/plain": [
       "[('ERCC1', 991), ('PSEN1', 286), ('SETX', 39), ('SEC14L1', 5), ('SLC9A7', 2)]"
      ]
     },
     "execution_count": 12,
     "metadata": {},
     "output_type": "execute_result"
    }
   ],
   "source": [
    "# known and highly researched gained targets\n",
    "[(tf,c) for tf,c in idg_tf_counts if tf in target_df[\"Name.Target\"].values]"
   ]
  },
  {
   "cell_type": "markdown",
   "metadata": {},
   "source": [
    "# CTCF"
   ]
  },
  {
   "cell_type": "code",
   "execution_count": 13,
   "metadata": {},
   "outputs": [],
   "source": [
    "# CTCF\n",
    "tf = \"CTCF\"\n",
    "direct, direct_loss, indirect, indirect_gained = get_tf_df(tf)"
   ]
  },
  {
   "cell_type": "code",
   "execution_count": 16,
   "metadata": {},
   "outputs": [],
   "source": [
    "dl_tf_counts = sort_by_gene_counts(direct_loss)\n"
   ]
  },
  {
   "cell_type": "code",
   "execution_count": 17,
   "metadata": {},
   "outputs": [],
   "source": [
    "idg_tf_counts = sort_by_gene_counts(indirect_gained)\n"
   ]
  },
  {
   "cell_type": "code",
   "execution_count": 18,
   "metadata": {},
   "outputs": [],
   "source": [
    "dl_tf_counts = sorted(dl_tf_counts.items(), key=lambda x:x[1], reverse=True)\n",
    "idg_tf_counts = sorted(idg_tf_counts.items(), key=lambda x:x[1], reverse=True)\n",
    "target_df = read_target_df(tf)"
   ]
  },
  {
   "cell_type": "code",
   "execution_count": 19,
   "metadata": {},
   "outputs": [
    {
     "data": {
      "text/plain": [
       "[('SP1', 3659),\n",
       " ('MR1', 617),\n",
       " ('NRP1', 242),\n",
       " ('UBC', 139),\n",
       " ('CD109', 99),\n",
       " ('BMF', 84),\n",
       " ('UNC5B', 81),\n",
       " ('CHD2', 59),\n",
       " ('PTPA', 44),\n",
       " ('VCAN', 43),\n",
       " ('SMOC1', 27),\n",
       " ('CHN1', 23),\n",
       " ('LARP6', 21),\n",
       " ('GATAD2B', 16),\n",
       " ('EHBP1', 14),\n",
       " ('TP53BP2', 13),\n",
       " ('CCNY', 13),\n",
       " ('DNAJB12', 10),\n",
       " ('RNF187', 8),\n",
       " ('SIPA1L2', 6),\n",
       " ('SEMA4B', 6),\n",
       " ('ZNF638', 5),\n",
       " ('ERGIC1', 4),\n",
       " ('POLR3GL', 4),\n",
       " ('ZNF704', 3),\n",
       " ('USP54', 3),\n",
       " ('SLC22A23', 3),\n",
       " ('NDUFC1', 2),\n",
       " ('OSBPL6', 1),\n",
       " ('TTC23', 0)]"
      ]
     },
     "execution_count": 19,
     "metadata": {},
     "output_type": "execute_result"
    }
   ],
   "source": [
    "# known and highly researched lost targets\n",
    "[(tf,c) for tf,c in dl_tf_counts if tf in target_df[\"Name.Target\"].values]"
   ]
  },
  {
   "cell_type": "code",
   "execution_count": 20,
   "metadata": {},
   "outputs": [
    {
     "data": {
      "text/plain": [
       "[('MYH9', 389),\n",
       " ('MERTK', 265),\n",
       " ('SDC1', 44),\n",
       " ('EBF3', 37),\n",
       " ('STEAP3', 25),\n",
       " ('GNA13', 20),\n",
       " ('LRCH1', 8),\n",
       " ('PIN4', 6),\n",
       " ('MOB3A', 1),\n",
       " ('C19orf47', 0)]"
      ]
     },
     "execution_count": 20,
     "metadata": {},
     "output_type": "execute_result"
    }
   ],
   "source": [
    "# known and highly researched gained targets\n",
    "[(tf,c) for tf,c in idg_tf_counts if tf in target_df[\"Name.Target\"].values]"
   ]
  },
  {
   "cell_type": "code",
   "execution_count": null,
   "metadata": {},
   "outputs": [],
   "source": []
  },
  {
   "cell_type": "code",
   "execution_count": null,
   "metadata": {},
   "outputs": [],
   "source": []
  },
  {
   "cell_type": "code",
   "execution_count": null,
   "metadata": {},
   "outputs": [],
   "source": []
  },
  {
   "cell_type": "code",
   "execution_count": null,
   "metadata": {},
   "outputs": [],
   "source": []
  },
  {
   "cell_type": "code",
   "execution_count": null,
   "metadata": {},
   "outputs": [],
   "source": []
  },
  {
   "cell_type": "code",
   "execution_count": null,
   "metadata": {},
   "outputs": [],
   "source": []
  }
 ],
 "metadata": {
  "kernelspec": {
   "display_name": "Python 3",
   "language": "python",
   "name": "python3"
  },
  "language_info": {
   "codemirror_mode": {
    "name": "ipython",
    "version": 3
   },
   "file_extension": ".py",
   "mimetype": "text/x-python",
   "name": "python",
   "nbconvert_exporter": "python",
   "pygments_lexer": "ipython3",
   "version": "3.11.4"
  },
  "orig_nbformat": 4
 },
 "nbformat": 4,
 "nbformat_minor": 2
}
