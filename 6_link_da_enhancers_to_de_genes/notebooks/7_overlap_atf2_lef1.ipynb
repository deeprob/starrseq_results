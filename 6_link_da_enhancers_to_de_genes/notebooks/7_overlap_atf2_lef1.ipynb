{
 "cells": [
  {
   "cell_type": "code",
   "execution_count": 1,
   "metadata": {},
   "outputs": [],
   "source": [
    "import os\n",
    "import pandas as pd\n",
    "import seaborn as sns\n",
    "import matplotlib.pyplot as plt\n",
    "from matplotlib.tri import Triangulation\n",
    "from matplotlib import colors\n",
    "import numpy as np\n",
    "\n",
    "import seaborn as sns\n",
    "import matplotlib\n",
    "import matplotlib.pyplot as plt\n",
    "from matplotlib.ticker import MultipleLocator\n",
    "import matplotlib.patches as mpatches\n",
    "matplotlib.rcParams['pdf.fonttype'] = 42\n",
    "matplotlib.rcParams['ps.fonttype'] = 42\n",
    "matplotlib.rcParams['font.sans-serif'] = \"Arial\" # missing fonts:: https://alexanderlabwhoi.github.io/post/2021-03-missingfont/\n",
    "# Then, \"ALWAYS use sans-serif fonts\"\n",
    "matplotlib.rcParams['font.family'] = \"sans-serif\"\n",
    "matplotlib.rcParams.update({'font.size': 7, 'axes.linewidth': 1, 'xtick.major.width': 1, 'xtick.major.size': 4, 'ytick.major.width': 1, 'ytick.major.size': 4})\n",
    "from matplotlib.backends.backend_pdf import PdfPages\n"
   ]
  },
  {
   "cell_type": "code",
   "execution_count": 2,
   "metadata": {},
   "outputs": [],
   "source": [
    "def save_pdf(save_file, fig):\n",
    "    os.makedirs(os.path.dirname(save_file), exist_ok=True)\n",
    "    pdf = PdfPages(save_file)\n",
    "    pdf.savefig(fig, bbox_inches='tight', dpi=300)\n",
    "    pdf.close()\n",
    "    return"
   ]
  },
  {
   "cell_type": "code",
   "execution_count": 3,
   "metadata": {},
   "outputs": [],
   "source": [
    "atf2_file = \"/data5/deepro/starrseq/papers/results/6_link_da_enhancers_to_de_genes/data/da_de_peaks/ATF2/direct_loss.bed\"\n",
    "lef1_file = \"/data5/deepro/starrseq/papers/results/6_link_da_enhancers_to_de_genes/data/da_de_peaks/LEF1/direct_loss.bed\""
   ]
  },
  {
   "cell_type": "code",
   "execution_count": 4,
   "metadata": {},
   "outputs": [],
   "source": [
    "def read_tf_df(filename, libn):\n",
    "    colnames = [\"chrom\", \"start\", \"end\", \"chrom_coord\", f\"{libn}_act\", \"strand\", f\"{libn}_log2FoldChange_act\", f\"gene_name\", f\"{libn}_log2FoldChange_exp\", f\"{libn}_padj_act\", f\"{libn}_padj_exp\", \"CC_peak\", f\"{libn}_peak\"]\n",
    "    return pd.read_csv(filename, sep=\"\\t\", header=None, names=colnames)"
   ]
  },
  {
   "cell_type": "code",
   "execution_count": 5,
   "metadata": {},
   "outputs": [],
   "source": [
    "atf2_df = read_tf_df(atf2_file, \"ATF2\")\n",
    "lef1_df = read_tf_df(lef1_file, \"LEF1\")"
   ]
  },
  {
   "cell_type": "code",
   "execution_count": 6,
   "metadata": {},
   "outputs": [],
   "source": [
    "merged_df = atf2_df.merge(lef1_df, on=[\"chrom\", \"start\", \"end\", \"chrom_coord\", \"gene_name\", \"strand\", \"CC_peak\"])"
   ]
  },
  {
   "cell_type": "code",
   "execution_count": 7,
   "metadata": {},
   "outputs": [],
   "source": [
    "act_plot_df = merged_df.loc[:, [\"chrom_coord\", \"ATF2_log2FoldChange_act\", \"LEF1_log2FoldChange_act\"]].set_index(\"chrom_coord\")"
   ]
  },
  {
   "cell_type": "code",
   "execution_count": 8,
   "metadata": {},
   "outputs": [],
   "source": [
    "libs=[\"ATF2\", \"LEF1\"]\n",
    "\n",
    "plot_df = merged_df.set_index(\"chrom_coord\").loc[:, [f\"{lib}_log2FoldChange_{t}\" for lib in libs for t in [\"act\", \"exp\"]]]\n",
    "annot_df = merged_df.set_index(\"chrom_coord\").loc[:, [f\"{lib}_padj_{t}\" for lib in libs for t in [\"act\", \"exp\"]]].applymap(lambda x: -np.log10(x))\n"
   ]
  },
  {
   "cell_type": "code",
   "execution_count": 9,
   "metadata": {},
   "outputs": [
    {
     "data": {
      "image/png": "[encoded data removed]",
      "text/plain": [
       "<Figure size 54x504 with 3 Axes>"
      ]
     },
     "metadata": {
      "needs_background": "light"
     },
     "output_type": "display_data"
    }
   ],
   "source": [
    "fig, ax = plt.subplots(figsize=(0.75, 7))\n",
    "\n",
    "M = len(annot_df.columns)//2\n",
    "N = len(annot_df)\n",
    "x = np.arange(M + 1)\n",
    "y = np.arange(N + 1)\n",
    "xs, ys = np.meshgrid(x, y)\n",
    "act = annot_df.loc[:, [c for c in annot_df.columns if \"_act\" in c]].values\n",
    "act = act.ravel() # [:-1, :-1]\n",
    "exp = annot_df.loc[:, [c for c in annot_df.columns if \"_exp\" in c]].values\n",
    "exp = exp.ravel() # [:-1, :-1]\n",
    "\n",
    "divnorm_act=colors.TwoSlopeNorm(vmin=1.3, vcenter=3, vmax=50)\n",
    "divnorm_exp=colors.TwoSlopeNorm(vmin=1.3, vcenter=3, vmax=50)\n",
    "\n",
    "\n",
    "triangles1 = [(i + j*(M+1), i+1 + j*(M+1), i + (j+1)*(M+1)) for j in range(N) for i in range(M)]\n",
    "triangles2 = [(i+1 + j*(M+1), i+1 + (j+1)*(M+1), i + (j+1)*(M+1)) for j in range(N) for i in range(M)]\n",
    "triang1 = Triangulation(xs.ravel(), ys.ravel(), triangles1)\n",
    "triang2 = Triangulation(xs.ravel(), ys.ravel(), triangles2)\n",
    "img1 = plt.tripcolor(triang1, act, cmap=plt.get_cmap('Reds'), norm=divnorm_act, edgecolors=\"k\", linewidths=1.05)\n",
    "img2 = plt.tripcolor(triang2, exp, cmap=plt.get_cmap('Reds'), norm=divnorm_exp, edgecolors=\"k\", linewidths=1.05)\n",
    "\n",
    "\n",
    "# ax2.set_yticklabels(annot_df[\"gene_name\"].values) \n",
    "# ax2.tick_params(axis=\"y\", right=True, labelright=True)\n",
    "# \n",
    "plt.colorbar(img1, pad=0.25, location=\"bottom\", orientation=\"horizontal\", ax=ax)\n",
    "ax.set_xlim(x[0], x[-1])\n",
    "ax.set_ylim(y[0], y[-1])\n",
    "ax.set_xticks(x[:-1]+0.5, [c.replace(\"_log2FoldChange_act\", \"\") for c in annot_df.columns if \"_act\" in c], rotation=90)\n",
    "ax.set_yticks(y[:-1]+0.5, annot_df.index)\n",
    "\n",
    "ax2 = ax.twinx()\n",
    "ax2.set_ylim(ax.get_ylim())\n",
    "ax2.set_yticks(y[:-1]+0.5, merged_df.gene_name)\n",
    "\n",
    "plt.show()\n"
   ]
  },
  {
   "cell_type": "code",
   "execution_count": 10,
   "metadata": {},
   "outputs": [],
   "source": [
    "save_file = \"/data5/deepro/starrseq/papers/results/6_link_da_enhancers_to_de_genes/data/figures/atf2_lef1_common.pdf\"\n",
    "save_pdf(save_file, fig)\n"
   ]
  },
  {
   "cell_type": "code",
   "execution_count": null,
   "metadata": {},
   "outputs": [],
   "source": []
  }
 ],
 "metadata": {
  "kernelspec": {
   "display_name": "starrseq",
   "language": "python",
   "name": "python3"
  },
  "language_info": {
   "codemirror_mode": {
    "name": "ipython",
    "version": 3
   },
   "file_extension": ".py",
   "mimetype": "text/x-python",
   "name": "python",
   "nbconvert_exporter": "python",
   "pygments_lexer": "ipython3",
   "version": "3.9.16"
  },
  "orig_nbformat": 4
 },
 "nbformat": 4,
 "nbformat_minor": 2
}
