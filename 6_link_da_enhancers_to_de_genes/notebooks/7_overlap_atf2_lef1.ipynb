{
 "cells": [
  {
   "cell_type": "code",
   "execution_count": 1,
   "metadata": {},
   "outputs": [],
   "source": [
    "import pandas as pd"
   ]
  },
  {
   "cell_type": "code",
   "execution_count": 8,
   "metadata": {},
   "outputs": [],
   "source": [
    "atf2_file = \"/data5/deepro/starrseq/papers/results/6_link_da_enhancers_to_de_genes/data/da_de_peaks/ATF2/direct_loss.bed\"\n",
    "lef1_file = \"/data5/deepro/starrseq/papers/results/6_link_da_enhancers_to_de_genes/data/da_de_peaks/LEF1/direct_loss.bed\""
   ]
  },
  {
   "cell_type": "code",
   "execution_count": 9,
   "metadata": {},
   "outputs": [],
   "source": [
    "def read_tf_df(filename, libn):\n",
    "    colnames = [\"chrom\", \"start\", \"end\", \"chrom_coord\", f\"{libn}_act\", \"strand\", f\"{libn}_log2FoldChange_act\", f\"gene_name\", f\"{libn}_log2FoldChange_exp\", f\"{libn}_padj_act\", f\"{libn}_padj_exp\", \"CC_peak\", f\"{libn}_peak\"]\n",
    "    return pd.read_csv(filename, sep=\"\\t\", header=None, names=colnames)"
   ]
  },
  {
   "cell_type": "code",
   "execution_count": 10,
   "metadata": {},
   "outputs": [],
   "source": [
    "atf2_df = read_tf_df(atf2_file, \"ATF2\")\n",
    "lef1_df = read_tf_df(lef1_file, \"LEF1\")"
   ]
  },
  {
   "cell_type": "code",
   "execution_count": 24,
   "metadata": {},
   "outputs": [],
   "source": [
    "atf2_regions = atf2_df.loc[:, [\"chrom_coord\", \"gene_name\"]].apply(lambda x: \"_\".join(x), axis=1).values\n",
    "lef1_regions = lef1_df.loc[:, [\"chrom_coord\", \"gene_name\"]].apply(lambda x: \"_\".join(x), axis=1).values"
   ]
  },
  {
   "cell_type": "code",
   "execution_count": 27,
   "metadata": {},
   "outputs": [
    {
     "data": {
      "text/plain": [
       "{'chr10_113067322_113067822_TCF7L2',\n",
       " 'chr10_133244815_133245315_FUOM',\n",
       " 'chr10_133244815_133245315_SCART1',\n",
       " 'chr10_133244915_133245415_FUOM',\n",
       " 'chr10_133244915_133245415_KNDC1',\n",
       " 'chr10_133244915_133245415_SCART1',\n",
       " 'chr12_68787313_68787813_SLC35E3',\n",
       " 'chr13_40660115_40660615_FOXO1',\n",
       " 'chr16_85562401_85562901_GSE1',\n",
       " 'chr16_86502199_86502672_FENDRR',\n",
       " 'chr3_152379218_152379718_MBNL1',\n",
       " 'chr3_152379318_152379775_MBNL1',\n",
       " 'chr7_104943194_104943694_KMT2E',\n",
       " 'chr7_104943294_104943794_KMT2E',\n",
       " 'chr7_43577594_43578094_STK17A',\n",
       " 'chr7_43577644_43578116_STK17A'}"
      ]
     },
     "execution_count": 27,
     "metadata": {},
     "output_type": "execute_result"
    }
   ],
   "source": [
    "set(atf2_regions).intersection(set(lef1_regions))"
   ]
  },
  {
   "cell_type": "code",
   "execution_count": 26,
   "metadata": {},
   "outputs": [
    {
     "data": {
      "text/plain": [
       "array(['chr3_152379318_152379775_MBNL1', 'chr3_152379218_152379718_MBNL1',\n",
       "       'chrX_46963496_46963996_ENSG00000288759',\n",
       "       'chr10_133244915_133245415_KNDC1',\n",
       "       'chr10_133244915_133245415_FUOM', 'chr10_133244815_133245315_FUOM',\n",
       "       'chr10_133244915_133245415_SCART1',\n",
       "       'chr10_133244815_133245315_SCART1',\n",
       "       'chrX_46963496_46963996_ZNF674', 'chr10_133244915_133245415_MTG1',\n",
       "       'chr10_133244815_133245315_MTG1', 'chr7_104943194_104943694_KMT2E',\n",
       "       'chr7_104943294_104943794_KMT2E', 'chr6_680924_681424_EXOC2',\n",
       "       'chr6_583381_583881_EXOC2', 'chr14_70010786_70011286_SMOC1',\n",
       "       'chr14_70010886_70011386_SMOC1', 'chr14_70011186_70011686_SMOC1',\n",
       "       'chr14_70011086_70011586_SMOC1', 'chr14_70011286_70011771_SMOC1',\n",
       "       'chr14_70010986_70011486_SMOC1', 'chr6_582920_583386_EXOC2',\n",
       "       'chr7_5525977_5526477_ACTB', 'chr7_5525877_5526377_ACTB',\n",
       "       'chr7_5526077_5526577_ACTB', 'chr7_5525777_5526277_ACTB',\n",
       "       'chr16_86502199_86502672_FENDRR', 'chr19_18373590_18374090_GDF15',\n",
       "       'chr19_18373690_18374190_GDF15', 'chr19_18373790_18374290_GDF15',\n",
       "       'chr19_18373890_18374390_GDF15', 'chr19_18373990_18374490_GDF15',\n",
       "       'chr19_18374090_18374569_GDF15', 'chr19_18373490_18373990_GDF15',\n",
       "       'chr10_125087518_125088018_CTBP2', 'chr16_85562401_85562901_GSE1',\n",
       "       'chr12_68787313_68787813_SLC35E3',\n",
       "       'chr10_113067322_113067822_TCF7L2',\n",
       "       'chr12_19431918_19432418_AEBP2', 'chr14_77342478_77342978_TMED8',\n",
       "       'chr14_77342378_77342878_TMED8', 'chr7_43577594_43578094_STK17A',\n",
       "       'chr7_43577644_43578116_STK17A', 'chr13_40660115_40660615_FOXO1',\n",
       "       'chr10_71999489_71999989_CHST3', 'chr10_71999589_72000089_CHST3',\n",
       "       'chr9_92800215_92800715_ENSG00000288062',\n",
       "       'chr3_47444185_47444674_SCAP', 'chr3_47444085_47444585_SCAP',\n",
       "       'chr3_47443885_47444385_SCAP', 'chr3_47443985_47444485_SCAP',\n",
       "       'chr14_69712922_69713422_SUSD6', 'chr14_69713022_69713522_SUSD6',\n",
       "       'chr14_69713122_69713622_SUSD6', 'chr10_14562686_14563186_FAM107B',\n",
       "       'chr10_14562786_14563285_FAM107B',\n",
       "       'chr1_214439578_214440078_PTPN14',\n",
       "       'chr1_214439078_214439578_PTPN14',\n",
       "       'chr1_214438978_214439478_PTPN14', 'chr1_181099881_181100381_IER5',\n",
       "       'chr1_181099681_181100181_IER5', 'chr1_181099581_181100081_IER5',\n",
       "       'chr1_181099381_181099881_IER5', 'chr1_181099481_181099981_IER5',\n",
       "       'chr1_181099281_181099781_IER5',\n",
       "       'chr1_234618494_234618994_IRF2BP2', 'chr8_80068534_80069017_TPD52',\n",
       "       'chr8_80068484_80068984_TPD52', 'chr8_80068384_80068884_TPD52',\n",
       "       'chr8_80068284_80068784_TPD52', 'chr8_80068184_80068684_TPD52',\n",
       "       'chr12_88559419_88559919_KITLG', 'chr4_26142060_26142519_RBPJ',\n",
       "       'chr4_26142010_26142510_RBPJ', 'chr2_108445293_108445793_GCC2',\n",
       "       'chr3_20078548_20079012_KAT2B', 'chr1_181099781_181100281_IER5',\n",
       "       'chr3_20078498_20078998_KAT2B', 'chr3_20078398_20078898_KAT2B',\n",
       "       'chr4_26141910_26142410_RBPJ', 'chr4_26141710_26142210_RBPJ',\n",
       "       'chr4_26141610_26142110_RBPJ',\n",
       "       'chr10_72270722_72271222_ENSG00000289506',\n",
       "       'chr10_72270622_72271122_ENSG00000289506',\n",
       "       'chr10_72270822_72271319_ENSG00000289506',\n",
       "       'chr4_26141810_26142310_RBPJ', 'chr1_233179702_233180202_PCNX2',\n",
       "       'chr12_50928311_50928811_METTL7A',\n",
       "       'chr12_50928561_50929022_METTL7A',\n",
       "       'chr12_50928511_50929011_METTL7A',\n",
       "       'chr12_50928411_50928911_METTL7A',\n",
       "       'chr2_201406315_201406815_TRAK2', 'chr17_4854317_4854796_MINK1',\n",
       "       'chr17_4854217_4854717_MINK1', 'chr1_201986839_201987300_RNPEP',\n",
       "       'chr1_201986789_201987289_RNPEP', 'chr1_201986689_201987189_RNPEP',\n",
       "       'chr10_33315788_33316288_NRP1', 'chr5_116507014_116507514_SEMA6A',\n",
       "       'chr5_163509086_163509586_MAT2B', 'chr5_163509186_163509686_MAT2B',\n",
       "       'chr5_163508986_163509486_MAT2B', 'chr1_181042882_181043382_MR1',\n",
       "       'chr1_181042932_181043422_MR1', 'chr1_181042782_181043282_MR1',\n",
       "       'chr2_201406315_201406815_STRADB', 'chr1_181042682_181043182_MR1',\n",
       "       'chr19_18364412_18364912_PGPEP1'], dtype=object)"
      ]
     },
     "execution_count": 26,
     "metadata": {},
     "output_type": "execute_result"
    }
   ],
   "source": [
    "lef1_regions"
   ]
  }
 ],
 "metadata": {
  "kernelspec": {
   "display_name": "Python 3",
   "language": "python",
   "name": "python3"
  },
  "language_info": {
   "codemirror_mode": {
    "name": "ipython",
    "version": 3
   },
   "file_extension": ".py",
   "mimetype": "text/x-python",
   "name": "python",
   "nbconvert_exporter": "python",
   "pygments_lexer": "ipython3",
   "version": "3.11.4"
  },
  "orig_nbformat": 4
 },
 "nbformat": 4,
 "nbformat_minor": 2
}
