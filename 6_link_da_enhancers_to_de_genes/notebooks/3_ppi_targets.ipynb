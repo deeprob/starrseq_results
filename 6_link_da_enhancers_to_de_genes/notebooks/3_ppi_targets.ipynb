{
 "cells": [
  {
   "cell_type": "code",
   "execution_count": 66,
   "metadata": {},
   "outputs": [],
   "source": [
    "import requests\n",
    "import re\n",
    "import pandas as pd"
   ]
  },
  {
   "cell_type": "code",
   "execution_count": 63,
   "metadata": {},
   "outputs": [],
   "source": [
    "def get_interactions_info(accession):\n",
    "    base_url = \"https://www.ebi.ac.uk/proteins/api\"\n",
    "    url = base_url + f\"/proteins/interaction/{accession}\"\n",
    "    x = requests.get(url)\n",
    "    pattern = re.compile('\"interactions\":\\[(.+?)\\]')\n",
    "    m = re.search(pattern, x.text)\n",
    "    gene_pattern = re.compile('\"gene\":\".+?\"')\n",
    "    all_interactors = re.findall(gene_pattern, m.group(1))\n",
    "    all_interactors = [info.split(\":\")[1].strip('\"\"') for info in all_interactors]\n",
    "    return set(all_interactors)"
   ]
  },
  {
   "cell_type": "code",
   "execution_count": 73,
   "metadata": {},
   "outputs": [],
   "source": [
    "def get_enriched_motifs(results_file):\n",
    "    atf2_homer_results = pd.read_csv(results_file, sep=\"\\t\", comment=\"#\", index_col=0)\n",
    "    motifs = atf2_homer_results.motif_ID.str.split(\"_\", expand=True).iloc[:, 0].values\n",
    "    return set(motifs)"
   ]
  },
  {
   "cell_type": "code",
   "execution_count": 79,
   "metadata": {},
   "outputs": [],
   "source": [
    "ppi_accession_dict = {\n",
    "    \"ATF2\": \"P15336\",\n",
    "    \"CTCF\": \"P49711\",\n",
    "    \"FOXA1\": \"P55317\",\n",
    "    \"LEF1\": \"Q9UJU2\",\n",
    "    \"SCRT1\": \"Q9BWW7\",\n",
    "    \"TCF7L2\": \"Q9NQB0\",\n",
    "}\n",
    "\n",
    "meme_results_dict = {\n",
    "    \"ATF2\": \"/data5/deepro/starrseq/papers/results/3_motif_enrichment_fragment_category/data/ATF2/meme/direct_non_responsive/ame.tsv\",\n",
    "    \"CTCF\": \"/data5/deepro/starrseq/papers/results/3_motif_enrichment_fragment_category/data/CTCF/meme/direct_non_responsive/ame.tsv\",\n",
    "    \"FOXA1\": \"/data5/deepro/starrseq/papers/results/3_motif_enrichment_fragment_category/data/FOXA1/meme/direct_non_responsive/ame.tsv\",\n",
    "    \"LEF1\": \"/data5/deepro/starrseq/papers/results/3_motif_enrichment_fragment_category/data/LEF1/meme/direct_non_responsive/ame.tsv\",\n",
    "    \"SCRT1\": \"/data5/deepro/starrseq/papers/results/3_motif_enrichment_fragment_category/data/SCRT1/meme/direct_non_responsive/ame.tsv\",\n",
    "    \"TCF7L2\": \"/data5/deepro/starrseq/papers/results/3_motif_enrichment_fragment_category/data/TCF7L2/meme/direct_non_responsive/ame.tsv\",\n",
    "}"
   ]
  },
  {
   "cell_type": "code",
   "execution_count": 82,
   "metadata": {},
   "outputs": [
    {
     "name": "stdout",
     "output_type": "stream",
     "text": [
      "ATF2\n",
      "{'ATF4', 'CEBPG', 'ATF3', 'ATF2'}\n"
     ]
    }
   ],
   "source": [
    "lib=\"ATF2\"\n",
    "interactions = get_interactions_info(ppi_accession_dict[lib])\n",
    "motifs = get_enriched_motifs(meme_results_dict[lib])\n",
    "overlaps = interactions.intersection(motifs)\n",
    "print(lib)\n",
    "print(overlaps)"
   ]
  },
  {
   "cell_type": "code",
   "execution_count": 83,
   "metadata": {},
   "outputs": [
    {
     "name": "stdout",
     "output_type": "stream",
     "text": [
      "CTCF\n",
      "set()\n"
     ]
    }
   ],
   "source": [
    "lib=\"CTCF\"\n",
    "interactions = get_interactions_info(ppi_accession_dict[lib])\n",
    "motifs = get_enriched_motifs(meme_results_dict[lib])\n",
    "overlaps = interactions.intersection(motifs)\n",
    "print(lib)\n",
    "print(overlaps)"
   ]
  },
  {
   "cell_type": "code",
   "execution_count": 84,
   "metadata": {},
   "outputs": [
    {
     "name": "stdout",
     "output_type": "stream",
     "text": [
      "FOXA1\n",
      "set()\n"
     ]
    }
   ],
   "source": [
    "lib=\"FOXA1\"\n",
    "interactions = get_interactions_info(ppi_accession_dict[lib])\n",
    "motifs = get_enriched_motifs(meme_results_dict[lib])\n",
    "overlaps = interactions.intersection(motifs)\n",
    "print(lib)\n",
    "print(overlaps)"
   ]
  },
  {
   "cell_type": "code",
   "execution_count": 85,
   "metadata": {},
   "outputs": [
    {
     "name": "stdout",
     "output_type": "stream",
     "text": [
      "LEF1\n",
      "set()\n"
     ]
    }
   ],
   "source": [
    "lib=\"LEF1\"\n",
    "interactions = get_interactions_info(ppi_accession_dict[lib])\n",
    "motifs = get_enriched_motifs(meme_results_dict[lib])\n",
    "overlaps = interactions.intersection(motifs)\n",
    "print(lib)\n",
    "print(overlaps)"
   ]
  },
  {
   "cell_type": "code",
   "execution_count": 86,
   "metadata": {},
   "outputs": [
    {
     "ename": "AttributeError",
     "evalue": "'NoneType' object has no attribute 'group'",
     "output_type": "error",
     "traceback": [
      "\u001b[0;31m---------------------------------------------------------------------------\u001b[0m",
      "\u001b[0;31mAttributeError\u001b[0m                            Traceback (most recent call last)",
      "\u001b[0;32m/tmp/ipykernel_3028046/2428034236.py\u001b[0m in \u001b[0;36m<module>\u001b[0;34m\u001b[0m\n\u001b[1;32m      1\u001b[0m \u001b[0mlib\u001b[0m\u001b[0;34m=\u001b[0m\u001b[0;34m\"SCRT1\"\u001b[0m\u001b[0;34m\u001b[0m\u001b[0;34m\u001b[0m\u001b[0m\n\u001b[0;32m----> 2\u001b[0;31m \u001b[0minteractions\u001b[0m \u001b[0;34m=\u001b[0m \u001b[0mget_interactions_info\u001b[0m\u001b[0;34m(\u001b[0m\u001b[0mppi_accession_dict\u001b[0m\u001b[0;34m[\u001b[0m\u001b[0mlib\u001b[0m\u001b[0;34m]\u001b[0m\u001b[0;34m)\u001b[0m\u001b[0;34m\u001b[0m\u001b[0;34m\u001b[0m\u001b[0m\n\u001b[0m\u001b[1;32m      3\u001b[0m \u001b[0mmotifs\u001b[0m \u001b[0;34m=\u001b[0m \u001b[0mget_enriched_motifs\u001b[0m\u001b[0;34m(\u001b[0m\u001b[0mmeme_results_dict\u001b[0m\u001b[0;34m[\u001b[0m\u001b[0mlib\u001b[0m\u001b[0;34m]\u001b[0m\u001b[0;34m)\u001b[0m\u001b[0;34m\u001b[0m\u001b[0;34m\u001b[0m\u001b[0m\n\u001b[1;32m      4\u001b[0m \u001b[0moverlaps\u001b[0m \u001b[0;34m=\u001b[0m \u001b[0minteractions\u001b[0m\u001b[0;34m.\u001b[0m\u001b[0mintersection\u001b[0m\u001b[0;34m(\u001b[0m\u001b[0mmotifs\u001b[0m\u001b[0;34m)\u001b[0m\u001b[0;34m\u001b[0m\u001b[0;34m\u001b[0m\u001b[0m\n\u001b[1;32m      5\u001b[0m \u001b[0mprint\u001b[0m\u001b[0;34m(\u001b[0m\u001b[0mlib\u001b[0m\u001b[0;34m)\u001b[0m\u001b[0;34m\u001b[0m\u001b[0;34m\u001b[0m\u001b[0m\n",
      "\u001b[0;32m/tmp/ipykernel_3028046/3037245857.py\u001b[0m in \u001b[0;36mget_interactions_info\u001b[0;34m(accession)\u001b[0m\n\u001b[1;32m      6\u001b[0m     \u001b[0mm\u001b[0m \u001b[0;34m=\u001b[0m \u001b[0mre\u001b[0m\u001b[0;34m.\u001b[0m\u001b[0msearch\u001b[0m\u001b[0;34m(\u001b[0m\u001b[0mpattern\u001b[0m\u001b[0;34m,\u001b[0m \u001b[0mx\u001b[0m\u001b[0;34m.\u001b[0m\u001b[0mtext\u001b[0m\u001b[0;34m)\u001b[0m\u001b[0;34m\u001b[0m\u001b[0;34m\u001b[0m\u001b[0m\n\u001b[1;32m      7\u001b[0m     \u001b[0mgene_pattern\u001b[0m \u001b[0;34m=\u001b[0m \u001b[0mre\u001b[0m\u001b[0;34m.\u001b[0m\u001b[0mcompile\u001b[0m\u001b[0;34m(\u001b[0m\u001b[0;34m'\"gene\":\".+?\"'\u001b[0m\u001b[0;34m)\u001b[0m\u001b[0;34m\u001b[0m\u001b[0;34m\u001b[0m\u001b[0m\n\u001b[0;32m----> 8\u001b[0;31m     \u001b[0mall_interactors\u001b[0m \u001b[0;34m=\u001b[0m \u001b[0mre\u001b[0m\u001b[0;34m.\u001b[0m\u001b[0mfindall\u001b[0m\u001b[0;34m(\u001b[0m\u001b[0mgene_pattern\u001b[0m\u001b[0;34m,\u001b[0m \u001b[0mm\u001b[0m\u001b[0;34m.\u001b[0m\u001b[0mgroup\u001b[0m\u001b[0;34m(\u001b[0m\u001b[0;36m1\u001b[0m\u001b[0;34m)\u001b[0m\u001b[0;34m)\u001b[0m\u001b[0;34m\u001b[0m\u001b[0;34m\u001b[0m\u001b[0m\n\u001b[0m\u001b[1;32m      9\u001b[0m     \u001b[0mall_interactors\u001b[0m \u001b[0;34m=\u001b[0m \u001b[0;34m[\u001b[0m\u001b[0minfo\u001b[0m\u001b[0;34m.\u001b[0m\u001b[0msplit\u001b[0m\u001b[0;34m(\u001b[0m\u001b[0;34m\":\"\u001b[0m\u001b[0;34m)\u001b[0m\u001b[0;34m[\u001b[0m\u001b[0;36m1\u001b[0m\u001b[0;34m]\u001b[0m\u001b[0;34m.\u001b[0m\u001b[0mstrip\u001b[0m\u001b[0;34m(\u001b[0m\u001b[0;34m'\"\"'\u001b[0m\u001b[0;34m)\u001b[0m \u001b[0;32mfor\u001b[0m \u001b[0minfo\u001b[0m \u001b[0;32min\u001b[0m \u001b[0mall_interactors\u001b[0m\u001b[0;34m]\u001b[0m\u001b[0;34m\u001b[0m\u001b[0;34m\u001b[0m\u001b[0m\n\u001b[1;32m     10\u001b[0m     \u001b[0;32mreturn\u001b[0m \u001b[0mset\u001b[0m\u001b[0;34m(\u001b[0m\u001b[0mall_interactors\u001b[0m\u001b[0;34m)\u001b[0m\u001b[0;34m\u001b[0m\u001b[0;34m\u001b[0m\u001b[0m\n",
      "\u001b[0;31mAttributeError\u001b[0m: 'NoneType' object has no attribute 'group'"
     ]
    }
   ],
   "source": [
    "lib=\"SCRT1\"\n",
    "interactions = get_interactions_info(ppi_accession_dict[lib])\n",
    "motifs = get_enriched_motifs(meme_results_dict[lib])\n",
    "overlaps = interactions.intersection(motifs)\n",
    "print(lib)\n",
    "print(overlaps)"
   ]
  },
  {
   "cell_type": "code",
   "execution_count": 87,
   "metadata": {},
   "outputs": [
    {
     "name": "stdout",
     "output_type": "stream",
     "text": [
      "TCF7L2\n",
      "set()\n"
     ]
    }
   ],
   "source": [
    "lib=\"TCF7L2\"\n",
    "interactions = get_interactions_info(ppi_accession_dict[lib])\n",
    "motifs = get_enriched_motifs(meme_results_dict[lib])\n",
    "overlaps = interactions.intersection(motifs)\n",
    "print(lib)\n",
    "print(overlaps)"
   ]
  },
  {
   "cell_type": "code",
   "execution_count": null,
   "metadata": {},
   "outputs": [],
   "source": []
  },
  {
   "cell_type": "code",
   "execution_count": null,
   "metadata": {},
   "outputs": [],
   "source": []
  }
 ],
 "metadata": {
  "kernelspec": {
   "display_name": "Python 3",
   "language": "python",
   "name": "python3"
  },
  "language_info": {
   "codemirror_mode": {
    "name": "ipython",
    "version": 3
   },
   "file_extension": ".py",
   "mimetype": "text/x-python",
   "name": "python",
   "nbconvert_exporter": "python",
   "pygments_lexer": "ipython3",
   "version": "3.9.16"
  },
  "orig_nbformat": 4
 },
 "nbformat": 4,
 "nbformat_minor": 2
}
