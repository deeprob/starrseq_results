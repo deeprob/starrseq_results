{
 "cells": [
  {
   "cell_type": "code",
   "execution_count": 1,
   "metadata": {},
   "outputs": [
    {
     "name": "stderr",
     "output_type": "stream",
     "text": [
      "/data5/deepro/miniconda3/envs/starrseq/lib/python3.9/site-packages/scipy/__init__.py:146: UserWarning: A NumPy version >=1.16.5 and <1.23.0 is required for this version of SciPy (detected version 1.25.0\n",
      "  warnings.warn(f\"A NumPy version >={np_minversion} and <{np_maxversion}\"\n"
     ]
    }
   ],
   "source": [
    "import os\n",
    "import numpy as np\n",
    "import pandas as pd\n",
    "from functools import reduce\n",
    "from itertools import combinations\n",
    "\n",
    "import matplotlib.pyplot as plt\n",
    "from matplotlib.ticker import MultipleLocator\n",
    "import matplotlib\n",
    "import matplotlib.pyplot as plt\n",
    "matplotlib.rcParams['pdf.fonttype'] = 42\n",
    "matplotlib.rcParams['ps.fonttype'] = 42\n",
    "matplotlib.rcParams.update({'font.size': 12})\n",
    "from matplotlib.backends.backend_pdf import PdfPages\n",
    "import seaborn as sns"
   ]
  },
  {
   "cell_type": "code",
   "execution_count": 2,
   "metadata": {},
   "outputs": [],
   "source": [
    "def read_and_filter_df(filename, libraries):\n",
    "    df = pd.read_csv(filename)\n",
    "    df = df.dropna()\n",
    "    # proportional query\n",
    "    query = \" & \".join([\n",
    "        f\"((`{lib}_log2FoldChange_act`<0) & (`{lib}_log2FoldChange_exp`<0) | (`{lib}_log2FoldChange_act`>0) & (`{lib}_log2FoldChange_exp`>0))\" for lib in libraries])\n",
    "    df = df.query(query)\n",
    "    return df"
   ]
  },
  {
   "cell_type": "code",
   "execution_count": 3,
   "metadata": {},
   "outputs": [],
   "source": [
    "abc_file = \"/data5/deepro/starrseq/papers/results/6_link_da_enhancers_to_de_genes/data/da_de_peaks/abc_da_de_table_peaks.csv\"\n",
    "nearest_file = \"/data5/deepro/starrseq/papers/results/6_link_da_enhancers_to_de_genes/data/da_de_peaks/nearest_da_de_table_peaks.csv\"\n",
    "lib_names = [\"ATF2\", \"CTCF\", \"FOXA1\", \"LEF1\", \"SCRT1\", \"TCF7L2\"]"
   ]
  },
  {
   "cell_type": "code",
   "execution_count": 5,
   "metadata": {},
   "outputs": [],
   "source": [
    "combos = list(combinations(lib_names,2))\n",
    "discordant_counts = []\n",
    "\n",
    "for lib_combo in combos:\n",
    "    abc_df = read_and_filter_df(abc_file, lib_combo)\n",
    "    nearest_df = read_and_filter_df(nearest_file, lib_combo)\n",
    "    df = pd.concat((abc_df, nearest_df)).drop_duplicates(subset=[\"chrom_coord\", \"gene_name\"])\n",
    "    df = df.loc[((df[\"CC_peak\"]==1|(df[f\"{lib_combo[0]}_peak\"]==1)|(df[f\"{lib_combo[1]}_peak\"]==1)))]\n",
    "    df[\"eg_pairs\"] = df.chrom_coord + \"::\" + df.gene_name\n",
    "    df = df.set_index(\"eg_pairs\")\n",
    "    query = f\"(`{lib_combo[0]}_log2FoldChange_act`>0) & (`{lib_combo[1]}_log2FoldChange_act`<0) | (`{lib_combo[0]}_log2FoldChange_act`<0) & (`{lib_combo[1]}_log2FoldChange_act`>0)\"\n",
    "    df = df.query(query)\n",
    "    df = df.loc[:, [c for c in df.columns if c.startswith(lib_combo)]]\n",
    "    discordant_counts.append(len(df))"
   ]
  },
  {
   "cell_type": "code",
   "execution_count": 6,
   "metadata": {},
   "outputs": [],
   "source": [
    "count_matrix = np.zeros((len(lib_names), len(lib_names)))"
   ]
  },
  {
   "cell_type": "code",
   "execution_count": 7,
   "metadata": {},
   "outputs": [],
   "source": [
    "combos_count_dict = dict(zip(combos, discordant_counts))"
   ]
  },
  {
   "cell_type": "code",
   "execution_count": 8,
   "metadata": {},
   "outputs": [],
   "source": [
    "for i,li in enumerate(lib_names):\n",
    "    for j,lj in enumerate(lib_names):\n",
    "        if i!=j:\n",
    "            combo = tuple(sorted([li, lj]))\n",
    "            combo_count = combos_count_dict[combo]\n",
    "            count_matrix[i,j] = combo_count\n",
    "        else:\n",
    "            count_matrix[i,j] = np.nan\n",
    "            \n",
    "    "
   ]
  },
  {
   "cell_type": "code",
   "execution_count": 9,
   "metadata": {},
   "outputs": [],
   "source": [
    "plot_df = pd.DataFrame(count_matrix, index=lib_names, columns=lib_names)"
   ]
  },
  {
   "cell_type": "code",
   "execution_count": 10,
   "metadata": {},
   "outputs": [
    {
     "data": {
      "text/plain": [
       "<AxesSubplot:>"
      ]
     },
     "execution_count": 10,
     "metadata": {},
     "output_type": "execute_result"
    },
    {
     "data": {
      "image/png": "[encoded data removed]",
      "text/plain": [
       "<Figure size 360x288 with 2 Axes>"
      ]
     },
     "metadata": {
      "needs_background": "light"
     },
     "output_type": "display_data"
    }
   ],
   "source": [
    "fig, ax = plt.subplots(figsize=(5,4))\n",
    "matrix = np.triu(plot_df)\n",
    "sns.heatmap(plot_df, annot=True, square=True, fmt=\"g\", cmap=\"Reds\", cbar_kws={\"shrink\":0.75}, linewidth=1.5, mask=matrix)"
   ]
  },
  {
   "cell_type": "code",
   "execution_count": 11,
   "metadata": {},
   "outputs": [
    {
     "data": {
      "text/plain": [
       "array([[ nan,  65., 292.,  85., 142., 313.],\n",
       "       [  0.,  nan, 304., 187.,  80., 344.],\n",
       "       [  0.,   0.,  nan, 187., 121.,  30.],\n",
       "       [  0.,   0.,   0.,  nan, 249., 202.],\n",
       "       [  0.,   0.,   0.,   0.,  nan, 152.],\n",
       "       [  0.,   0.,   0.,   0.,   0.,  nan]])"
      ]
     },
     "execution_count": 11,
     "metadata": {},
     "output_type": "execute_result"
    }
   ],
   "source": [
    "matrix"
   ]
  },
  {
   "cell_type": "code",
   "execution_count": null,
   "metadata": {},
   "outputs": [],
   "source": []
  }
 ],
 "metadata": {
  "kernelspec": {
   "display_name": "starrseq",
   "language": "python",
   "name": "python3"
  },
  "language_info": {
   "codemirror_mode": {
    "name": "ipython",
    "version": 3
   },
   "file_extension": ".py",
   "mimetype": "text/x-python",
   "name": "python",
   "nbconvert_exporter": "python",
   "pygments_lexer": "ipython3",
   "version": "3.9.16"
  },
  "orig_nbformat": 4
 },
 "nbformat": 4,
 "nbformat_minor": 2
}
