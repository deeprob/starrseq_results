{
 "cells": [
  {
   "cell_type": "code",
   "execution_count": 1,
   "metadata": {},
   "outputs": [],
   "source": [
    "import os\n",
    "import pandas as pd"
   ]
  },
  {
   "cell_type": "code",
   "execution_count": 2,
   "metadata": {},
   "outputs": [],
   "source": [
    "categories = [\"peaks\", \"notpeaks\", \"responsive\", \"nonresponsive\", \"induced\", \"repressed\"]\n",
    "ko_lines = [\"ATF2\", \"CTCF\", \"FOXA1\", \"LEF1\", \"SCRT1\", \"TCF7L2\", \"16P12_1\"]\n",
    "store_dir = \"../data/\"\n",
    "\n",
    "def get_file_length(filename):\n",
    "    with open(filename, \"r\") as f:\n",
    "        length = len(f.readlines())\n",
    "    return length"
   ]
  },
  {
   "cell_type": "code",
   "execution_count": 3,
   "metadata": {},
   "outputs": [],
   "source": [
    "def create_number_table(store_dir, ko_lines, categories):\n",
    "    data_dict = {c:[] for c in categories}\n",
    "    for ko in ko_lines:\n",
    "        for cat in categories:\n",
    "            filename = os.path.join(store_dir, ko, f\"{cat}.bed\")\n",
    "            cat_len = get_file_length(filename)\n",
    "            data_dict[cat].append(cat_len)\n",
    "    df = pd.DataFrame(data=data_dict, index=ko_lines)\n",
    "    return df"
   ]
  },
  {
   "cell_type": "code",
   "execution_count": 4,
   "metadata": {},
   "outputs": [],
   "source": [
    "df = create_number_table(store_dir, ko_lines, categories)"
   ]
  },
  {
   "cell_type": "code",
   "execution_count": 5,
   "metadata": {},
   "outputs": [
    {
     "data": {
      "text/html": [
       "<div>\n",
       "<style scoped>\n",
       "    .dataframe tbody tr th:only-of-type {\n",
       "        vertical-align: middle;\n",
       "    }\n",
       "\n",
       "    .dataframe tbody tr th {\n",
       "        vertical-align: top;\n",
       "    }\n",
       "\n",
       "    .dataframe thead th {\n",
       "        text-align: right;\n",
       "    }\n",
       "</style>\n",
       "<table border=\"1\" class=\"dataframe\">\n",
       "  <thead>\n",
       "    <tr style=\"text-align: right;\">\n",
       "      <th></th>\n",
       "      <th>peaks</th>\n",
       "      <th>notpeaks</th>\n",
       "      <th>responsive</th>\n",
       "      <th>nonresponsive</th>\n",
       "      <th>induced</th>\n",
       "      <th>repressed</th>\n",
       "    </tr>\n",
       "  </thead>\n",
       "  <tbody>\n",
       "    <tr>\n",
       "      <th>ATF2</th>\n",
       "      <td>878</td>\n",
       "      <td>252754</td>\n",
       "      <td>20987</td>\n",
       "      <td>232645</td>\n",
       "      <td>8124</td>\n",
       "      <td>12863</td>\n",
       "    </tr>\n",
       "    <tr>\n",
       "      <th>CTCF</th>\n",
       "      <td>2013</td>\n",
       "      <td>251619</td>\n",
       "      <td>10897</td>\n",
       "      <td>242735</td>\n",
       "      <td>5576</td>\n",
       "      <td>5321</td>\n",
       "    </tr>\n",
       "    <tr>\n",
       "      <th>FOXA1</th>\n",
       "      <td>2978</td>\n",
       "      <td>250654</td>\n",
       "      <td>35245</td>\n",
       "      <td>218387</td>\n",
       "      <td>29948</td>\n",
       "      <td>5297</td>\n",
       "    </tr>\n",
       "    <tr>\n",
       "      <th>LEF1</th>\n",
       "      <td>2230</td>\n",
       "      <td>251401</td>\n",
       "      <td>10145</td>\n",
       "      <td>243487</td>\n",
       "      <td>3342</td>\n",
       "      <td>6803</td>\n",
       "    </tr>\n",
       "    <tr>\n",
       "      <th>SCRT1</th>\n",
       "      <td>2266</td>\n",
       "      <td>251366</td>\n",
       "      <td>4288</td>\n",
       "      <td>249344</td>\n",
       "      <td>4020</td>\n",
       "      <td>268</td>\n",
       "    </tr>\n",
       "    <tr>\n",
       "      <th>TCF7L2</th>\n",
       "      <td>2931</td>\n",
       "      <td>250701</td>\n",
       "      <td>9365</td>\n",
       "      <td>244267</td>\n",
       "      <td>9036</td>\n",
       "      <td>329</td>\n",
       "    </tr>\n",
       "    <tr>\n",
       "      <th>16P12_1</th>\n",
       "      <td>2618</td>\n",
       "      <td>251014</td>\n",
       "      <td>5330</td>\n",
       "      <td>248302</td>\n",
       "      <td>2052</td>\n",
       "      <td>3278</td>\n",
       "    </tr>\n",
       "  </tbody>\n",
       "</table>\n",
       "</div>"
      ],
      "text/plain": [
       "         peaks  notpeaks  responsive  nonresponsive  induced  repressed\n",
       "ATF2       878    252754       20987         232645     8124      12863\n",
       "CTCF      2013    251619       10897         242735     5576       5321\n",
       "FOXA1     2978    250654       35245         218387    29948       5297\n",
       "LEF1      2230    251401       10145         243487     3342       6803\n",
       "SCRT1     2266    251366        4288         249344     4020        268\n",
       "TCF7L2    2931    250701        9365         244267     9036        329\n",
       "16P12_1   2618    251014        5330         248302     2052       3278"
      ]
     },
     "execution_count": 5,
     "metadata": {},
     "output_type": "execute_result"
    }
   ],
   "source": [
    "df"
   ]
  },
  {
   "cell_type": "code",
   "execution_count": null,
   "metadata": {},
   "outputs": [],
   "source": []
  }
 ],
 "metadata": {
  "kernelspec": {
   "display_name": "starrseq",
   "language": "python",
   "name": "python3"
  },
  "language_info": {
   "codemirror_mode": {
    "name": "ipython",
    "version": 3
   },
   "file_extension": ".py",
   "mimetype": "text/x-python",
   "name": "python",
   "nbconvert_exporter": "python",
   "pygments_lexer": "ipython3",
   "version": "3.9.7"
  },
  "orig_nbformat": 4,
  "vscode": {
   "interpreter": {
    "hash": "06856c2527dea3cf472b3c4994ec564df76496982852535c5a9520cd26601212"
   }
  }
 },
 "nbformat": 4,
 "nbformat_minor": 2
}
