{
 "cells": [
  {
   "cell_type": "code",
   "execution_count": 1,
   "metadata": {},
   "outputs": [],
   "source": [
    "import os\n",
    "import docx\n",
    "import pandas as pd\n",
    "from docx.shared import Pt\n",
    "from docx.enum.section import WD_ORIENT,WD_SECTION\n",
    "from decimal import Decimal"
   ]
  },
  {
   "cell_type": "code",
   "execution_count": 2,
   "metadata": {},
   "outputs": [],
   "source": [
    "meta_exp_file = \"/data5/deepro/starrseq/papers/results/5_compare_expression_ko_vs_wt/data/meta_exp.csv\""
   ]
  },
  {
   "cell_type": "code",
   "execution_count": 3,
   "metadata": {},
   "outputs": [],
   "source": [
    "meta_exp_df = pd.read_csv(meta_exp_file)"
   ]
  },
  {
   "cell_type": "code",
   "execution_count": 4,
   "metadata": {},
   "outputs": [],
   "source": [
    "highly_active_tfs = [\n",
    "    \"ATF4\", \"ZFX\", \"CEBPB\", \"JUN\", \"TP53\", \"CREB1\", \"ELK4\",\n",
    "    \"JUND\", \"JUNB\", \"FOS\", \"FOSB\", \"FOSL1\", \"FOSL2\", \"ATF3\", \n",
    "    ]\n",
    "\n",
    "KOs = [\"ATF2\", \"CTCF\", \"FOXA1\", \"LEF1\", \"SCRT1\", \"TCF7L2\"]"
   ]
  },
  {
   "cell_type": "code",
   "execution_count": 5,
   "metadata": {},
   "outputs": [],
   "source": [
    "table_df = meta_exp_df.loc[meta_exp_df.gene_name.isin(highly_active_tfs), [\"gene_name\"] + [f\"{ko}_{info}\" for ko in KOs for info in [\"log2FoldChange\", \"padj\"]]].sort_values(\"gene_name\")"
   ]
  },
  {
   "cell_type": "code",
   "execution_count": 6,
   "metadata": {},
   "outputs": [],
   "source": [
    "table_df.columns = [\" \".join(c.split(\"_\")) for c in table_df.columns]"
   ]
  },
  {
   "cell_type": "code",
   "execution_count": 7,
   "metadata": {},
   "outputs": [
    {
     "name": "stderr",
     "output_type": "stream",
     "text": [
      "/data5/deepro/miniconda3/envs/starrseq/lib/python3.9/site-packages/docx/styles/styles.py:139: UserWarning: style lookup by style_id is deprecated. Use style name as key instead.\n",
      "  return self._get_style_id_from_style(self[style_name], style_type)\n"
     ]
    }
   ],
   "source": [
    "# Initialise the Word document\n",
    "doc = docx.Document()\n",
    "# Document settings\n",
    "style = doc.styles['Normal']\n",
    "font = style.font\n",
    "font.name = 'Times New Roman'\n",
    "font.size = Pt(12)\n",
    "heading_style = doc.styles['Heading 1']\n",
    "heading_font = heading_style.font\n",
    "heading_font.name = \"Times New Roman\"\n",
    "heading_font.size = Pt(16)\n",
    "\n",
    "def change_orientation():\n",
    "    current_section = doc.sections[-1]\n",
    "    new_width, new_height = current_section.page_height, current_section.page_width\n",
    "    new_section = doc.add_section(WD_SECTION.NEW_PAGE)\n",
    "    new_section.orientation = WD_ORIENT.LANDSCAPE\n",
    "    new_section.page_width = new_width\n",
    "    new_section.page_height = new_height\n",
    "    return new_section\n",
    "\n",
    "change_orientation()\n",
    "doc.add_heading(\"Expression of TFs that bind to highly active fragments\", 1)\n",
    "t = doc.add_table(rows=1, cols=table_df.shape[1])\n",
    "t.style = 'TableGrid'\n",
    "# Add the column headings\n",
    "for j in range(table_df.shape[1]):\n",
    "    t.cell(0, j).text = table_df.columns[j]\n",
    "# Add the body of the data frame\n",
    "for i in range(table_df.shape[0]):\n",
    "    row = t.add_row()\n",
    "    for j in range(table_df.shape[1]):\n",
    "        cell = table_df.iat[i, j]\n",
    "        if not type(cell) == str:\n",
    "            cell = f\"{cell:.2E}\"\n",
    "        row.cells[j].text = cell\n",
    "\n",
    "doc.save(\"../data/tables/highly_active_fragments_TF.docx\")"
   ]
  },
  {
   "cell_type": "code",
   "execution_count": null,
   "metadata": {},
   "outputs": [],
   "source": []
  }
 ],
 "metadata": {
  "kernelspec": {
   "display_name": "Python 3",
   "language": "python",
   "name": "python3"
  },
  "language_info": {
   "codemirror_mode": {
    "name": "ipython",
    "version": 3
   },
   "file_extension": ".py",
   "mimetype": "text/x-python",
   "name": "python",
   "nbconvert_exporter": "python",
   "pygments_lexer": "ipython3",
   "version": "3.9.16"
  },
  "orig_nbformat": 4
 },
 "nbformat": 4,
 "nbformat_minor": 2
}
