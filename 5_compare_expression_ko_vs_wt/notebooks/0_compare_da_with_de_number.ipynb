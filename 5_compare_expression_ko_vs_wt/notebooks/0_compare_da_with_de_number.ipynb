{
 "cells": [
  {
   "cell_type": "code",
   "execution_count": 1,
   "metadata": {},
   "outputs": [],
   "source": [
    "import os\n",
    "import pandas as pd"
   ]
  },
  {
   "cell_type": "code",
   "execution_count": 2,
   "metadata": {},
   "outputs": [],
   "source": [
    "def get_deseq2_outfile(store_dir, ko):\n",
    "    deseq_outfile = os.path.join(store_dir, f\"{ko}vsCC\", \"de_results.csv\")\n",
    "    return deseq_outfile\n",
    "\n",
    "def get_de_genes(filename):\n",
    "    de_df = pd.read_csv(filename)\n",
    "    sig_df = de_df.loc[de_df.padj<0.01]\n",
    "    return sig_df\n",
    " "
   ]
  },
  {
   "cell_type": "code",
   "execution_count": 5,
   "metadata": {},
   "outputs": [],
   "source": [
    "store_dir = \"../data/results/de/\"\n",
    "ko_lines = [\"ATF2\", \"CTCF\", \"FOXA1\", \"LEF1\", \"SCRT1\", \"TCF7L2\", \"16P12_1\"]"
   ]
  },
  {
   "cell_type": "code",
   "execution_count": 6,
   "metadata": {},
   "outputs": [],
   "source": [
    "def create_ko_df(store_dir, ko_lines):\n",
    "    data_dict = {f\"{ko}\":[] for ko in ko_lines}\n",
    "    for ko in ko_lines:\n",
    "        deseq_file = get_deseq2_outfile(store_dir, ko)\n",
    "        sig_genes_df = get_de_genes(deseq_file)\n",
    "        data_dict[ko].append(len(sig_genes_df))\n",
    "    df = pd.DataFrame(data=data_dict, columns=ko_lines)\n",
    "    return df"
   ]
  },
  {
   "cell_type": "code",
   "execution_count": 7,
   "metadata": {},
   "outputs": [
    {
     "data": {
      "text/html": [
       "<div>\n",
       "<style scoped>\n",
       "    .dataframe tbody tr th:only-of-type {\n",
       "        vertical-align: middle;\n",
       "    }\n",
       "\n",
       "    .dataframe tbody tr th {\n",
       "        vertical-align: top;\n",
       "    }\n",
       "\n",
       "    .dataframe thead th {\n",
       "        text-align: right;\n",
       "    }\n",
       "</style>\n",
       "<table border=\"1\" class=\"dataframe\">\n",
       "  <thead>\n",
       "    <tr style=\"text-align: right;\">\n",
       "      <th></th>\n",
       "      <th>ATF2</th>\n",
       "      <th>CTCF</th>\n",
       "      <th>FOXA1</th>\n",
       "      <th>LEF1</th>\n",
       "      <th>SCRT1</th>\n",
       "      <th>TCF7L2</th>\n",
       "      <th>16P12_1</th>\n",
       "    </tr>\n",
       "  </thead>\n",
       "  <tbody>\n",
       "    <tr>\n",
       "      <th>0</th>\n",
       "      <td>13858</td>\n",
       "      <td>7585</td>\n",
       "      <td>7632</td>\n",
       "      <td>6493</td>\n",
       "      <td>4055</td>\n",
       "      <td>7795</td>\n",
       "      <td>5811</td>\n",
       "    </tr>\n",
       "  </tbody>\n",
       "</table>\n",
       "</div>"
      ],
      "text/plain": [
       "    ATF2  CTCF  FOXA1  LEF1  SCRT1  TCF7L2  16P12_1\n",
       "0  13858  7585   7632  6493   4055    7795     5811"
      ]
     },
     "execution_count": 7,
     "metadata": {},
     "output_type": "execute_result"
    }
   ],
   "source": [
    "create_ko_df(store_dir, ko_lines)"
   ]
  },
  {
   "cell_type": "code",
   "execution_count": null,
   "metadata": {},
   "outputs": [],
   "source": []
  }
 ],
 "metadata": {
  "kernelspec": {
   "display_name": "starrseq",
   "language": "python",
   "name": "python3"
  },
  "language_info": {
   "codemirror_mode": {
    "name": "ipython",
    "version": 3
   },
   "file_extension": ".py",
   "mimetype": "text/x-python",
   "name": "python",
   "nbconvert_exporter": "python",
   "pygments_lexer": "ipython3",
   "version": "3.9.7"
  },
  "orig_nbformat": 4,
  "vscode": {
   "interpreter": {
    "hash": "06856c2527dea3cf472b3c4994ec564df76496982852535c5a9520cd26601212"
   }
  }
 },
 "nbformat": 4,
 "nbformat_minor": 2
}
