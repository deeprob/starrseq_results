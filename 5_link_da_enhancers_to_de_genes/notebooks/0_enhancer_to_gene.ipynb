{
 "cells": [
  {
   "attachments": {},
   "cell_type": "markdown",
   "metadata": {},
   "source": [
    "# The sum of the enhancer strengths per gene correlated well with gene expression levels on average"
   ]
  },
  {
   "cell_type": "code",
   "execution_count": 1,
   "metadata": {},
   "outputs": [],
   "source": [
    "import os\n",
    "import numpy as np\n",
    "import pandas as pd"
   ]
  },
  {
   "cell_type": "code",
   "execution_count": 2,
   "metadata": {},
   "outputs": [],
   "source": [
    "meta_df = pd.read_csv(\"/data5/deepro/starrseq/papers/results/1_categorize_fragments_on_activity/data/meta_activity_map.csv\")"
   ]
  },
  {
   "cell_type": "code",
   "execution_count": 3,
   "metadata": {},
   "outputs": [],
   "source": [
    "def get_enhancer_to_gene_maps(filename):\n",
    "    df = pd.read_csv(filename, sep=\"\\t\")\n",
    "    df[\"enhancer_id\"] = df.chr + \"_\" + df.start.astype(str) + \"_\" + df.end.astype(str)\n",
    "    return df.loc[:, [\"enhancer_id\", \"TargetGene\"]]\n",
    "\n",
    "def get_tpm_normalized_gene_expression(filename):\n",
    "    df = pd.read_csv(filename, sep=\"\\t\", index_col=[0, 1], skipfooter=5, engine=\"python\")\n",
    "    df = (df*1e6/df.sum()).mean(axis=1)\n",
    "    return df\n",
    "\n",
    "def get_meta_gene_exp_df(store_dir, ko_lines):\n",
    "    df_list = []\n",
    "    for ko in ko_lines:\n",
    "        exp_file = os.path.join(store_dir, ko, \"counts.tsv\")\n",
    "        exp_df = get_tpm_normalized_gene_expression(exp_file)\n",
    "        df_list.append(exp_df)\n",
    "    exp_df = pd.concat(df_list, axis=1)\n",
    "    exp_df.columns = ko_lines\n",
    "    return exp_df.reset_index()\n",
    "\n",
    "def add_enhancer_activity(enhancer_mapped_df, meta_df):\n",
    "    df = enhancer_mapped_df.merge(meta_df, left_on=\"enhancer_id\", right_on=\"chrom_coord\")\n",
    "    return df.loc[:, ['enhancer_id', 'TargetGene', 'chrom_coord', 'CC', 'ATF2', 'CTCF', 'FOXA1', 'LEF1', 'SCRT1', 'TCF7L2', '16P12_1']]"
   ]
  },
  {
   "cell_type": "code",
   "execution_count": 4,
   "metadata": {},
   "outputs": [],
   "source": [
    "ko_lines = [\"CC\", \"ATF2\", \"CTCF\", \"FOXA1\", \"LEF1\", \"SCRT1\", \"TCF7L2\", \"16P12_1\"]\n",
    "store_dir = \"/data5/deepro/starrseq/papers/results/4_compare_expression_ko_vs_wt/data/results/count/\""
   ]
  },
  {
   "cell_type": "code",
   "execution_count": 5,
   "metadata": {},
   "outputs": [],
   "source": [
    "exp_df = get_meta_gene_exp_df(store_dir, ko_lines)"
   ]
  },
  {
   "cell_type": "code",
   "execution_count": 6,
   "metadata": {},
   "outputs": [
    {
     "name": "stdout",
     "output_type": "stream",
     "text": [
      "activity_from_chip_nohic\n",
      "-0.0007132011680875336\n",
      "activity_from_chip_with_hic\n",
      "-0.011343843720973574\n",
      "activity_from_starr_nohic\n",
      "-0.007176064629292069\n",
      "activity_from_starr_with_hic\n",
      "0.0035361997419982865\n"
     ]
    }
   ],
   "source": [
    "prediction_types = [\"activity_from_chip_nohic\", \"activity_from_chip_with_hic\", \"activity_from_starr_nohic\", \"activity_from_starr_with_hic\"]\n",
    "\n",
    "for pt in prediction_types:\n",
    "    enhancer_mapped_file = os.path.join(f\"/data5/deepro/starrseq/papers/results/5_link_da_enhancers_to_de_genes/data/predictions/{pt}/EnhancerPredictionsFull.txt\")\n",
    "    enhancer_mapped_df = get_enhancer_to_gene_maps(enhancer_mapped_file)\n",
    "    enhancer_mapped_with_activity = add_enhancer_activity(enhancer_mapped_df, meta_df)\n",
    "    enhancer_mapped_with_activity_with_expression = enhancer_mapped_with_activity.merge(exp_df, left_on=\"TargetGene\", right_on=\"gene_id\", suffixes=(\"_act\", \"_exp\"))    \n",
    "    gene_with_enhancer_df = enhancer_mapped_with_activity_with_expression.groupby(\n",
    "        [\"TargetGene\", \"gene_id\", \"gene_name\", \"CC_exp\", \n",
    "        \"ATF2_exp\", \"CTCF_exp\", \"FOXA1_exp\", \"LEF1_exp\", \n",
    "        \"SCRT1_exp\", \"TCF7L2_exp\",\t\"16P12_1_exp\"]).aggregate(\n",
    "        {\"enhancer_id\": lambda x: \",\".join(x),\n",
    "        \"chrom_coord\": lambda x: \",\".join(x), \n",
    "        \"CC_act\": np.sum, \n",
    "        \"ATF2_act\": np.sum,\n",
    "        \"CTCF_act\": np.sum, \n",
    "        \"FOXA1_act\": np.sum, \n",
    "        \"LEF1_act\": np.sum, \n",
    "        \"SCRT1_act\": np.sum, \n",
    "        \"TCF7L2_act\": np.sum,\n",
    "        \"16P12_1_act\": np.sum \n",
    "        }).reset_index()\n",
    "    expression_df = gene_with_enhancer_df.melt(id_vars=[\"enhancer_id\", \"gene_id\", \"gene_name\"], value_vars=['CC_exp', 'ATF2_exp', 'CTCF_exp', 'FOXA1_exp', 'LEF1_exp', 'SCRT1_exp', 'TCF7L2_exp', '16P12_1_exp'], value_name=\"exp\", var_name=\"ko\")\n",
    "    activity_df = gene_with_enhancer_df.melt(id_vars=[\"enhancer_id\", \"gene_id\", \"gene_name\"], value_vars=['CC_act', 'ATF2_act', 'CTCF_act', 'FOXA1_act', 'LEF1_act', 'SCRT1_act', 'TCF7L2_act', '16P12_1_act'], value_name=\"act\", var_name=\"ko\")\n",
    "    print(pt)\n",
    "    print(activity_df.act.corr(expression_df.exp))"
   ]
  },
  {
   "cell_type": "code",
   "execution_count": 8,
   "metadata": {},
   "outputs": [],
   "source": [
    "import seaborn as sns"
   ]
  },
  {
   "cell_type": "code",
   "execution_count": 14,
   "metadata": {},
   "outputs": [
    {
     "data": {
      "text/plain": [
       "<AxesSubplot:xlabel='act', ylabel='exp'>"
      ]
     },
     "execution_count": 14,
     "metadata": {},
     "output_type": "execute_result"
    },
    {
     "data": {
      "image/png": "[encoded data removed]",
      "text/plain": [
       "<Figure size 432x288 with 1 Axes>"
      ]
     },
     "metadata": {
      "needs_background": "light"
     },
     "output_type": "display_data"
    }
   ],
   "source": [
    "sns.scatterplot(x=activity_df.act, y=expression_df.exp, s=7.5)"
   ]
  },
  {
   "cell_type": "code",
   "execution_count": null,
   "metadata": {},
   "outputs": [],
   "source": []
  }
 ],
 "metadata": {
  "kernelspec": {
   "display_name": "starrseq",
   "language": "python",
   "name": "python3"
  },
  "language_info": {
   "codemirror_mode": {
    "name": "ipython",
    "version": 3
   },
   "file_extension": ".py",
   "mimetype": "text/x-python",
   "name": "python",
   "nbconvert_exporter": "python",
   "pygments_lexer": "ipython3",
   "version": "3.9.7"
  },
  "orig_nbformat": 4,
  "vscode": {
   "interpreter": {
    "hash": "06856c2527dea3cf472b3c4994ec564df76496982852535c5a9520cd26601212"
   }
  }
 },
 "nbformat": 4,
 "nbformat_minor": 2
}
