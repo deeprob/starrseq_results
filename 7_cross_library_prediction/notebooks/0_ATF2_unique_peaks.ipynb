{
 "cells": [
  {
   "cell_type": "code",
   "execution_count": 1,
   "metadata": {},
   "outputs": [],
   "source": [
    "import numpy as np\n",
    "import pandas as pd\n",
    "import matplotlib.pyplot as plt\n",
    "from pyfaidx import Fasta\n",
    "import logomaker\n",
    "\n",
    "# plotting modules\n",
    "from matplotlib.ticker import MultipleLocator\n",
    "import matplotlib.colors as colors\n",
    "import matplotlib\n",
    "import matplotlib.pyplot as plt\n",
    "matplotlib.rcParams['pdf.fonttype'] = 42\n",
    "matplotlib.rcParams['ps.fonttype'] = 42\n",
    "matplotlib.rcParams['font.sans-serif'] = \"Arial\" # missing fonts:: https://alexanderlabwhoi.github.io/post/2021-03-missingfont/\n",
    "# Then, \"ALWAYS use sans-serif fonts\"\n",
    "matplotlib.rcParams['font.family'] = \"sans-serif\"\n",
    "matplotlib.rcParams.update({'font.size': 14, 'axes.linewidth': 2, 'xtick.major.width': 1.5, 'xtick.major.size': 5, 'ytick.major.width': 1.5, 'ytick.major.size': 4})\n",
    "from matplotlib.backends.backend_pdf import PdfPages"
   ]
  },
  {
   "cell_type": "code",
   "execution_count": 2,
   "metadata": {},
   "outputs": [],
   "source": [
    "def save_pdf(save_file, fig):\n",
    "    pdf = PdfPages(save_file)\n",
    "    pdf.savefig(fig, bbox_inches='tight', dpi=300)\n",
    "    pdf.close()\n",
    "    return"
   ]
  },
  {
   "cell_type": "code",
   "execution_count": 3,
   "metadata": {},
   "outputs": [],
   "source": [
    "# global files\n",
    "meta_act_file = \"/data5/deepro/starrseq/papers/results/2_categorize_fragments_on_activity/data/meta_activity_map.csv\"\n",
    "genome_fasta = \"/data5/deepro/genomes/hg38/GRCh38_no_alt_analysis_set_GCA_000001405.15.fasta\"\n",
    "rna_features_file = \"/data5/deepro/starrseq/papers/results/7_cross_library_prediction/data/ATF2/peaks_vs_notpeaks/rna_features.h5\"\n",
    "\n",
    "# library files\n",
    "nlinear_loc_arr_file = \"/data5/deepro/starrseq/papers/results/7_cross_library_prediction/data/ATF2/peaks_vs_notpeaks/non_linear/locations.npy\"\n",
    "nlinear_seq_arr_file = \"/data5/deepro/starrseq/papers/results/7_cross_library_prediction/data/ATF2/peaks_vs_notpeaks/non_linear/seq_attr.npy\"\n",
    "nlinear_pred_file = \"/data5/deepro/starrseq/papers/results/7_cross_library_prediction/data/ATF2/peaks_vs_notpeaks/non_linear/resnet_mlp.csv.gz\"\n",
    "nlinear_addn_arr_file = \"/data5/deepro/starrseq/papers/results/7_cross_library_prediction/data/ATF2/peaks_vs_notpeaks/non_linear/addn_attr.npy\""
   ]
  },
  {
   "cell_type": "code",
   "execution_count": 4,
   "metadata": {},
   "outputs": [],
   "source": [
    "meta_act_df = pd.read_csv(meta_act_file, low_memory=False)"
   ]
  },
  {
   "cell_type": "code",
   "execution_count": 5,
   "metadata": {},
   "outputs": [],
   "source": [
    "genome = Fasta(genome_fasta, as_raw=True)"
   ]
  },
  {
   "cell_type": "code",
   "execution_count": 6,
   "metadata": {},
   "outputs": [],
   "source": [
    "features = pd.read_hdf(rna_features_file, stop=1)\n",
    "features = np.array(features.columns)[1:]"
   ]
  },
  {
   "cell_type": "code",
   "execution_count": 7,
   "metadata": {},
   "outputs": [],
   "source": [
    "def read_pred_files(pred_file, seq_arr_file, loc_arr_file, addn_arr_file=None):\n",
    "    pred_df = pd.read_csv(pred_file, header=None, names=[\"ypred\", \"ytarget\", \"chrm\", \"start\", \"end\"])\n",
    "    seq_arr = np.load(seq_arr_file)\n",
    "    loc_arr = np.load(loc_arr_file)\n",
    "    addn_arr = None\n",
    "    if addn_arr_file:\n",
    "        addn_arr = np.load(addn_arr_file)\n",
    "    return pred_df, seq_arr, loc_arr, addn_arr\n",
    "\n",
    "def create_seq_attr_df(seq, seq_attr):\n",
    "    data_arr = np.zeros((len(seq), 4))\n",
    "    nts = [\"A\", \"T\", \"G\", \"C\"]\n",
    "    seq_idx = dict(zip(nts, range(len(nts))))\n",
    "    for i, (s, sq) in enumerate(zip(seq, seq_attr)):\n",
    "        data_arr[i, seq_idx[s]] = sq\n",
    "    data_df = pd.DataFrame(data_arr, columns=nts)\n",
    "    return data_df\n",
    "\n",
    "def get_complement(seq):\n",
    "    complement_dict = {\n",
    "        \"A\": \"T\",\n",
    "        \"G\": \"C\",\n",
    "        \"T\": \"A\",\n",
    "        \"C\": \"G\",\n",
    "        \"N\": \"N\"\n",
    "        }    \n",
    "    rev_comp_seq = \"\".join([complement_dict[s] for s in seq])\n",
    "    return rev_comp_seq\n",
    "\n",
    "def create_seqattr_figure(seq, seq_attr, nrows=5, figsize=(15, 10)):\n",
    "    seq_df = create_seq_attr_df(seq, seq_attr)\n",
    "    bp_per_row=len(seq)//nrows\n",
    "    fig, ax = plt.subplots(nrows, 1, figsize=figsize, sharey=True)\n",
    "    start = 0\n",
    "    for row in range(nrows):\n",
    "        # create Logo object\n",
    "        ax_row = ax[row] if nrows>1 else ax\n",
    "        nn_logo = logomaker.Logo(seq_df.iloc[start:start+bp_per_row], ax=ax_row,)\n",
    "        nn_logo.ax.set_xticks([])\n",
    "        start += bp_per_row\n",
    "        ax_row.spines[['right', 'top', \"bottom\"]].set_visible(False)\n",
    "        ax_row.xaxis.set_visible(False)\n",
    "        # ax[row].set_yticks([])\n",
    "        ax_row.set_ylim(seq_attr.min(), seq_attr.max())\n",
    "    return fig, ax"
   ]
  },
  {
   "cell_type": "code",
   "execution_count": 8,
   "metadata": {},
   "outputs": [],
   "source": [
    "nlinear_pred_df, nlinear_seq_arr, nlinear_loc_arr, nlinear_addn_arr = read_pred_files(nlinear_pred_file, nlinear_seq_arr_file, nlinear_loc_arr_file, nlinear_addn_arr_file)"
   ]
  },
  {
   "cell_type": "code",
   "execution_count": 9,
   "metadata": {},
   "outputs": [],
   "source": [
    "libraries = [\"CC\", \"ATF2\", \"CTCF\", \"FOXA1\", \"LEF1\", \"SCRT1\", \"TCF7L2\"]\n",
    "lib = \"ATF2\"\n",
    "peak_lib = f\"{lib}_peak\"\n",
    "other_peak_libs = [f\"{l}_peak\" for l in libraries if l!=lib]"
   ]
  },
  {
   "cell_type": "code",
   "execution_count": 10,
   "metadata": {},
   "outputs": [],
   "source": [
    "potential_gained = meta_act_df.loc[(meta_act_df.loc[:, other_peak_libs].sum(axis=1)>4)&(meta_act_df[peak_lib]==0)].chrom_coord.str.split(\"_\", expand=True).reset_index(drop=True)\n",
    "potential_gained.columns = [\"chrm\", \"start\", \"end\"]\n",
    "potential_gained[\"start\"] = potential_gained.start.astype(\"int64\")\n",
    "potential_gained[\"end\"] = potential_gained.end.astype(\"int64\")"
   ]
  },
  {
   "cell_type": "code",
   "execution_count": 11,
   "metadata": {},
   "outputs": [],
   "source": [
    "potential_gained_pred = nlinear_pred_df.reset_index().merge(potential_gained, on=[\"chrm\", \"start\", \"end\"])"
   ]
  },
  {
   "cell_type": "code",
   "execution_count": 12,
   "metadata": {},
   "outputs": [
    {
     "data": {
      "text/html": [
       "<div>\n",
       "<style scoped>\n",
       "    .dataframe tbody tr th:only-of-type {\n",
       "        vertical-align: middle;\n",
       "    }\n",
       "\n",
       "    .dataframe tbody tr th {\n",
       "        vertical-align: top;\n",
       "    }\n",
       "\n",
       "    .dataframe thead th {\n",
       "        text-align: right;\n",
       "    }\n",
       "</style>\n",
       "<table border=\"1\" class=\"dataframe\">\n",
       "  <thead>\n",
       "    <tr style=\"text-align: right;\">\n",
       "      <th></th>\n",
       "      <th>ypred</th>\n",
       "      <th>ytarget</th>\n",
       "      <th>chrm</th>\n",
       "      <th>start</th>\n",
       "      <th>end</th>\n",
       "    </tr>\n",
       "    <tr>\n",
       "      <th>index</th>\n",
       "      <th></th>\n",
       "      <th></th>\n",
       "      <th></th>\n",
       "      <th></th>\n",
       "      <th></th>\n",
       "    </tr>\n",
       "  </thead>\n",
       "  <tbody>\n",
       "    <tr>\n",
       "      <th>226917</th>\n",
       "      <td>0.003656</td>\n",
       "      <td>0</td>\n",
       "      <td>chr18</td>\n",
       "      <td>44789125</td>\n",
       "      <td>44789625</td>\n",
       "    </tr>\n",
       "    <tr>\n",
       "      <th>231127</th>\n",
       "      <td>0.004900</td>\n",
       "      <td>0</td>\n",
       "      <td>chr17</td>\n",
       "      <td>15963484</td>\n",
       "      <td>15963984</td>\n",
       "    </tr>\n",
       "    <tr>\n",
       "      <th>227779</th>\n",
       "      <td>0.009230</td>\n",
       "      <td>0</td>\n",
       "      <td>chr12</td>\n",
       "      <td>10717097</td>\n",
       "      <td>10717597</td>\n",
       "    </tr>\n",
       "    <tr>\n",
       "      <th>231610</th>\n",
       "      <td>0.009759</td>\n",
       "      <td>0</td>\n",
       "      <td>chr7</td>\n",
       "      <td>24970924</td>\n",
       "      <td>24971424</td>\n",
       "    </tr>\n",
       "    <tr>\n",
       "      <th>231903</th>\n",
       "      <td>0.012040</td>\n",
       "      <td>0</td>\n",
       "      <td>chr1</td>\n",
       "      <td>162094319</td>\n",
       "      <td>162094819</td>\n",
       "    </tr>\n",
       "    <tr>\n",
       "      <th>...</th>\n",
       "      <td>...</td>\n",
       "      <td>...</td>\n",
       "      <td>...</td>\n",
       "      <td>...</td>\n",
       "      <td>...</td>\n",
       "    </tr>\n",
       "    <tr>\n",
       "      <th>230352</th>\n",
       "      <td>0.467169</td>\n",
       "      <td>0</td>\n",
       "      <td>chr6</td>\n",
       "      <td>13248292</td>\n",
       "      <td>13248792</td>\n",
       "    </tr>\n",
       "    <tr>\n",
       "      <th>231116</th>\n",
       "      <td>0.471071</td>\n",
       "      <td>0</td>\n",
       "      <td>chr5</td>\n",
       "      <td>177269721</td>\n",
       "      <td>177270221</td>\n",
       "    </tr>\n",
       "    <tr>\n",
       "      <th>230851</th>\n",
       "      <td>0.483148</td>\n",
       "      <td>0</td>\n",
       "      <td>chr5</td>\n",
       "      <td>174425415</td>\n",
       "      <td>174425915</td>\n",
       "    </tr>\n",
       "    <tr>\n",
       "      <th>231263</th>\n",
       "      <td>0.492942</td>\n",
       "      <td>0</td>\n",
       "      <td>chr17</td>\n",
       "      <td>44193596</td>\n",
       "      <td>44194096</td>\n",
       "    </tr>\n",
       "    <tr>\n",
       "      <th>228357</th>\n",
       "      <td>0.497899</td>\n",
       "      <td>0</td>\n",
       "      <td>chr6</td>\n",
       "      <td>149079498</td>\n",
       "      <td>149079998</td>\n",
       "    </tr>\n",
       "  </tbody>\n",
       "</table>\n",
       "<p>98 rows × 5 columns</p>\n",
       "</div>"
      ],
      "text/plain": [
       "           ypred  ytarget   chrm      start        end\n",
       "index                                                 \n",
       "226917  0.003656        0  chr18   44789125   44789625\n",
       "231127  0.004900        0  chr17   15963484   15963984\n",
       "227779  0.009230        0  chr12   10717097   10717597\n",
       "231610  0.009759        0   chr7   24970924   24971424\n",
       "231903  0.012040        0   chr1  162094319  162094819\n",
       "...          ...      ...    ...        ...        ...\n",
       "230352  0.467169        0   chr6   13248292   13248792\n",
       "231116  0.471071        0   chr5  177269721  177270221\n",
       "230851  0.483148        0   chr5  174425415  174425915\n",
       "231263  0.492942        0  chr17   44193596   44194096\n",
       "228357  0.497899        0   chr6  149079498  149079998\n",
       "\n",
       "[98 rows x 5 columns]"
      ]
     },
     "execution_count": 12,
     "metadata": {},
     "output_type": "execute_result"
    }
   ],
   "source": [
    "potential_gained_pred.loc[potential_gained_pred.ypred<0.5].set_index(\"index\").sort_values(\"ypred\")"
   ]
  },
  {
   "cell_type": "code",
   "execution_count": 13,
   "metadata": {},
   "outputs": [],
   "source": [
    "def get_seq_info(nlinear_pred_df, genome, nlinear_seq_arr, idx, reverse=False):\n",
    "    chrm, start, end = nlinear_pred_df.iloc[idx].loc[[\"chrm\", \"start\", \"end\"]].values\n",
    "    seq = list(genome.get_seq(chrm, start, end))\n",
    "    if reverse:\n",
    "        seq = get_complement(seq)\n",
    "    seq_attr = nlinear_seq_arr[idx]\n",
    "    return seq, seq_attr, (chrm, start, end)\n",
    "\n",
    "def get_gene_info(nlinear_addn_arr, features, idx, reverse=True):\n",
    "    addn_attr = nlinear_addn_arr[idx]\n",
    "    best_attr_idxs = np.argsort(addn_attr)\n",
    "    if reverse:\n",
    "        best_attr_idxs = best_attr_idxs[::-1]\n",
    "    return dict(zip(features[best_attr_idxs[:5]], addn_attr[best_attr_idxs[:5]]))"
   ]
  },
  {
   "cell_type": "code",
   "execution_count": 14,
   "metadata": {},
   "outputs": [],
   "source": [
    "# IDX = 140 # okay results UQCRC1 idx 140 potential gained # good C1QL4 gene giving a negative score to this region although sequence had the signals.\n",
    "# s, sa, (chrm, start, end) = get_seq_info(nlinear_pred_df, genome, nlinear_seq_arr, IDX) \n",
    "# genes = get_gene_info(nlinear_addn_arr, features, IDX, reverse=True)\n",
    "# create_seqattr_figure(s, sa, nrows=5, figsize=(15, 10)), genes"
   ]
  },
  {
   "cell_type": "code",
   "execution_count": 15,
   "metadata": {},
   "outputs": [
    {
     "name": "stdout",
     "output_type": "stream",
     "text": [
      "{'C1QL4': -0.00638313320253863, 'ENSG00000274964': -0.005933398998580177, 'SYNGR3': -0.005448425742237084, 'ZNF783': -0.0054452024118200725, 'ENSG00000264937': -0.005038748024386549}\n"
     ]
    },
    {
     "data": {
      "image/png": "[encoded data removed]",
      "text/plain": [
       "<Figure size 1000x200 with 1 Axes>"
      ]
     },
     "metadata": {},
     "output_type": "display_data"
    }
   ],
   "source": [
    "IDX = 227779 # okay results UQCRC1 idx 140 potential gained # good C1QL4 gene giving a negative score to this region although sequence had the signals.\n",
    "s, sa, (chrm, start, end) = get_seq_info(nlinear_pred_df, genome, nlinear_seq_arr, IDX) \n",
    "genes = get_gene_info(nlinear_addn_arr, features, IDX, reverse=False)\n",
    "fig, ax = create_seqattr_figure(s[450:500], sa[450:500], nrows=1, figsize=(10, 2))\n",
    "print(genes)\n",
    "save_file = \"../data/figures/gene_learning.pdf\"\n",
    "save_pdf(save_file, fig)"
   ]
  },
  {
   "attachments": {},
   "cell_type": "markdown",
   "metadata": {},
   "source": [
    "Searched TOMTOM and found this to be the p63 motif"
   ]
  }
 ],
 "metadata": {
  "kernelspec": {
   "display_name": "Python 3",
   "language": "python",
   "name": "python3"
  },
  "language_info": {
   "codemirror_mode": {
    "name": "ipython",
    "version": 3
   },
   "file_extension": ".py",
   "mimetype": "text/x-python",
   "name": "python",
   "nbconvert_exporter": "python",
   "pygments_lexer": "ipython3",
   "version": "3.7.12"
  },
  "orig_nbformat": 4
 },
 "nbformat": 4,
 "nbformat_minor": 2
}
